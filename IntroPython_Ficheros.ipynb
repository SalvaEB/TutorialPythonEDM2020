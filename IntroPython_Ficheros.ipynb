{
 "cells": [
  {
   "cell_type": "markdown",
   "metadata": {},
   "source": [
    "# Ficheros"
   ]
  },
  {
   "cell_type": "markdown",
   "metadata": {},
   "source": [
    "## Apertura y cierre de ficheros\n",
    "\n",
    "Para leer un fichero necesitamos \"abrirlo\" y obtener un objeto de tipo fichero. Para ello se utiliza la función `open` que recibe como primer argumento la **ruta** del fichero.\n",
    "\n",
    "La ruta permite localizar el fichero. Puede ser:\n",
    "- ruta **relativa** al propio directorio en el que está trabajando Python (**working directory/folder**). El caso más habitual es únicamente el nombre del fichero o incluir algún directorio tal que se pueda navegar desde el directorio actual hasta ese fichero.\n",
    "- ruta **absoluta**: no depende del directorio de trabajo.\n",
    "\n",
    "Ejemplo de cómo abrir un fichero en modo lectura usando `open`:\n",
    "\n",
    "```python\n",
    "with open(filename, 'r') as f:\n",
    "    # en este punto utilizaríamos f para leer el fichero\n",
    "    read_data = f.read()\n",
    "```\n",
    "\n",
    "La llamada a `open` puede llevar más argumentos:\n",
    "\n",
    "```\n",
    "open(file, mode='r', buffering=-1, encoding=None, errors=None,\n",
    "     newline=None, closefd=True, opener=None)\n",
    "```\n",
    "\n",
    "- Los valores más relevantes para `mode` son:\n",
    "\n",
    "    - `'r'` modo lectura\n",
    "    - `'w'` modo escritura\n",
    "    - `'b'` modo binario: lee/escribe bytes y no realiza ningún proceso de codificación/decodificación\n",
    "    - `'t'` modo texto\n",
    "\n",
    "    Las opciones `b` y `t` se pueden combinar (como prefijo) a los modos `r` y `w`.\n",
    "\n",
    "- El argumento `encoding` sólo tiene sentido en modo texto (no en binario) y puede ser una cadena con el nombre de un encoding (ejemplos: `'UTF-8'` y `'latin1'`).\n",
    "\n",
    "- El argumento `newline`, también usado en modo texto, tiene que ver con cómo se procesan los cambios de línea sea en lectura sea en escritura. Mirar el manual para más detalles (lamentablemente, no todos los sistemas operativos generan el mismo tipo de cambio de línea, algunos de tipo `'\\r'`, otros `'\\n'` e incluso algunos `'\\r\\n'`."
   ]
  },
  {
   "cell_type": "markdown",
   "metadata": {},
   "source": [
    "### ¿Abrir y cerrar el fichero con `open` y `close`?\n",
    "\n",
    "Una alternativa a utilizar:\n",
    "\n",
    "```python\n",
    "with open(filename, ...) as f:\n",
    "    # en este punto utilizaríamos f para leer el fichero\n",
    "```\n",
    "\n",
    "es:\n",
    "\n",
    "```python\n",
    "f = open(filename, ...)\n",
    "# en este punto utilizaríamos f para leer el fichero\n",
    "f.close()\n",
    "```\n",
    "\n",
    "Pero es **preferible** utilizar `with`. Citando el [manual de Python](https://docs.python.org/3/tutorial/inputoutput.html#reading-and-writing-files):\n",
    "\n",
    "> It is good practice to use the `with` keyword when dealing with file objects. The advantage is that the file is properly closed after its suite finishes, even if an exception is raised at some point. Using with is also much shorter than writing equivalent `try-finally` blocks.\n",
    "\n",
    "Digamos que con `with`:\n",
    "\n",
    "- Nunca te olvidas de que se cierre el fichero. Se cierra automáticamente al salir del bloque.\n",
    "- Muy importante: si por cualquier motivo se produce un error (una excepción), con `with` se cerrará el fichero. Esto podría no suceder con la otra alternativa si por culpa de la excepción no se ejecuta el código de `f.close()`.\n"
   ]
  },
  {
   "cell_type": "markdown",
   "metadata": {},
   "source": [
    "## Lectura de datos del fichero\n",
    "\n",
    "Una vez abierto el fichero, podemos leer **todo su contenido** con el método `read`:\n",
    "\n",
    "```python\n",
    "with open(filename, 'r') as f:\n",
    "    read_data = f.read()\n",
    "    print(\"El contenido íntegro del fichero es:\",read_data)\n",
    "```\n",
    "\n",
    "Pero, cuando los ficheros son enormes o porque simplemente nos convenga leerlo línea por línea, podemos iterar directamente sobre el objeto fichero, en cuyo caso irá dándonos los datos **línea por línea**:\n",
    "\n",
    "```python\n",
    "with open(filename, 'r') as f:\n",
    "    for linea in f:\n",
    "        print(linea)\n",
    "```\n",
    "\n",
    "**Nota:** normalmente las líneas leídas del fichero contienen el cambio de línea al final, de manera que las líneas van a salir impresas con líneas en blanco de por medio, a menos que usemos `print(linea,end=\"\")`."
   ]
  },
  {
   "cell_type": "markdown",
   "metadata": {},
   "source": [
    "## Lectura de datos en formato CSV\n",
    "\n",
    "Es probable que si lees ficheros en [formato .csv](https://es.wikipedia.org/wiki/Valores_separados_por_comas) lo hagas directamente desde la biblioteca [pandas](https://pandas.pydata.org) utilizando los [dataframe](https://pandas.pydata.org/pandas-docs/stable/reference/api/pandas.DataFrame.html).\n",
    "\n",
    "También es posible utilizar el módulo csv (ver [enlace](https://docs.python.org/3/library/csv.html)) como en el siguiente ejemplo:"
   ]
  },
  {
   "cell_type": "code",
   "execution_count": 19,
   "metadata": {},
   "outputs": [
    {
     "name": "stdout",
     "output_type": "stream",
     "text": [
      "['Nombre', 'Grupo', 'Par1', 'Par2', 'Clase', 'Practicas']\n",
      "['Alf', 'A', '6.13', '8.25', '8.83', '6.5']\n",
      "['Alien', 'B', '3.4', '5.5', '6.17', '4.5']\n",
      "['Asterix', 'B', '6.95', '3', '7.2', '8.25']\n",
      "['Bart Simpson', 'C', '4.95', '1.1', '0', '0']\n",
      "['Batman', 'C', '7.25', '8.75', '9.92', '10']\n",
      "['Bob Esponja', 'C', '2.2', '0.75', '0', '2.5']\n",
      "['Bugs Bunny', 'A', '1.75', '', '1.67', '']\n",
      "['Buzz Lightyear', 'A', '4.7', '4.95', '8.33', '10']\n",
      "['Capitan Sparrow', 'A', '2.25', '0.25', '6.11', '4']\n",
      "['Captain America', 'A', '2.95', '2.45', '7.22', '7.5']\n",
      "['Catwoman', 'C', '8.75', '8.75', '10', '10']\n",
      "['Chewbacca', 'B', '6.15', '2', '2.67', '3']\n",
      "['Darth Vader', 'A', '7.15', '7.1', '10', '10']\n",
      "['Eduardo Manostijeras', 'B', '1.45', '0.85', '5', '0']\n",
      "['Forrest Gump', 'A', '3.5', '0.35', '1.94', '0']\n",
      "['Freddy Krueger', 'B', '5.55', '4.05', '5.8', '7.25']\n",
      "['Frodo', 'B', '2.8', '0.55', '4.33', '0']\n",
      "['Gandalf', 'B', '9.25', '9.75', '9.63', '10']\n",
      "['Garfield', 'C', '9.15', '9.7', '10', '9.5']\n",
      "['Gollum', 'B', '6.1', '3.65', '6.07', '4']\n",
      "['Harry Potter', 'B', '5.2', '4.5', '4.47', '0']\n",
      "['Hello Kitty', 'B', '8.75', '5.1', '7.22', '2']\n",
      "['Homer Simpson', 'C', '2.45', '0', '0', '4.5']\n",
      "['Hulk', 'A', '6.75', '5.4', '9.44', '9']\n",
      "['Indiana Jones', 'A', '7.7', '2.15', '10', '8']\n",
      "['James Bond', 'C', '4.15', '2.05', '5.28', '4']\n",
      "['Jerry Mouse', 'C', '2', '4.75', '9.67', '10']\n",
      "['La Pantera Rosa', 'A', '8.55', '4.15', '10', '8.2']\n",
      "['Lara Croft', 'C', '6.88', '3.75', '8.25', '10']\n",
      "['Luke Skywalker', 'C', '3.3', '4.05', '9.44', '8']\n",
      "['Mario Bros', 'C', '0.75', '3.25', '8.58', '2.5']\n",
      "['Mary Poppins', 'B', '5.3', '3.35', '4.83', '10']\n",
      "['Mickey Mouse', 'B', '4', '2', '6.93', '']\n",
      "['Obelix', 'A', '6', '1.85', '10', '7.2']\n",
      "['Obi-Wan Kenobi', 'A', '6.7', '4.15', '7.22', '8']\n",
      "['Pato Donald', 'B', '1.75', '0.25', '2.67', '0']\n",
      "['Pedro Picapiedra', 'C', '0.75', '0', '2.22', '0']\n",
      "['Peter Pan', 'A', '6.55', '5.55', '10', '9']\n",
      "['Pikachu', 'B', '1.35', '1', '3.47', '6.75']\n",
      "['Pinocho', 'C', '9.38', '9', '9.42', '8.25']\n",
      "['Popeye', 'A', '9.45', '9.45', '10', '10']\n",
      "['Rocky Balboa', 'B', '2.3', '1.85', '4', '0']\n",
      "['Scooby-Doo', 'A', '3', '1.35', '5', '3']\n",
      "['Sheldon Cooper', 'C', '9.13', '9.25', '9.58', '10']\n",
      "['Sherlock Holmes', 'B', '4.75', '2.5', '4.67', '3.5']\n",
      "['Shin-Chan', 'B', '6.3', '0.5', '3.33', '0']\n",
      "['Shrek', 'A', '2.37', '4.55', '8.9', '0']\n",
      "['Son Gohan', 'B', '4.85', '4.05', '5', '0']\n",
      "['Son Goku', 'C', '9.5', '9.5', '10', '10']\n",
      "['Sonic', 'C', '7.5', '6.5', '8.08', '7']\n",
      "['Steve Urkel', 'B', '1.6', '0', '0.33', '3.25']\n",
      "['Thor', 'A', '9.25', '9.75', '10', '9']\n",
      "['Tintin', 'B', '5.75', '5.75', '4.58', '10']\n",
      "['Vegeta', 'C', '8.75', '6', '6.17', '7']\n",
      "['Vito Corleone', 'B', '5.4', '3.2', '4.57', '2']\n",
      "['Winnie The Pooh', 'B', '5.5', '5.85', '8.53', '7.75']\n",
      "['Woody', 'C', '3.05', '2.05', '0', '2']\n",
      "['Yoda', 'A', '2.25', '0.1', '9.44', '4.5']\n"
     ]
    }
   ],
   "source": [
    "import csv\n",
    "\n",
    "with open('notas.csv', newline='') as csvfile:\n",
    "    spamreader = csv.reader(csvfile, delimiter=';', quotechar='|')\n",
    "    for row in spamreader:\n",
    "        print(repr(row)) # observa que lee TODO COMO CADENAS"
   ]
  },
  {
   "cell_type": "markdown",
   "metadata": {},
   "source": [
    "## Escritura en ficheros\n",
    "\n",
    "Una vez abierto un fichero en modo escritura, podemos escribir en él utilizando métodos como `write`, como `writelines`:"
   ]
  },
  {
   "cell_type": "code",
   "execution_count": 8,
   "metadata": {},
   "outputs": [
    {
     "name": "stdout",
     "output_type": "stream",
     "text": [
      "escribo un 0escribo un 1escribo un 2escribo un 3escribo un 4escribo un 5escribo un 6escribo un 7escribo un 8escribo un 9unodostres\n"
     ]
    }
   ],
   "source": [
    "lineas = [\"uno\",\"dos\",\"tres\"]\n",
    "with open(\"prueba.txt\", 'w') as f:\n",
    "    for i in range(10):\n",
    "        f.write(f'escribo un {i}') # write NO añade \\n!!!!\n",
    "    f.writelines(lineas) # TAMPOCO añade \\n!!!!!!\n",
    "    \n",
    "# vamos a abrir el fichero a ver si está lo que hemos escrito:\n",
    "with open(\"prueba.txt\", 'r') as f:\n",
    "    contenido = f.read()\n",
    "    print(contenido)"
   ]
  },
  {
   "cell_type": "code",
   "execution_count": 10,
   "metadata": {},
   "outputs": [
    {
     "name": "stdout",
     "output_type": "stream",
     "text": [
      "escribo un 0\n",
      "escribo un 1\n",
      "escribo un 2\n",
      "escribo un 3\n",
      "escribo un 4\n",
      "escribo un 5\n",
      "escribo un 6\n",
      "escribo un 7\n",
      "escribo un 8\n",
      "escribo un 9\n",
      "uno\n",
      "dos\n",
      "tres\n",
      "\n"
     ]
    }
   ],
   "source": [
    "# ahora con \\n\n",
    "lineas = [\"uno\",\"dos\",\"tres\"]\n",
    "with open(\"prueba.txt\", 'w') as f:\n",
    "    for i in range(10):\n",
    "        f.write(f'escribo un {i}\\n')\n",
    "    f.writelines(linea+'\\n' for linea in lineas) # listas intensionales...\n",
    "    \n",
    "# vamos a abrir el fichero a ver si está lo que hemos escrito:\n",
    "with open(\"prueba.txt\", 'r') as f:\n",
    "    contenido = f.read()\n",
    "    print(contenido)"
   ]
  },
  {
   "cell_type": "markdown",
   "metadata": {},
   "source": [
    "## Ficheros StringIO\n",
    "\n",
    "En algunos casos nos gustaría usar las mismas operaciones que sobre un fichero pero sin crear un fichero tal cual sino trabajando en la memoria del ordenador:"
   ]
  },
  {
   "cell_type": "code",
   "execution_count": 11,
   "metadata": {},
   "outputs": [
    {
     "name": "stdout",
     "output_type": "stream",
     "text": [
      "uno\n",
      "dos\n",
      "tres\n"
     ]
    }
   ],
   "source": [
    "txt = \"\"\"uno\n",
    "dos\n",
    "tres\"\"\"\n",
    "\n",
    "print(txt)"
   ]
  },
  {
   "cell_type": "code",
   "execution_count": 12,
   "metadata": {},
   "outputs": [
    {
     "name": "stdout",
     "output_type": "stream",
     "text": [
      "uno\n",
      "dos\n",
      "tres"
     ]
    }
   ],
   "source": [
    "from io import StringIO\n",
    "\n",
    "with StringIO(txt) as f:\n",
    "    for line in f:\n",
    "        print(line, end=\"\")"
   ]
  },
  {
   "cell_type": "code",
   "execution_count": 14,
   "metadata": {},
   "outputs": [
    {
     "name": "stdout",
     "output_type": "stream",
     "text": [
      "De qué valor quieres la tabla de multiplicar? 5\n",
      "0 x  5 =   0\n",
      "1 x  5 =   5\n",
      "2 x  5 =  10\n",
      "3 x  5 =  15\n",
      "4 x  5 =  20\n",
      "5 x  5 =  25\n",
      "6 x  5 =  30\n",
      "7 x  5 =  35\n",
      "8 x  5 =  40\n",
      "9 x  5 =  45\n",
      "\n"
     ]
    }
   ],
   "source": [
    "d = int(input(\"De qué valor quieres la tabla de multiplicar? \"))\n",
    "with StringIO(\"contenido inicial\") as f:\n",
    "    for i in range(10):\n",
    "        f.write(f'{i} x {d:2} = {i*d:3}\\n')\n",
    "    tabla = f.getvalue()\n",
    "print(tabla)"
   ]
  },
  {
   "cell_type": "markdown",
   "metadata": {},
   "source": [
    "**Nota:** El ejemplo anterior (y prácticamente cualquier ejemplo) se podría haber realizado sin utilizar `StringIO`. Puede que `StringIO` no lo utilices jamás, la idea es que se puede utilizar **como un fichero**. Por tanto, si tienes código que espere un fichero y quieres el resultado en memoria sin pasar por disco puede ser útil."
   ]
  },
  {
   "cell_type": "code",
   "execution_count": null,
   "metadata": {},
   "outputs": [],
   "source": []
  }
 ],
 "metadata": {
  "kernelspec": {
   "display_name": "Python 3",
   "language": "python",
   "name": "python3"
  },
  "language_info": {
   "codemirror_mode": {
    "name": "ipython",
    "version": 3
   },
   "file_extension": ".py",
   "mimetype": "text/x-python",
   "name": "python",
   "nbconvert_exporter": "python",
   "pygments_lexer": "ipython3",
   "version": "3.6.9"
  }
 },
 "nbformat": 4,
 "nbformat_minor": 2
}
