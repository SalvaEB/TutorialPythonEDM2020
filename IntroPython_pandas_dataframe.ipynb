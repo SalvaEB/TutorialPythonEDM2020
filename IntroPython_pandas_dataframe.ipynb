{
 "cells": [
  {
   "cell_type": "markdown",
   "metadata": {},
   "source": [
    "# Trabajar con datos tabulados: DataFrame de pandas"
   ]
  },
  {
   "cell_type": "markdown",
   "metadata": {},
   "source": [
    "<a id='indice'></a>\n",
    "# Índice\n",
    "1. ### [Introducción](#intro)\n",
    "1. ### [Cómo crear un Dataframe de pandas](#crear_df)\n",
    "1. ### [Mostrar primeras filas, últimas filas o filas aleatorias](#ver_parte)\n",
    "1. ### [Ordenar](#ordenar)\n",
    "1. ### [Seleccionar datos](#sel_datos)\n",
    "    - ### [Seleccionar filas y columnas mediante índices (iloc)](#sel_iloc)\n",
    "    - ### [Seleccionar filas y columnas mediante etiquetas (loc)](#sel_loc)\n",
    "    - ### [Seleccionar en función de una condición](#sel_con)\n",
    "1. ### [Crear nuevas columnas](#nuevas_columnas)\n",
    "1. ### [Funciones resumen: describe, sum, mean, median, count, corr, cov, unique, value_counts, min, max...](#resumen)\n",
    "1. ### [Funciones de mapeo de datos: map y apply](#map_apply)\n",
    "1. ### [Agrupar datos](#agrupar)\n",
    "1. ### [Datos faltantes](#datos_faltantes)\n",
    "1. ### [Guardar el dataframe en un fichero](#guardar)\n",
    "1. ### [Visualización con matplotlib](#visualizacion)\n",
    "1. ### [Ajuste por mínimos cuadrados](#ajuste)\n",
    "\n",
    "\n",
    "\n",
    "**Nota.** Este tutorial cubre aspectos básicos sobre el uso de dataframes en Python. En el siguiente enlace puedes encontrar la [API completa de la clase DataFrame](https://pandas.pydata.org/pandas-docs/stable/reference/frame.html)"
   ]
  },
  {
   "cell_type": "markdown",
   "metadata": {},
   "source": [
    "<a id='crear_df'></a>"
   ]
  },
  {
   "cell_type": "markdown",
   "metadata": {},
   "source": [
    "<a id='intro'></a>\n",
    "## Introducción\n",
    "\n",
    "Un dataframe es una estructura de datos que permite trabajar con datos tabulados (datos en forma de tabla, organizados en filas y columnas). Python da soporte a multitud de operaciones con datos tabulados a través de la biblioteca **pandas**. Lo primero que deberemos hacer, por tanto, es importar esta biblioteca."
   ]
  },
  {
   "cell_type": "code",
   "execution_count": 2,
   "metadata": {},
   "outputs": [],
   "source": [
    "import pandas as pd"
   ]
  },
  {
   "cell_type": "markdown",
   "metadata": {},
   "source": [
    "<a id='crear_df'></a>\n",
    "## Crear un Dataframe de pandas\n",
    "\n",
    "Es posible crear un dataframe a partir de una matriz numpy, a partir de un diccionario, a partir de un fichero (normalmente en formato CSV), etc.\n",
    "\n",
    "### Crear de un dataframe a partir de un array numpy"
   ]
  },
  {
   "cell_type": "code",
   "execution_count": 1,
   "metadata": {},
   "outputs": [
    {
     "data": {
      "text/html": [
       "<div>\n",
       "<style scoped>\n",
       "    .dataframe tbody tr th:only-of-type {\n",
       "        vertical-align: middle;\n",
       "    }\n",
       "\n",
       "    .dataframe tbody tr th {\n",
       "        vertical-align: top;\n",
       "    }\n",
       "\n",
       "    .dataframe thead th {\n",
       "        text-align: right;\n",
       "    }\n",
       "</style>\n",
       "<table border=\"1\" class=\"dataframe\">\n",
       "  <thead>\n",
       "    <tr style=\"text-align: right;\">\n",
       "      <th></th>\n",
       "      <th>Col1</th>\n",
       "      <th>Col2</th>\n",
       "    </tr>\n",
       "  </thead>\n",
       "  <tbody>\n",
       "    <tr>\n",
       "      <th>Fila1</th>\n",
       "      <td>1</td>\n",
       "      <td>2</td>\n",
       "    </tr>\n",
       "    <tr>\n",
       "      <th>Fila2</th>\n",
       "      <td>3</td>\n",
       "      <td>4</td>\n",
       "    </tr>\n",
       "  </tbody>\n",
       "</table>\n",
       "</div>"
      ],
      "text/plain": [
       "      Col1 Col2\n",
       "Fila1    1    2\n",
       "Fila2    3    4"
      ]
     },
     "execution_count": 1,
     "metadata": {},
     "output_type": "execute_result"
    }
   ],
   "source": [
    "import pandas as pd\n",
    "import numpy as np\n",
    "\n",
    "data = np.array([['','Col1','Col2'], ['Fila1',1,2], ['Fila2',3,4]])\n",
    "df = pd.DataFrame(data=data[1:,1:], index=data[1:,0], columns=data[0,1:])\n",
    "df\n",
    "# Nota. El comando df muestra el contenido del dataframe únicamente si estamos en un entorno \n",
    "# interactivo (p. ej. en jupyter-notebook). Para entornos no interactivos (p. ej. cuando \n",
    "# tenemos el código en un fichero py) deberíamos escribir la instrucción print(df)"
   ]
  },
  {
   "cell_type": "markdown",
   "metadata": {},
   "source": [
    "### Crear un dataframe a partir de un fichero csv\n",
    "Lo más habitual será crear el dataframe a partir de los datos contenidos en un fichero CSV ([Comma Separated Values](https://en.wikipedia.org/wiki/Comma-separated_values)). Los programas que trabajan con datos tabulados (Excel, Libreoffice, ...) permiten exportar los datos a formato CSV.\n",
    "\n",
    "En este tutorial vamos a trabajar con el fichero de ejemplo `notas.csv`. Este fichero (con datos ficticios) contiene el nombre, grupo y notas (parcial1, parcial2, nota de clase, nota de prácticas) de un conjunto de estudiantes.\n",
    "\n",
    "\n",
    "A continuación se muestra un ejemplo de cómo cargar un fichero CSV. Para más información, [aquí tienes la API completa de la función read_csv](https://pandas.pydata.org/pandas-docs/stable/reference/api/pandas.read_csv.html)"
   ]
  },
  {
   "cell_type": "code",
   "execution_count": 1,
   "metadata": {},
   "outputs": [],
   "source": [
    "import pandas as pd\n",
    "df = pd.read_csv('notas.csv', delimiter=';') # El delimitador es el carácter separador de columnas (por defecto, la coma)"
   ]
  },
  {
   "cell_type": "markdown",
   "metadata": {},
   "source": [
    "[Volver al índice](#indice)"
   ]
  },
  {
   "cell_type": "markdown",
   "metadata": {},
   "source": [
    "<a id='ver_parte'></a>\n",
    "## Mostrar primeras filas, últimas filas o filas aleatorias\n",
    "\n",
    "Cuando tenemos una gran cantidad de datos, muchas veces no querremos mostrarlos todos, sino únicamente una pequeña selección a modo de ejemplo para ver el aspecto de los mismos.\n",
    "\n",
    "Podemos ver las 5 primeras líneas con:"
   ]
  },
  {
   "cell_type": "code",
   "execution_count": 5,
   "metadata": {},
   "outputs": [
    {
     "data": {
      "text/html": [
       "<div>\n",
       "<style scoped>\n",
       "    .dataframe tbody tr th:only-of-type {\n",
       "        vertical-align: middle;\n",
       "    }\n",
       "\n",
       "    .dataframe tbody tr th {\n",
       "        vertical-align: top;\n",
       "    }\n",
       "\n",
       "    .dataframe thead th {\n",
       "        text-align: right;\n",
       "    }\n",
       "</style>\n",
       "<table border=\"1\" class=\"dataframe\">\n",
       "  <thead>\n",
       "    <tr style=\"text-align: right;\">\n",
       "      <th></th>\n",
       "      <th>Nombre</th>\n",
       "      <th>Grupo</th>\n",
       "      <th>Par1</th>\n",
       "      <th>Par2</th>\n",
       "      <th>Clase</th>\n",
       "      <th>Practicas</th>\n",
       "    </tr>\n",
       "  </thead>\n",
       "  <tbody>\n",
       "    <tr>\n",
       "      <th>0</th>\n",
       "      <td>Alf</td>\n",
       "      <td>A</td>\n",
       "      <td>6.13</td>\n",
       "      <td>8.25</td>\n",
       "      <td>8.83</td>\n",
       "      <td>6.50</td>\n",
       "    </tr>\n",
       "    <tr>\n",
       "      <th>1</th>\n",
       "      <td>Alien</td>\n",
       "      <td>B</td>\n",
       "      <td>3.40</td>\n",
       "      <td>5.50</td>\n",
       "      <td>6.17</td>\n",
       "      <td>4.50</td>\n",
       "    </tr>\n",
       "    <tr>\n",
       "      <th>2</th>\n",
       "      <td>Asterix</td>\n",
       "      <td>B</td>\n",
       "      <td>6.95</td>\n",
       "      <td>3.00</td>\n",
       "      <td>7.20</td>\n",
       "      <td>8.25</td>\n",
       "    </tr>\n",
       "    <tr>\n",
       "      <th>3</th>\n",
       "      <td>Bart Simpson</td>\n",
       "      <td>C</td>\n",
       "      <td>4.95</td>\n",
       "      <td>1.10</td>\n",
       "      <td>0.00</td>\n",
       "      <td>0.00</td>\n",
       "    </tr>\n",
       "    <tr>\n",
       "      <th>4</th>\n",
       "      <td>Batman</td>\n",
       "      <td>C</td>\n",
       "      <td>7.25</td>\n",
       "      <td>8.75</td>\n",
       "      <td>9.92</td>\n",
       "      <td>10.00</td>\n",
       "    </tr>\n",
       "  </tbody>\n",
       "</table>\n",
       "</div>"
      ],
      "text/plain": [
       "         Nombre Grupo  Par1  Par2  Clase  Practicas\n",
       "0           Alf     A  6.13  8.25   8.83       6.50\n",
       "1         Alien     B  3.40  5.50   6.17       4.50\n",
       "2       Asterix     B  6.95  3.00   7.20       8.25\n",
       "3  Bart Simpson     C  4.95  1.10   0.00       0.00\n",
       "4        Batman     C  7.25  8.75   9.92      10.00"
      ]
     },
     "execution_count": 5,
     "metadata": {},
     "output_type": "execute_result"
    }
   ],
   "source": [
    "df.head()"
   ]
  },
  {
   "cell_type": "markdown",
   "metadata": {},
   "source": [
    "O las 5 últimas con:"
   ]
  },
  {
   "cell_type": "code",
   "execution_count": 8,
   "metadata": {
    "scrolled": true
   },
   "outputs": [
    {
     "data": {
      "text/html": [
       "<div>\n",
       "<style scoped>\n",
       "    .dataframe tbody tr th:only-of-type {\n",
       "        vertical-align: middle;\n",
       "    }\n",
       "\n",
       "    .dataframe tbody tr th {\n",
       "        vertical-align: top;\n",
       "    }\n",
       "\n",
       "    .dataframe thead th {\n",
       "        text-align: right;\n",
       "    }\n",
       "</style>\n",
       "<table border=\"1\" class=\"dataframe\">\n",
       "  <thead>\n",
       "    <tr style=\"text-align: right;\">\n",
       "      <th></th>\n",
       "      <th>Nombre</th>\n",
       "      <th>Grupo</th>\n",
       "      <th>Par1</th>\n",
       "      <th>Par2</th>\n",
       "      <th>Clase</th>\n",
       "      <th>Practicas</th>\n",
       "    </tr>\n",
       "  </thead>\n",
       "  <tbody>\n",
       "    <tr>\n",
       "      <th>53</th>\n",
       "      <td>Vegeta</td>\n",
       "      <td>C</td>\n",
       "      <td>8.75</td>\n",
       "      <td>6.00</td>\n",
       "      <td>6.17</td>\n",
       "      <td>7.00</td>\n",
       "    </tr>\n",
       "    <tr>\n",
       "      <th>54</th>\n",
       "      <td>Vito Corleone</td>\n",
       "      <td>B</td>\n",
       "      <td>5.40</td>\n",
       "      <td>3.20</td>\n",
       "      <td>4.57</td>\n",
       "      <td>2.00</td>\n",
       "    </tr>\n",
       "    <tr>\n",
       "      <th>55</th>\n",
       "      <td>Winnie The Pooh</td>\n",
       "      <td>B</td>\n",
       "      <td>5.50</td>\n",
       "      <td>5.85</td>\n",
       "      <td>8.53</td>\n",
       "      <td>7.75</td>\n",
       "    </tr>\n",
       "    <tr>\n",
       "      <th>56</th>\n",
       "      <td>Woody</td>\n",
       "      <td>C</td>\n",
       "      <td>3.05</td>\n",
       "      <td>2.05</td>\n",
       "      <td>0.00</td>\n",
       "      <td>2.00</td>\n",
       "    </tr>\n",
       "    <tr>\n",
       "      <th>57</th>\n",
       "      <td>Yoda</td>\n",
       "      <td>A</td>\n",
       "      <td>2.25</td>\n",
       "      <td>0.10</td>\n",
       "      <td>9.44</td>\n",
       "      <td>4.50</td>\n",
       "    </tr>\n",
       "  </tbody>\n",
       "</table>\n",
       "</div>"
      ],
      "text/plain": [
       "             Nombre Grupo  Par1  Par2  Clase  Practicas\n",
       "53           Vegeta     C  8.75  6.00   6.17       7.00\n",
       "54    Vito Corleone     B  5.40  3.20   4.57       2.00\n",
       "55  Winnie The Pooh     B  5.50  5.85   8.53       7.75\n",
       "56            Woody     C  3.05  2.05   0.00       2.00\n",
       "57             Yoda     A  2.25  0.10   9.44       4.50"
      ]
     },
     "execution_count": 8,
     "metadata": {},
     "output_type": "execute_result"
    }
   ],
   "source": [
    "df.tail()"
   ]
  },
  {
   "cell_type": "markdown",
   "metadata": {},
   "source": [
    "**Nota:** tanto `head` como `tail` permiten recibir el número de filas como argumento (argumento que es opcional con valor por defecto igual a 5)"
   ]
  },
  {
   "cell_type": "code",
   "execution_count": 7,
   "metadata": {},
   "outputs": [
    {
     "data": {
      "text/html": [
       "<div>\n",
       "<style scoped>\n",
       "    .dataframe tbody tr th:only-of-type {\n",
       "        vertical-align: middle;\n",
       "    }\n",
       "\n",
       "    .dataframe tbody tr th {\n",
       "        vertical-align: top;\n",
       "    }\n",
       "\n",
       "    .dataframe thead th {\n",
       "        text-align: right;\n",
       "    }\n",
       "</style>\n",
       "<table border=\"1\" class=\"dataframe\">\n",
       "  <thead>\n",
       "    <tr style=\"text-align: right;\">\n",
       "      <th></th>\n",
       "      <th>Nombre</th>\n",
       "      <th>Grupo</th>\n",
       "      <th>Par1</th>\n",
       "      <th>Par2</th>\n",
       "      <th>Clase</th>\n",
       "      <th>Practicas</th>\n",
       "    </tr>\n",
       "  </thead>\n",
       "  <tbody>\n",
       "    <tr>\n",
       "      <th>55</th>\n",
       "      <td>Winnie The Pooh</td>\n",
       "      <td>B</td>\n",
       "      <td>5.50</td>\n",
       "      <td>5.85</td>\n",
       "      <td>8.53</td>\n",
       "      <td>7.75</td>\n",
       "    </tr>\n",
       "    <tr>\n",
       "      <th>56</th>\n",
       "      <td>Woody</td>\n",
       "      <td>C</td>\n",
       "      <td>3.05</td>\n",
       "      <td>2.05</td>\n",
       "      <td>0.00</td>\n",
       "      <td>2.00</td>\n",
       "    </tr>\n",
       "    <tr>\n",
       "      <th>57</th>\n",
       "      <td>Yoda</td>\n",
       "      <td>A</td>\n",
       "      <td>2.25</td>\n",
       "      <td>0.10</td>\n",
       "      <td>9.44</td>\n",
       "      <td>4.50</td>\n",
       "    </tr>\n",
       "  </tbody>\n",
       "</table>\n",
       "</div>"
      ],
      "text/plain": [
       "             Nombre Grupo  Par1  Par2  Clase  Practicas\n",
       "55  Winnie The Pooh     B  5.50  5.85   8.53       7.75\n",
       "56            Woody     C  3.05  2.05   0.00       2.00\n",
       "57             Yoda     A  2.25  0.10   9.44       4.50"
      ]
     },
     "execution_count": 7,
     "metadata": {},
     "output_type": "execute_result"
    }
   ],
   "source": [
    "df.tail(3) # ahora mostramos solamente las 3 últimas:"
   ]
  },
  {
   "cell_type": "markdown",
   "metadata": {},
   "source": [
    "O unas cuantas líneas aleatorias con:"
   ]
  },
  {
   "cell_type": "code",
   "execution_count": 14,
   "metadata": {},
   "outputs": [
    {
     "data": {
      "text/html": [
       "<div>\n",
       "<style scoped>\n",
       "    .dataframe tbody tr th:only-of-type {\n",
       "        vertical-align: middle;\n",
       "    }\n",
       "\n",
       "    .dataframe tbody tr th {\n",
       "        vertical-align: top;\n",
       "    }\n",
       "\n",
       "    .dataframe thead th {\n",
       "        text-align: right;\n",
       "    }\n",
       "</style>\n",
       "<table border=\"1\" class=\"dataframe\">\n",
       "  <thead>\n",
       "    <tr style=\"text-align: right;\">\n",
       "      <th></th>\n",
       "      <th>Nombre</th>\n",
       "      <th>Grupo</th>\n",
       "      <th>Par1</th>\n",
       "      <th>Par2</th>\n",
       "      <th>Clase</th>\n",
       "      <th>Practicas</th>\n",
       "    </tr>\n",
       "  </thead>\n",
       "  <tbody>\n",
       "    <tr>\n",
       "      <th>46</th>\n",
       "      <td>Shrek</td>\n",
       "      <td>A</td>\n",
       "      <td>2.37</td>\n",
       "      <td>4.55</td>\n",
       "      <td>8.90</td>\n",
       "      <td>0.0</td>\n",
       "    </tr>\n",
       "    <tr>\n",
       "      <th>26</th>\n",
       "      <td>Jerry Mouse</td>\n",
       "      <td>C</td>\n",
       "      <td>2.00</td>\n",
       "      <td>4.75</td>\n",
       "      <td>9.67</td>\n",
       "      <td>10.0</td>\n",
       "    </tr>\n",
       "    <tr>\n",
       "      <th>17</th>\n",
       "      <td>Gandalf</td>\n",
       "      <td>B</td>\n",
       "      <td>9.25</td>\n",
       "      <td>9.75</td>\n",
       "      <td>9.63</td>\n",
       "      <td>10.0</td>\n",
       "    </tr>\n",
       "    <tr>\n",
       "      <th>20</th>\n",
       "      <td>Harry Potter</td>\n",
       "      <td>B</td>\n",
       "      <td>5.20</td>\n",
       "      <td>4.50</td>\n",
       "      <td>4.47</td>\n",
       "      <td>0.0</td>\n",
       "    </tr>\n",
       "    <tr>\n",
       "      <th>24</th>\n",
       "      <td>Indiana Jones</td>\n",
       "      <td>A</td>\n",
       "      <td>7.70</td>\n",
       "      <td>2.15</td>\n",
       "      <td>10.00</td>\n",
       "      <td>8.0</td>\n",
       "    </tr>\n",
       "  </tbody>\n",
       "</table>\n",
       "</div>"
      ],
      "text/plain": [
       "           Nombre Grupo  Par1  Par2  Clase  Practicas\n",
       "46          Shrek     A  2.37  4.55   8.90        0.0\n",
       "26    Jerry Mouse     C  2.00  4.75   9.67       10.0\n",
       "17        Gandalf     B  9.25  9.75   9.63       10.0\n",
       "20   Harry Potter     B  5.20  4.50   4.47        0.0\n",
       "24  Indiana Jones     A  7.70  2.15  10.00        8.0"
      ]
     },
     "execution_count": 14,
     "metadata": {},
     "output_type": "execute_result"
    }
   ],
   "source": [
    "df.sample(5)"
   ]
  },
  {
   "cell_type": "markdown",
   "metadata": {},
   "source": [
    "[Volver al índice](#indice)"
   ]
  },
  {
   "cell_type": "markdown",
   "metadata": {},
   "source": [
    "<a id='ordenar'></a>\n",
    "## Ordenar\n",
    "Pandas dispone de la función **sort_values()** para ordenar un dataframe.\n",
    "\n",
    "[Aquí tienes más información sobre esta operación](#https://pandas.pydata.org/pandas-docs/stable/reference/api/pandas.DataFrame.sort_values.html)"
   ]
  },
  {
   "cell_type": "code",
   "execution_count": 4,
   "metadata": {},
   "outputs": [
    {
     "data": {
      "text/html": [
       "<div>\n",
       "<style scoped>\n",
       "    .dataframe tbody tr th:only-of-type {\n",
       "        vertical-align: middle;\n",
       "    }\n",
       "\n",
       "    .dataframe tbody tr th {\n",
       "        vertical-align: top;\n",
       "    }\n",
       "\n",
       "    .dataframe thead th {\n",
       "        text-align: right;\n",
       "    }\n",
       "</style>\n",
       "<table border=\"1\" class=\"dataframe\">\n",
       "  <thead>\n",
       "    <tr style=\"text-align: right;\">\n",
       "      <th></th>\n",
       "      <th>Nombre</th>\n",
       "      <th>Grupo</th>\n",
       "      <th>Par1</th>\n",
       "      <th>Par2</th>\n",
       "      <th>Clase</th>\n",
       "      <th>Practicas</th>\n",
       "    </tr>\n",
       "  </thead>\n",
       "  <tbody>\n",
       "    <tr>\n",
       "      <th>48</th>\n",
       "      <td>Son Goku</td>\n",
       "      <td>C</td>\n",
       "      <td>9.50</td>\n",
       "      <td>9.50</td>\n",
       "      <td>10.00</td>\n",
       "      <td>10.00</td>\n",
       "    </tr>\n",
       "    <tr>\n",
       "      <th>40</th>\n",
       "      <td>Popeye</td>\n",
       "      <td>A</td>\n",
       "      <td>9.45</td>\n",
       "      <td>9.45</td>\n",
       "      <td>10.00</td>\n",
       "      <td>10.00</td>\n",
       "    </tr>\n",
       "    <tr>\n",
       "      <th>39</th>\n",
       "      <td>Pinocho</td>\n",
       "      <td>C</td>\n",
       "      <td>9.38</td>\n",
       "      <td>9.00</td>\n",
       "      <td>9.42</td>\n",
       "      <td>8.25</td>\n",
       "    </tr>\n",
       "    <tr>\n",
       "      <th>17</th>\n",
       "      <td>Gandalf</td>\n",
       "      <td>B</td>\n",
       "      <td>9.25</td>\n",
       "      <td>9.75</td>\n",
       "      <td>9.63</td>\n",
       "      <td>10.00</td>\n",
       "    </tr>\n",
       "    <tr>\n",
       "      <th>51</th>\n",
       "      <td>Thor</td>\n",
       "      <td>A</td>\n",
       "      <td>9.25</td>\n",
       "      <td>9.75</td>\n",
       "      <td>10.00</td>\n",
       "      <td>9.00</td>\n",
       "    </tr>\n",
       "  </tbody>\n",
       "</table>\n",
       "</div>"
      ],
      "text/plain": [
       "      Nombre Grupo  Par1  Par2  Clase  Practicas\n",
       "48  Son Goku     C  9.50  9.50  10.00      10.00\n",
       "40    Popeye     A  9.45  9.45  10.00      10.00\n",
       "39   Pinocho     C  9.38  9.00   9.42       8.25\n",
       "17   Gandalf     B  9.25  9.75   9.63      10.00\n",
       "51      Thor     A  9.25  9.75  10.00       9.00"
      ]
     },
     "execution_count": 4,
     "metadata": {},
     "output_type": "execute_result"
    }
   ],
   "source": [
    "# Ordena por la columna 'Par1' (Parcial 1) en orden descendente (devuelve otro DataFrame ordenado)\n",
    "df_ordenado = df.sort_values(by='Par1', ascending=False)\n",
    "df_ordenado.head()"
   ]
  },
  {
   "cell_type": "code",
   "execution_count": 5,
   "metadata": {},
   "outputs": [
    {
     "data": {
      "text/html": [
       "<div>\n",
       "<style scoped>\n",
       "    .dataframe tbody tr th:only-of-type {\n",
       "        vertical-align: middle;\n",
       "    }\n",
       "\n",
       "    .dataframe tbody tr th {\n",
       "        vertical-align: top;\n",
       "    }\n",
       "\n",
       "    .dataframe thead th {\n",
       "        text-align: right;\n",
       "    }\n",
       "</style>\n",
       "<table border=\"1\" class=\"dataframe\">\n",
       "  <thead>\n",
       "    <tr style=\"text-align: right;\">\n",
       "      <th></th>\n",
       "      <th>Nombre</th>\n",
       "      <th>Grupo</th>\n",
       "      <th>Par1</th>\n",
       "      <th>Par2</th>\n",
       "      <th>Clase</th>\n",
       "      <th>Practicas</th>\n",
       "    </tr>\n",
       "  </thead>\n",
       "  <tbody>\n",
       "    <tr>\n",
       "      <th>48</th>\n",
       "      <td>Son Goku</td>\n",
       "      <td>C</td>\n",
       "      <td>9.50</td>\n",
       "      <td>9.50</td>\n",
       "      <td>10.00</td>\n",
       "      <td>10.00</td>\n",
       "    </tr>\n",
       "    <tr>\n",
       "      <th>40</th>\n",
       "      <td>Popeye</td>\n",
       "      <td>A</td>\n",
       "      <td>9.45</td>\n",
       "      <td>9.45</td>\n",
       "      <td>10.00</td>\n",
       "      <td>10.00</td>\n",
       "    </tr>\n",
       "    <tr>\n",
       "      <th>39</th>\n",
       "      <td>Pinocho</td>\n",
       "      <td>C</td>\n",
       "      <td>9.38</td>\n",
       "      <td>9.00</td>\n",
       "      <td>9.42</td>\n",
       "      <td>8.25</td>\n",
       "    </tr>\n",
       "    <tr>\n",
       "      <th>17</th>\n",
       "      <td>Gandalf</td>\n",
       "      <td>B</td>\n",
       "      <td>9.25</td>\n",
       "      <td>9.75</td>\n",
       "      <td>9.63</td>\n",
       "      <td>10.00</td>\n",
       "    </tr>\n",
       "    <tr>\n",
       "      <th>51</th>\n",
       "      <td>Thor</td>\n",
       "      <td>A</td>\n",
       "      <td>9.25</td>\n",
       "      <td>9.75</td>\n",
       "      <td>10.00</td>\n",
       "      <td>9.00</td>\n",
       "    </tr>\n",
       "  </tbody>\n",
       "</table>\n",
       "</div>"
      ],
      "text/plain": [
       "      Nombre Grupo  Par1  Par2  Clase  Practicas\n",
       "48  Son Goku     C  9.50  9.50  10.00      10.00\n",
       "40    Popeye     A  9.45  9.45  10.00      10.00\n",
       "39   Pinocho     C  9.38  9.00   9.42       8.25\n",
       "17   Gandalf     B  9.25  9.75   9.63      10.00\n",
       "51      Thor     A  9.25  9.75  10.00       9.00"
      ]
     },
     "execution_count": 5,
     "metadata": {},
     "output_type": "execute_result"
    }
   ],
   "source": [
    "# Lo mismo, pero en lugar de devolver otro DataFrame ordenado, ordena el propio DataFrame (inplace=True)\n",
    "df.sort_values(by='Par1', ascending=False, inplace=True)\n",
    "df.head()"
   ]
  },
  {
   "cell_type": "markdown",
   "metadata": {},
   "source": [
    "[Volver al índice](#indice)"
   ]
  },
  {
   "cell_type": "markdown",
   "metadata": {},
   "source": [
    "<a id='sel_datos'></a>\n",
    "## Seleccionar datos\n",
    "\n",
    "Las funciones que usaremos para selección de datos son ***loc*** e ***iloc***. La función ***loc*** permite seleccionar filas (o columnas) a partir de etiquetas, mientras que ***iloc*** permite seleccionar a partir de índices (posiciones)."
   ]
  },
  {
   "cell_type": "markdown",
   "metadata": {},
   "source": [
    "<a id='sel_iloc'></a>\n",
    "## Seleccionar filas y columnas mediante índices (iloc)\n",
    "La sintaxis general es **mi_dataframe.iloc[rango_filas,rango_columnas]** donde **rango** seguirá la misma sintaxis que la usada para el *slicing* de listas. Si solo se especifica uno de los rangos, se entiende que es el de filas."
   ]
  },
  {
   "cell_type": "code",
   "execution_count": 9,
   "metadata": {},
   "outputs": [
    {
     "data": {
      "text/plain": [
       "Nombre        Alf\n",
       "Grupo           A\n",
       "Par1         6.13\n",
       "Par2         8.25\n",
       "Clase        8.83\n",
       "Practicas     6.5\n",
       "Name: 0, dtype: object"
      ]
     },
     "execution_count": 9,
     "metadata": {},
     "output_type": "execute_result"
    }
   ],
   "source": [
    "# Muestra los datos de la fila 0\n",
    "df.iloc[0]"
   ]
  },
  {
   "cell_type": "code",
   "execution_count": 10,
   "metadata": {},
   "outputs": [
    {
     "data": {
      "text/html": [
       "<div>\n",
       "<style scoped>\n",
       "    .dataframe tbody tr th:only-of-type {\n",
       "        vertical-align: middle;\n",
       "    }\n",
       "\n",
       "    .dataframe tbody tr th {\n",
       "        vertical-align: top;\n",
       "    }\n",
       "\n",
       "    .dataframe thead th {\n",
       "        text-align: right;\n",
       "    }\n",
       "</style>\n",
       "<table border=\"1\" class=\"dataframe\">\n",
       "  <thead>\n",
       "    <tr style=\"text-align: right;\">\n",
       "      <th></th>\n",
       "      <th>Nombre</th>\n",
       "      <th>Grupo</th>\n",
       "      <th>Par1</th>\n",
       "      <th>Par2</th>\n",
       "      <th>Clase</th>\n",
       "      <th>Practicas</th>\n",
       "    </tr>\n",
       "  </thead>\n",
       "  <tbody>\n",
       "    <tr>\n",
       "      <th>5</th>\n",
       "      <td>Bob Esponja</td>\n",
       "      <td>C</td>\n",
       "      <td>2.20</td>\n",
       "      <td>0.75</td>\n",
       "      <td>0.00</td>\n",
       "      <td>2.5</td>\n",
       "    </tr>\n",
       "    <tr>\n",
       "      <th>6</th>\n",
       "      <td>Bugs Bunny</td>\n",
       "      <td>A</td>\n",
       "      <td>1.75</td>\n",
       "      <td>NaN</td>\n",
       "      <td>1.67</td>\n",
       "      <td>NaN</td>\n",
       "    </tr>\n",
       "    <tr>\n",
       "      <th>7</th>\n",
       "      <td>Buzz Lightyear</td>\n",
       "      <td>A</td>\n",
       "      <td>4.70</td>\n",
       "      <td>4.95</td>\n",
       "      <td>8.33</td>\n",
       "      <td>10.0</td>\n",
       "    </tr>\n",
       "    <tr>\n",
       "      <th>8</th>\n",
       "      <td>Capitan Sparrow</td>\n",
       "      <td>A</td>\n",
       "      <td>2.25</td>\n",
       "      <td>0.25</td>\n",
       "      <td>6.11</td>\n",
       "      <td>4.0</td>\n",
       "    </tr>\n",
       "    <tr>\n",
       "      <th>9</th>\n",
       "      <td>Captain America</td>\n",
       "      <td>A</td>\n",
       "      <td>2.95</td>\n",
       "      <td>2.45</td>\n",
       "      <td>7.22</td>\n",
       "      <td>7.5</td>\n",
       "    </tr>\n",
       "  </tbody>\n",
       "</table>\n",
       "</div>"
      ],
      "text/plain": [
       "            Nombre Grupo  Par1  Par2  Clase  Practicas\n",
       "5      Bob Esponja     C  2.20  0.75   0.00        2.5\n",
       "6       Bugs Bunny     A  1.75   NaN   1.67        NaN\n",
       "7   Buzz Lightyear     A  4.70  4.95   8.33       10.0\n",
       "8  Capitan Sparrow     A  2.25  0.25   6.11        4.0\n",
       "9  Captain America     A  2.95  2.45   7.22        7.5"
      ]
     },
     "execution_count": 10,
     "metadata": {},
     "output_type": "execute_result"
    }
   ],
   "source": [
    "# Muestra de la fila 5 a la 9\n",
    "df.iloc[5:10]"
   ]
  },
  {
   "cell_type": "code",
   "execution_count": 11,
   "metadata": {},
   "outputs": [
    {
     "data": {
      "text/html": [
       "<div>\n",
       "<style scoped>\n",
       "    .dataframe tbody tr th:only-of-type {\n",
       "        vertical-align: middle;\n",
       "    }\n",
       "\n",
       "    .dataframe tbody tr th {\n",
       "        vertical-align: top;\n",
       "    }\n",
       "\n",
       "    .dataframe thead th {\n",
       "        text-align: right;\n",
       "    }\n",
       "</style>\n",
       "<table border=\"1\" class=\"dataframe\">\n",
       "  <thead>\n",
       "    <tr style=\"text-align: right;\">\n",
       "      <th></th>\n",
       "      <th>Nombre</th>\n",
       "      <th>Grupo</th>\n",
       "      <th>Par1</th>\n",
       "      <th>Par2</th>\n",
       "      <th>Clase</th>\n",
       "      <th>Practicas</th>\n",
       "    </tr>\n",
       "  </thead>\n",
       "  <tbody>\n",
       "    <tr>\n",
       "      <th>57</th>\n",
       "      <td>Yoda</td>\n",
       "      <td>A</td>\n",
       "      <td>2.25</td>\n",
       "      <td>0.10</td>\n",
       "      <td>9.44</td>\n",
       "      <td>4.50</td>\n",
       "    </tr>\n",
       "    <tr>\n",
       "      <th>56</th>\n",
       "      <td>Woody</td>\n",
       "      <td>C</td>\n",
       "      <td>3.05</td>\n",
       "      <td>2.05</td>\n",
       "      <td>0.00</td>\n",
       "      <td>2.00</td>\n",
       "    </tr>\n",
       "    <tr>\n",
       "      <th>55</th>\n",
       "      <td>Winnie The Pooh</td>\n",
       "      <td>B</td>\n",
       "      <td>5.50</td>\n",
       "      <td>5.85</td>\n",
       "      <td>8.53</td>\n",
       "      <td>7.75</td>\n",
       "    </tr>\n",
       "    <tr>\n",
       "      <th>54</th>\n",
       "      <td>Vito Corleone</td>\n",
       "      <td>B</td>\n",
       "      <td>5.40</td>\n",
       "      <td>3.20</td>\n",
       "      <td>4.57</td>\n",
       "      <td>2.00</td>\n",
       "    </tr>\n",
       "  </tbody>\n",
       "</table>\n",
       "</div>"
      ],
      "text/plain": [
       "             Nombre Grupo  Par1  Par2  Clase  Practicas\n",
       "57             Yoda     A  2.25  0.10   9.44       4.50\n",
       "56            Woody     C  3.05  2.05   0.00       2.00\n",
       "55  Winnie The Pooh     B  5.50  5.85   8.53       7.75\n",
       "54    Vito Corleone     B  5.40  3.20   4.57       2.00"
      ]
     },
     "execution_count": 11,
     "metadata": {},
     "output_type": "execute_result"
    }
   ],
   "source": [
    "# Muestra las 4 últimas filas en orden inverso\n",
    "df.iloc[-1:-5:-1]"
   ]
  },
  {
   "cell_type": "markdown",
   "metadata": {},
   "source": [
    "### Seleccionar un elemento de una fila y columna determinada con iloc"
   ]
  },
  {
   "cell_type": "code",
   "execution_count": 12,
   "metadata": {},
   "outputs": [
    {
     "name": "stdout",
     "output_type": "stream",
     "text": [
      "Alf\n",
      "6.5\n"
     ]
    }
   ],
   "source": [
    "# Muestra el elemento de la primera fila, primera columna\n",
    "print(df.iloc[0][0])   # Equivalente a print(df.iloc[0,0])\n",
    "# Muestra el elemento de la primera fila, última columna (Practicas)\n",
    "print(df.loc[0][-1])"
   ]
  },
  {
   "cell_type": "markdown",
   "metadata": {},
   "source": [
    "### Seleccionar un rango de filas y columnas con iloc"
   ]
  },
  {
   "cell_type": "code",
   "execution_count": 13,
   "metadata": {},
   "outputs": [
    {
     "data": {
      "text/html": [
       "<div>\n",
       "<style scoped>\n",
       "    .dataframe tbody tr th:only-of-type {\n",
       "        vertical-align: middle;\n",
       "    }\n",
       "\n",
       "    .dataframe tbody tr th {\n",
       "        vertical-align: top;\n",
       "    }\n",
       "\n",
       "    .dataframe thead th {\n",
       "        text-align: right;\n",
       "    }\n",
       "</style>\n",
       "<table border=\"1\" class=\"dataframe\">\n",
       "  <thead>\n",
       "    <tr style=\"text-align: right;\">\n",
       "      <th></th>\n",
       "      <th>Par1</th>\n",
       "      <th>Par2</th>\n",
       "    </tr>\n",
       "  </thead>\n",
       "  <tbody>\n",
       "    <tr>\n",
       "      <th>5</th>\n",
       "      <td>2.20</td>\n",
       "      <td>0.75</td>\n",
       "    </tr>\n",
       "    <tr>\n",
       "      <th>6</th>\n",
       "      <td>1.75</td>\n",
       "      <td>NaN</td>\n",
       "    </tr>\n",
       "    <tr>\n",
       "      <th>7</th>\n",
       "      <td>4.70</td>\n",
       "      <td>4.95</td>\n",
       "    </tr>\n",
       "    <tr>\n",
       "      <th>8</th>\n",
       "      <td>2.25</td>\n",
       "      <td>0.25</td>\n",
       "    </tr>\n",
       "    <tr>\n",
       "      <th>9</th>\n",
       "      <td>2.95</td>\n",
       "      <td>2.45</td>\n",
       "    </tr>\n",
       "  </tbody>\n",
       "</table>\n",
       "</div>"
      ],
      "text/plain": [
       "   Par1  Par2\n",
       "5  2.20  0.75\n",
       "6  1.75   NaN\n",
       "7  4.70  4.95\n",
       "8  2.25  0.25\n",
       "9  2.95  2.45"
      ]
     },
     "execution_count": 13,
     "metadata": {},
     "output_type": "execute_result"
    }
   ],
   "source": [
    "# Selecciona filas de la 5 a la 9 (ambas incluidas) y columnas de la 2 a la 3 (ambas incluidas)\n",
    "df.iloc[5:10,2:4]"
   ]
  },
  {
   "cell_type": "markdown",
   "metadata": {},
   "source": [
    "### Seleccionar filas y/o columnas no contiguas\n",
    "Si los elemento a seleccionar no están contiguos, en lugar de un rango usaremos una lista."
   ]
  },
  {
   "cell_type": "code",
   "execution_count": 15,
   "metadata": {},
   "outputs": [
    {
     "data": {
      "text/html": [
       "<div>\n",
       "<style scoped>\n",
       "    .dataframe tbody tr th:only-of-type {\n",
       "        vertical-align: middle;\n",
       "    }\n",
       "\n",
       "    .dataframe tbody tr th {\n",
       "        vertical-align: top;\n",
       "    }\n",
       "\n",
       "    .dataframe thead th {\n",
       "        text-align: right;\n",
       "    }\n",
       "</style>\n",
       "<table border=\"1\" class=\"dataframe\">\n",
       "  <thead>\n",
       "    <tr style=\"text-align: right;\">\n",
       "      <th></th>\n",
       "      <th>Nombre</th>\n",
       "      <th>Practicas</th>\n",
       "    </tr>\n",
       "  </thead>\n",
       "  <tbody>\n",
       "    <tr>\n",
       "      <th>5</th>\n",
       "      <td>Bob Esponja</td>\n",
       "      <td>2.5</td>\n",
       "    </tr>\n",
       "    <tr>\n",
       "      <th>6</th>\n",
       "      <td>Bugs Bunny</td>\n",
       "      <td>NaN</td>\n",
       "    </tr>\n",
       "    <tr>\n",
       "      <th>7</th>\n",
       "      <td>Buzz Lightyear</td>\n",
       "      <td>10.0</td>\n",
       "    </tr>\n",
       "    <tr>\n",
       "      <th>8</th>\n",
       "      <td>Capitan Sparrow</td>\n",
       "      <td>4.0</td>\n",
       "    </tr>\n",
       "    <tr>\n",
       "      <th>9</th>\n",
       "      <td>Captain America</td>\n",
       "      <td>7.5</td>\n",
       "    </tr>\n",
       "  </tbody>\n",
       "</table>\n",
       "</div>"
      ],
      "text/plain": [
       "            Nombre  Practicas\n",
       "5      Bob Esponja        2.5\n",
       "6       Bugs Bunny        NaN\n",
       "7   Buzz Lightyear       10.0\n",
       "8  Capitan Sparrow        4.0\n",
       "9  Captain America        7.5"
      ]
     },
     "execution_count": 15,
     "metadata": {},
     "output_type": "execute_result"
    }
   ],
   "source": [
    "# Selecciona filas de la 5 a la 9 (ambas incluidas) y las columnas 0 (Nombre) y 5 (Practicas)\n",
    "df.iloc[5:10,[0,5]]"
   ]
  },
  {
   "cell_type": "markdown",
   "metadata": {},
   "source": [
    "### Seleccionar un rango de columnas (para todas las filas) con iloc"
   ]
  },
  {
   "cell_type": "code",
   "execution_count": null,
   "metadata": {},
   "outputs": [],
   "source": [
    "# Selecciona los datos de la última columna\n",
    "df.iloc[:,-1]"
   ]
  },
  {
   "cell_type": "markdown",
   "metadata": {},
   "source": [
    "[Volver al índice](#indice)"
   ]
  },
  {
   "cell_type": "markdown",
   "metadata": {},
   "source": [
    "<a id='sel_loc'></a>\n",
    "## Seleccionar filas y columnas mediante etiquetas (loc)\n",
    "\n",
    "A diferencia de **iloc**, que únicamente trabaja con índices, **loc** permite hacer selecciones basadas en etiquetas (de fila o columna)"
   ]
  },
  {
   "cell_type": "code",
   "execution_count": null,
   "metadata": {},
   "outputs": [],
   "source": [
    "# Selecciona la columna 'Practicas' de las todas filas\n",
    "df.loc[:,'Practicas']\n"
   ]
  },
  {
   "cell_type": "code",
   "execution_count": 18,
   "metadata": {},
   "outputs": [
    {
     "data": {
      "text/html": [
       "<div>\n",
       "<style scoped>\n",
       "    .dataframe tbody tr th:only-of-type {\n",
       "        vertical-align: middle;\n",
       "    }\n",
       "\n",
       "    .dataframe tbody tr th {\n",
       "        vertical-align: top;\n",
       "    }\n",
       "\n",
       "    .dataframe thead th {\n",
       "        text-align: right;\n",
       "    }\n",
       "</style>\n",
       "<table border=\"1\" class=\"dataframe\">\n",
       "  <thead>\n",
       "    <tr style=\"text-align: right;\">\n",
       "      <th></th>\n",
       "      <th>Par1</th>\n",
       "      <th>Par2</th>\n",
       "    </tr>\n",
       "  </thead>\n",
       "  <tbody>\n",
       "    <tr>\n",
       "      <th>0</th>\n",
       "      <td>6.13</td>\n",
       "      <td>8.25</td>\n",
       "    </tr>\n",
       "    <tr>\n",
       "      <th>1</th>\n",
       "      <td>3.40</td>\n",
       "      <td>5.50</td>\n",
       "    </tr>\n",
       "    <tr>\n",
       "      <th>2</th>\n",
       "      <td>6.95</td>\n",
       "      <td>3.00</td>\n",
       "    </tr>\n",
       "    <tr>\n",
       "      <th>3</th>\n",
       "      <td>4.95</td>\n",
       "      <td>1.10</td>\n",
       "    </tr>\n",
       "    <tr>\n",
       "      <th>4</th>\n",
       "      <td>7.25</td>\n",
       "      <td>8.75</td>\n",
       "    </tr>\n",
       "    <tr>\n",
       "      <th>5</th>\n",
       "      <td>2.20</td>\n",
       "      <td>0.75</td>\n",
       "    </tr>\n",
       "  </tbody>\n",
       "</table>\n",
       "</div>"
      ],
      "text/plain": [
       "   Par1  Par2\n",
       "0  6.13  8.25\n",
       "1  3.40  5.50\n",
       "2  6.95  3.00\n",
       "3  4.95  1.10\n",
       "4  7.25  8.75\n",
       "5  2.20  0.75"
      ]
     },
     "execution_count": 18,
     "metadata": {},
     "output_type": "execute_result"
    }
   ],
   "source": [
    "# Selecciona las columnas 'Par1' y 'Par2' de la fila 0 a la 5 (¡¡ambas incluidas!!)\n",
    "# Observa que para definir más de una etiqueta de columna, utilizamos una lista.\n",
    "df.loc[0:5,['Par1', 'Par2']]"
   ]
  },
  {
   "cell_type": "code",
   "execution_count": 19,
   "metadata": {},
   "outputs": [
    {
     "data": {
      "text/html": [
       "<div>\n",
       "<style scoped>\n",
       "    .dataframe tbody tr th:only-of-type {\n",
       "        vertical-align: middle;\n",
       "    }\n",
       "\n",
       "    .dataframe tbody tr th {\n",
       "        vertical-align: top;\n",
       "    }\n",
       "\n",
       "    .dataframe thead th {\n",
       "        text-align: right;\n",
       "    }\n",
       "</style>\n",
       "<table border=\"1\" class=\"dataframe\">\n",
       "  <thead>\n",
       "    <tr style=\"text-align: right;\">\n",
       "      <th></th>\n",
       "      <th>Par1</th>\n",
       "      <th>Par2</th>\n",
       "      <th>Clase</th>\n",
       "      <th>Practicas</th>\n",
       "    </tr>\n",
       "  </thead>\n",
       "  <tbody>\n",
       "    <tr>\n",
       "      <th>0</th>\n",
       "      <td>6.13</td>\n",
       "      <td>8.25</td>\n",
       "      <td>8.83</td>\n",
       "      <td>6.50</td>\n",
       "    </tr>\n",
       "    <tr>\n",
       "      <th>1</th>\n",
       "      <td>3.40</td>\n",
       "      <td>5.50</td>\n",
       "      <td>6.17</td>\n",
       "      <td>4.50</td>\n",
       "    </tr>\n",
       "    <tr>\n",
       "      <th>2</th>\n",
       "      <td>6.95</td>\n",
       "      <td>3.00</td>\n",
       "      <td>7.20</td>\n",
       "      <td>8.25</td>\n",
       "    </tr>\n",
       "    <tr>\n",
       "      <th>3</th>\n",
       "      <td>4.95</td>\n",
       "      <td>1.10</td>\n",
       "      <td>0.00</td>\n",
       "      <td>0.00</td>\n",
       "    </tr>\n",
       "    <tr>\n",
       "      <th>4</th>\n",
       "      <td>7.25</td>\n",
       "      <td>8.75</td>\n",
       "      <td>9.92</td>\n",
       "      <td>10.00</td>\n",
       "    </tr>\n",
       "    <tr>\n",
       "      <th>5</th>\n",
       "      <td>2.20</td>\n",
       "      <td>0.75</td>\n",
       "      <td>0.00</td>\n",
       "      <td>2.50</td>\n",
       "    </tr>\n",
       "  </tbody>\n",
       "</table>\n",
       "</div>"
      ],
      "text/plain": [
       "   Par1  Par2  Clase  Practicas\n",
       "0  6.13  8.25   8.83       6.50\n",
       "1  3.40  5.50   6.17       4.50\n",
       "2  6.95  3.00   7.20       8.25\n",
       "3  4.95  1.10   0.00       0.00\n",
       "4  7.25  8.75   9.92      10.00\n",
       "5  2.20  0.75   0.00       2.50"
      ]
     },
     "execution_count": 19,
     "metadata": {},
     "output_type": "execute_result"
    }
   ],
   "source": [
    "# Selecciona las columnas desde 'Par1' hasta 'Practicas' (ambas incluidas) de la fila 0 a la 5 (¡¡ambas incluidas!!)\n",
    "df.loc[0:5,'Par1':'Practicas']"
   ]
  },
  {
   "cell_type": "markdown",
   "metadata": {},
   "source": [
    "[Volver al índice](#indice)"
   ]
  },
  {
   "cell_type": "markdown",
   "metadata": {},
   "source": [
    "<a id='sel_con'></a>\n",
    "## Seleccionar en función de una condición\n",
    "\n",
    "Habitualmente querremos sleccionar las filas/columnas que cumplan cierta condición.\n",
    "Para ello debemos pasar a **loc** un array o objeto de tipo **Series** con valores True/False, con lo que se seleccionarán todas las filas que tengan valor True."
   ]
  },
  {
   "cell_type": "code",
   "execution_count": null,
   "metadata": {},
   "outputs": [],
   "source": [
    "# Genera una serie (objeto e tipo Series) donde cada elemento es True si 'Par1' >= 5 o False en caso contrario\n",
    "df['Par1'] >= 5"
   ]
  },
  {
   "cell_type": "code",
   "execution_count": null,
   "metadata": {},
   "outputs": [],
   "source": [
    "# Selecciona todas las filas que cumplan la condición df['Par1'] >= 5\n",
    "seleccion = df['Par1'] >= 5\n",
    "df.loc[seleccion]"
   ]
  },
  {
   "cell_type": "code",
   "execution_count": null,
   "metadata": {},
   "outputs": [],
   "source": [
    "# Habitualmente se compactan las dos instrucciones anteriores en una única\n",
    "df.loc[df['Par1'] >= 5]"
   ]
  },
  {
   "cell_type": "code",
   "execution_count": 23,
   "metadata": {},
   "outputs": [
    {
     "data": {
      "text/html": [
       "<div>\n",
       "<style scoped>\n",
       "    .dataframe tbody tr th:only-of-type {\n",
       "        vertical-align: middle;\n",
       "    }\n",
       "\n",
       "    .dataframe tbody tr th {\n",
       "        vertical-align: top;\n",
       "    }\n",
       "\n",
       "    .dataframe thead th {\n",
       "        text-align: right;\n",
       "    }\n",
       "</style>\n",
       "<table border=\"1\" class=\"dataframe\">\n",
       "  <thead>\n",
       "    <tr style=\"text-align: right;\">\n",
       "      <th></th>\n",
       "      <th>Par1</th>\n",
       "      <th>Par2</th>\n",
       "    </tr>\n",
       "  </thead>\n",
       "  <tbody>\n",
       "    <tr>\n",
       "      <th>4</th>\n",
       "      <td>7.25</td>\n",
       "      <td>8.75</td>\n",
       "    </tr>\n",
       "  </tbody>\n",
       "</table>\n",
       "</div>"
      ],
      "text/plain": [
       "   Par1  Par2\n",
       "4  7.25  8.75"
      ]
     },
     "execution_count": 23,
     "metadata": {},
     "output_type": "execute_result"
    }
   ],
   "source": [
    "# Selecciona las columnas 'Par1' y 'Par2' para todas la filas con 'Nombre' = 'Batman'\n",
    "df.loc[df['Nombre'] == 'Batman', ['Par1','Par2']]"
   ]
  },
  {
   "cell_type": "code",
   "execution_count": 24,
   "metadata": {},
   "outputs": [
    {
     "data": {
      "text/html": [
       "<div>\n",
       "<style scoped>\n",
       "    .dataframe tbody tr th:only-of-type {\n",
       "        vertical-align: middle;\n",
       "    }\n",
       "\n",
       "    .dataframe tbody tr th {\n",
       "        vertical-align: top;\n",
       "    }\n",
       "\n",
       "    .dataframe thead th {\n",
       "        text-align: right;\n",
       "    }\n",
       "</style>\n",
       "<table border=\"1\" class=\"dataframe\">\n",
       "  <thead>\n",
       "    <tr style=\"text-align: right;\">\n",
       "      <th></th>\n",
       "      <th>Par1</th>\n",
       "      <th>Par2</th>\n",
       "      <th>Clase</th>\n",
       "      <th>Practicas</th>\n",
       "    </tr>\n",
       "  </thead>\n",
       "  <tbody>\n",
       "    <tr>\n",
       "      <th>0</th>\n",
       "      <td>6.13</td>\n",
       "      <td>8.25</td>\n",
       "      <td>8.83</td>\n",
       "      <td>6.5</td>\n",
       "    </tr>\n",
       "    <tr>\n",
       "      <th>12</th>\n",
       "      <td>7.15</td>\n",
       "      <td>7.10</td>\n",
       "      <td>10.00</td>\n",
       "      <td>10.0</td>\n",
       "    </tr>\n",
       "    <tr>\n",
       "      <th>23</th>\n",
       "      <td>6.75</td>\n",
       "      <td>5.40</td>\n",
       "      <td>9.44</td>\n",
       "      <td>9.0</td>\n",
       "    </tr>\n",
       "    <tr>\n",
       "      <th>37</th>\n",
       "      <td>6.55</td>\n",
       "      <td>5.55</td>\n",
       "      <td>10.00</td>\n",
       "      <td>9.0</td>\n",
       "    </tr>\n",
       "    <tr>\n",
       "      <th>40</th>\n",
       "      <td>9.45</td>\n",
       "      <td>9.45</td>\n",
       "      <td>10.00</td>\n",
       "      <td>10.0</td>\n",
       "    </tr>\n",
       "    <tr>\n",
       "      <th>51</th>\n",
       "      <td>9.25</td>\n",
       "      <td>9.75</td>\n",
       "      <td>10.00</td>\n",
       "      <td>9.0</td>\n",
       "    </tr>\n",
       "  </tbody>\n",
       "</table>\n",
       "</div>"
      ],
      "text/plain": [
       "    Par1  Par2  Clase  Practicas\n",
       "0   6.13  8.25   8.83        6.5\n",
       "12  7.15  7.10  10.00       10.0\n",
       "23  6.75  5.40   9.44        9.0\n",
       "37  6.55  5.55  10.00        9.0\n",
       "40  9.45  9.45  10.00       10.0\n",
       "51  9.25  9.75  10.00        9.0"
      ]
     },
     "execution_count": 24,
     "metadata": {},
     "output_type": "execute_result"
    }
   ],
   "source": [
    "# Selecciona las columna desde 'Par1' hasta 'Practicas' (ambas incluidas) para todas la filas \n",
    "# que cumplan la condición 'Par1' >= 5 and 'Par2' >= 5 and 'Grupo' = 'A'\n",
    "df.loc[(df['Par1'] >= 5) & (df['Par2'] >= 5) & (df['Grupo'] == 'A'), 'Par1':'Practicas']"
   ]
  },
  {
   "cell_type": "code",
   "execution_count": null,
   "metadata": {},
   "outputs": [],
   "source": [
    "# Selecciona las filas con 'Grupo' = 'A' or 'Grupo' = 'B'\n",
    "df.loc[(df['Grupo'] == 'A') | (df['Grupo'] == 'B')]"
   ]
  },
  {
   "cell_type": "markdown",
   "metadata": {},
   "source": [
    "**Nota:** Observa que en los dos ejemplos anteriores se deben utilizar los operadores (denominados **element-wise**) `&` y `|` en lugar de `and` y `or`."
   ]
  },
  {
   "cell_type": "markdown",
   "metadata": {},
   "source": [
    "[Volver al índice](#indice)"
   ]
  },
  {
   "cell_type": "markdown",
   "metadata": {},
   "source": [
    "<a id='nuevas_columnas'></a>\n",
    "## Crear nuevas columnas\n",
    "En muchas ocasiones es interesante añadir nuevas columnas, bien a partir de datos almacenados en algún otro lugar, bien a partir de los propios datos almacenados en el dataframe."
   ]
  },
  {
   "cell_type": "code",
   "execution_count": null,
   "metadata": {},
   "outputs": [],
   "source": [
    "# Crea la columna 'Nota_Final' con el valor (Par1+Par2+Clase+'Practicas)/4\n",
    "df['Nota_Final'] = (df['Par1'] + df['Par2'] + df['Clase'] + df['Practicas']) / 4\n",
    "df"
   ]
  },
  {
   "cell_type": "markdown",
   "metadata": {},
   "source": [
    "[Volver al índice](#indice)"
   ]
  },
  {
   "cell_type": "markdown",
   "metadata": {},
   "source": [
    "<a id='resumen'></a>\n",
    "## Funciones resumen: describe, sum, mean, median, count, corr, cov, unique, value_counts, min, max...\n",
    "\n",
    "Estas funciones ofrecen algunos valores que, de algún modo, resumen la información almacenada en el dataframe.\n"
   ]
  },
  {
   "cell_type": "markdown",
   "metadata": {},
   "source": [
    "**`describe`**"
   ]
  },
  {
   "cell_type": "code",
   "execution_count": 26,
   "metadata": {},
   "outputs": [
    {
     "data": {
      "text/html": [
       "<div>\n",
       "<style scoped>\n",
       "    .dataframe tbody tr th:only-of-type {\n",
       "        vertical-align: middle;\n",
       "    }\n",
       "\n",
       "    .dataframe tbody tr th {\n",
       "        vertical-align: top;\n",
       "    }\n",
       "\n",
       "    .dataframe thead th {\n",
       "        text-align: right;\n",
       "    }\n",
       "</style>\n",
       "<table border=\"1\" class=\"dataframe\">\n",
       "  <thead>\n",
       "    <tr style=\"text-align: right;\">\n",
       "      <th></th>\n",
       "      <th>Par1</th>\n",
       "      <th>Par2</th>\n",
       "      <th>Clase</th>\n",
       "      <th>Practicas</th>\n",
       "      <th>Nota_Final</th>\n",
       "    </tr>\n",
       "  </thead>\n",
       "  <tbody>\n",
       "    <tr>\n",
       "      <th>count</th>\n",
       "      <td>58.000000</td>\n",
       "      <td>57.000000</td>\n",
       "      <td>58.000000</td>\n",
       "      <td>56.000000</td>\n",
       "      <td>56.000000</td>\n",
       "    </tr>\n",
       "    <tr>\n",
       "      <th>mean</th>\n",
       "      <td>5.195517</td>\n",
       "      <td>4.039474</td>\n",
       "      <td>6.416897</td>\n",
       "      <td>5.560714</td>\n",
       "      <td>5.351875</td>\n",
       "    </tr>\n",
       "    <tr>\n",
       "      <th>std</th>\n",
       "      <td>2.658617</td>\n",
       "      <td>3.047038</td>\n",
       "      <td>3.201833</td>\n",
       "      <td>3.760074</td>\n",
       "      <td>2.753890</td>\n",
       "    </tr>\n",
       "    <tr>\n",
       "      <th>min</th>\n",
       "      <td>0.750000</td>\n",
       "      <td>0.000000</td>\n",
       "      <td>0.000000</td>\n",
       "      <td>0.000000</td>\n",
       "      <td>0.742500</td>\n",
       "    </tr>\n",
       "    <tr>\n",
       "      <th>25%</th>\n",
       "      <td>2.837500</td>\n",
       "      <td>1.850000</td>\n",
       "      <td>4.495000</td>\n",
       "      <td>2.375000</td>\n",
       "      <td>3.150000</td>\n",
       "    </tr>\n",
       "    <tr>\n",
       "      <th>50%</th>\n",
       "      <td>5.350000</td>\n",
       "      <td>3.750000</td>\n",
       "      <td>7.065000</td>\n",
       "      <td>6.875000</td>\n",
       "      <td>5.715000</td>\n",
       "    </tr>\n",
       "    <tr>\n",
       "      <th>75%</th>\n",
       "      <td>7.100000</td>\n",
       "      <td>5.750000</td>\n",
       "      <td>9.440000</td>\n",
       "      <td>9.000000</td>\n",
       "      <td>7.309375</td>\n",
       "    </tr>\n",
       "    <tr>\n",
       "      <th>max</th>\n",
       "      <td>9.500000</td>\n",
       "      <td>9.750000</td>\n",
       "      <td>10.000000</td>\n",
       "      <td>10.000000</td>\n",
       "      <td>9.750000</td>\n",
       "    </tr>\n",
       "  </tbody>\n",
       "</table>\n",
       "</div>"
      ],
      "text/plain": [
       "            Par1       Par2      Clase  Practicas  Nota_Final\n",
       "count  58.000000  57.000000  58.000000  56.000000   56.000000\n",
       "mean    5.195517   4.039474   6.416897   5.560714    5.351875\n",
       "std     2.658617   3.047038   3.201833   3.760074    2.753890\n",
       "min     0.750000   0.000000   0.000000   0.000000    0.742500\n",
       "25%     2.837500   1.850000   4.495000   2.375000    3.150000\n",
       "50%     5.350000   3.750000   7.065000   6.875000    5.715000\n",
       "75%     7.100000   5.750000   9.440000   9.000000    7.309375\n",
       "max     9.500000   9.750000  10.000000  10.000000    9.750000"
      ]
     },
     "execution_count": 26,
     "metadata": {},
     "output_type": "execute_result"
    }
   ],
   "source": [
    "# Muestra un resumen estadístico de los datos\n",
    "df.describe()"
   ]
  },
  {
   "cell_type": "code",
   "execution_count": 27,
   "metadata": {},
   "outputs": [
    {
     "data": {
      "text/plain": [
       "count    56.000000\n",
       "mean      5.560714\n",
       "std       3.760074\n",
       "min       0.000000\n",
       "25%       2.375000\n",
       "50%       6.875000\n",
       "75%       9.000000\n",
       "max      10.000000\n",
       "Name: Practicas, dtype: float64"
      ]
     },
     "execution_count": 27,
     "metadata": {},
     "output_type": "execute_result"
    }
   ],
   "source": [
    "# Lo mismo que lo anterior, pero únicamente para la columna prácticas\n",
    "df['Practicas'].describe()"
   ]
  },
  {
   "cell_type": "code",
   "execution_count": 28,
   "metadata": {},
   "outputs": [
    {
     "data": {
      "text/html": [
       "<div>\n",
       "<style scoped>\n",
       "    .dataframe tbody tr th:only-of-type {\n",
       "        vertical-align: middle;\n",
       "    }\n",
       "\n",
       "    .dataframe tbody tr th {\n",
       "        vertical-align: top;\n",
       "    }\n",
       "\n",
       "    .dataframe thead th {\n",
       "        text-align: right;\n",
       "    }\n",
       "</style>\n",
       "<table border=\"1\" class=\"dataframe\">\n",
       "  <thead>\n",
       "    <tr style=\"text-align: right;\">\n",
       "      <th></th>\n",
       "      <th>Par1</th>\n",
       "      <th>Par2</th>\n",
       "      <th>Clase</th>\n",
       "      <th>Practicas</th>\n",
       "      <th>Nota_Final</th>\n",
       "    </tr>\n",
       "  </thead>\n",
       "  <tbody>\n",
       "    <tr>\n",
       "      <th>count</th>\n",
       "      <td>18.000000</td>\n",
       "      <td>17.000000</td>\n",
       "      <td>18.000000</td>\n",
       "      <td>17.000000</td>\n",
       "      <td>17.000000</td>\n",
       "    </tr>\n",
       "    <tr>\n",
       "      <th>mean</th>\n",
       "      <td>5.388889</td>\n",
       "      <td>4.223529</td>\n",
       "      <td>8.005556</td>\n",
       "      <td>6.700000</td>\n",
       "      <td>6.226176</td>\n",
       "    </tr>\n",
       "    <tr>\n",
       "      <th>std</th>\n",
       "      <td>2.583165</td>\n",
       "      <td>3.115140</td>\n",
       "      <td>2.704417</td>\n",
       "      <td>3.266305</td>\n",
       "      <td>2.386265</td>\n",
       "    </tr>\n",
       "    <tr>\n",
       "      <th>min</th>\n",
       "      <td>1.750000</td>\n",
       "      <td>0.100000</td>\n",
       "      <td>1.670000</td>\n",
       "      <td>0.000000</td>\n",
       "      <td>1.447500</td>\n",
       "    </tr>\n",
       "    <tr>\n",
       "      <th>25%</th>\n",
       "      <td>2.962500</td>\n",
       "      <td>1.850000</td>\n",
       "      <td>7.220000</td>\n",
       "      <td>4.500000</td>\n",
       "      <td>4.072500</td>\n",
       "    </tr>\n",
       "    <tr>\n",
       "      <th>50%</th>\n",
       "      <td>6.065000</td>\n",
       "      <td>4.150000</td>\n",
       "      <td>9.170000</td>\n",
       "      <td>8.000000</td>\n",
       "      <td>6.962500</td>\n",
       "    </tr>\n",
       "    <tr>\n",
       "      <th>75%</th>\n",
       "      <td>7.050000</td>\n",
       "      <td>5.550000</td>\n",
       "      <td>10.000000</td>\n",
       "      <td>9.000000</td>\n",
       "      <td>7.725000</td>\n",
       "    </tr>\n",
       "    <tr>\n",
       "      <th>max</th>\n",
       "      <td>9.450000</td>\n",
       "      <td>9.750000</td>\n",
       "      <td>10.000000</td>\n",
       "      <td>10.000000</td>\n",
       "      <td>9.725000</td>\n",
       "    </tr>\n",
       "  </tbody>\n",
       "</table>\n",
       "</div>"
      ],
      "text/plain": [
       "            Par1       Par2      Clase  Practicas  Nota_Final\n",
       "count  18.000000  17.000000  18.000000  17.000000   17.000000\n",
       "mean    5.388889   4.223529   8.005556   6.700000    6.226176\n",
       "std     2.583165   3.115140   2.704417   3.266305    2.386265\n",
       "min     1.750000   0.100000   1.670000   0.000000    1.447500\n",
       "25%     2.962500   1.850000   7.220000   4.500000    4.072500\n",
       "50%     6.065000   4.150000   9.170000   8.000000    6.962500\n",
       "75%     7.050000   5.550000  10.000000   9.000000    7.725000\n",
       "max     9.450000   9.750000  10.000000  10.000000    9.725000"
      ]
     },
     "execution_count": 28,
     "metadata": {},
     "output_type": "execute_result"
    }
   ],
   "source": [
    "# Lo mismo que lo anterior, pero únicamente para los alumnos del grupo A\n",
    "df.loc[df['Grupo'] == 'A'].describe()"
   ]
  },
  {
   "cell_type": "markdown",
   "metadata": {},
   "source": [
    "**`sum`, `mean`, `median`, `count`**"
   ]
  },
  {
   "cell_type": "code",
   "execution_count": 9,
   "metadata": {},
   "outputs": [
    {
     "name": "stdout",
     "output_type": "stream",
     "text": [
      "Nota media parcial 1:  5.195517241379311\n",
      "Nota media parcial 1:  5.19551724137931\n",
      "Mediana parcial 1:  5.35\n"
     ]
    }
   ],
   "source": [
    "# Nota media parcial 1\n",
    "print('Nota media parcial 1: ', df['Par1'].mean())  # También válido df.Par1.mean()\n",
    "# Otra forma de calcular la media\n",
    "print('Nota media parcial 1: ', df['Par1'].sum()/df['Par1'].count())\n",
    "\n",
    "# Mediana\n",
    "print('Mediana parcial 1: ', df['Par1'].median())"
   ]
  },
  {
   "cell_type": "markdown",
   "metadata": {},
   "source": [
    "**Correlación y covarianza: `corr`, `cov`**"
   ]
  },
  {
   "cell_type": "code",
   "execution_count": 29,
   "metadata": {},
   "outputs": [
    {
     "data": {
      "text/html": [
       "<div>\n",
       "<style scoped>\n",
       "    .dataframe tbody tr th:only-of-type {\n",
       "        vertical-align: middle;\n",
       "    }\n",
       "\n",
       "    .dataframe tbody tr th {\n",
       "        vertical-align: top;\n",
       "    }\n",
       "\n",
       "    .dataframe thead th {\n",
       "        text-align: right;\n",
       "    }\n",
       "</style>\n",
       "<table border=\"1\" class=\"dataframe\">\n",
       "  <thead>\n",
       "    <tr style=\"text-align: right;\">\n",
       "      <th></th>\n",
       "      <th>Par1</th>\n",
       "      <th>Par2</th>\n",
       "      <th>Clase</th>\n",
       "      <th>Practicas</th>\n",
       "      <th>Nota_Final</th>\n",
       "    </tr>\n",
       "  </thead>\n",
       "  <tbody>\n",
       "    <tr>\n",
       "      <th>Par1</th>\n",
       "      <td>1.000000</td>\n",
       "      <td>0.777271</td>\n",
       "      <td>0.583590</td>\n",
       "      <td>0.603694</td>\n",
       "      <td>0.829045</td>\n",
       "    </tr>\n",
       "    <tr>\n",
       "      <th>Par2</th>\n",
       "      <td>0.777271</td>\n",
       "      <td>1.000000</td>\n",
       "      <td>0.702407</td>\n",
       "      <td>0.677170</td>\n",
       "      <td>0.901620</td>\n",
       "    </tr>\n",
       "    <tr>\n",
       "      <th>Clase</th>\n",
       "      <td>0.583590</td>\n",
       "      <td>0.702407</td>\n",
       "      <td>1.000000</td>\n",
       "      <td>0.694667</td>\n",
       "      <td>0.861652</td>\n",
       "    </tr>\n",
       "    <tr>\n",
       "      <th>Practicas</th>\n",
       "      <td>0.603694</td>\n",
       "      <td>0.677170</td>\n",
       "      <td>0.694667</td>\n",
       "      <td>1.000000</td>\n",
       "      <td>0.876813</td>\n",
       "    </tr>\n",
       "    <tr>\n",
       "      <th>Nota_Final</th>\n",
       "      <td>0.829045</td>\n",
       "      <td>0.901620</td>\n",
       "      <td>0.861652</td>\n",
       "      <td>0.876813</td>\n",
       "      <td>1.000000</td>\n",
       "    </tr>\n",
       "  </tbody>\n",
       "</table>\n",
       "</div>"
      ],
      "text/plain": [
       "                Par1      Par2     Clase  Practicas  Nota_Final\n",
       "Par1        1.000000  0.777271  0.583590   0.603694    0.829045\n",
       "Par2        0.777271  1.000000  0.702407   0.677170    0.901620\n",
       "Clase       0.583590  0.702407  1.000000   0.694667    0.861652\n",
       "Practicas   0.603694  0.677170  0.694667   1.000000    0.876813\n",
       "Nota_Final  0.829045  0.901620  0.861652   0.876813    1.000000"
      ]
     },
     "execution_count": 29,
     "metadata": {},
     "output_type": "execute_result"
    }
   ],
   "source": [
    "# Correlación entre todas las columnas numéricas\n",
    "df.corr()"
   ]
  },
  {
   "cell_type": "code",
   "execution_count": 30,
   "metadata": {},
   "outputs": [
    {
     "data": {
      "text/html": [
       "<div>\n",
       "<style scoped>\n",
       "    .dataframe tbody tr th:only-of-type {\n",
       "        vertical-align: middle;\n",
       "    }\n",
       "\n",
       "    .dataframe tbody tr th {\n",
       "        vertical-align: top;\n",
       "    }\n",
       "\n",
       "    .dataframe thead th {\n",
       "        text-align: right;\n",
       "    }\n",
       "</style>\n",
       "<table border=\"1\" class=\"dataframe\">\n",
       "  <thead>\n",
       "    <tr style=\"text-align: right;\">\n",
       "      <th></th>\n",
       "      <th>Par1</th>\n",
       "      <th>Par2</th>\n",
       "      <th>Clase</th>\n",
       "      <th>Practicas</th>\n",
       "      <th>Nota_Final</th>\n",
       "    </tr>\n",
       "  </thead>\n",
       "  <tbody>\n",
       "    <tr>\n",
       "      <th>Par1</th>\n",
       "      <td>7.068243</td>\n",
       "      <td>6.256609</td>\n",
       "      <td>4.967777</td>\n",
       "      <td>6.038381</td>\n",
       "      <td>6.073402</td>\n",
       "    </tr>\n",
       "    <tr>\n",
       "      <th>Par2</th>\n",
       "      <td>6.256609</td>\n",
       "      <td>9.284441</td>\n",
       "      <td>6.776680</td>\n",
       "      <td>7.796672</td>\n",
       "      <td>7.603005</td>\n",
       "    </tr>\n",
       "    <tr>\n",
       "      <th>Clase</th>\n",
       "      <td>4.967777</td>\n",
       "      <td>6.776680</td>\n",
       "      <td>10.251734</td>\n",
       "      <td>8.343782</td>\n",
       "      <td>7.579987</td>\n",
       "    </tr>\n",
       "    <tr>\n",
       "      <th>Practicas</th>\n",
       "      <td>6.038381</td>\n",
       "      <td>7.796672</td>\n",
       "      <td>8.343782</td>\n",
       "      <td>14.138156</td>\n",
       "      <td>9.079248</td>\n",
       "    </tr>\n",
       "    <tr>\n",
       "      <th>Nota_Final</th>\n",
       "      <td>6.073402</td>\n",
       "      <td>7.603005</td>\n",
       "      <td>7.579987</td>\n",
       "      <td>9.079248</td>\n",
       "      <td>7.583911</td>\n",
       "    </tr>\n",
       "  </tbody>\n",
       "</table>\n",
       "</div>"
      ],
      "text/plain": [
       "                Par1      Par2      Clase  Practicas  Nota_Final\n",
       "Par1        7.068243  6.256609   4.967777   6.038381    6.073402\n",
       "Par2        6.256609  9.284441   6.776680   7.796672    7.603005\n",
       "Clase       4.967777  6.776680  10.251734   8.343782    7.579987\n",
       "Practicas   6.038381  7.796672   8.343782  14.138156    9.079248\n",
       "Nota_Final  6.073402  7.603005   7.579987   9.079248    7.583911"
      ]
     },
     "execution_count": 30,
     "metadata": {},
     "output_type": "execute_result"
    }
   ],
   "source": [
    "# Covarianza entre todas las columnas numéricas\n",
    "df.cov()"
   ]
  },
  {
   "cell_type": "code",
   "execution_count": 31,
   "metadata": {},
   "outputs": [
    {
     "data": {
      "text/html": [
       "<div>\n",
       "<style scoped>\n",
       "    .dataframe tbody tr th:only-of-type {\n",
       "        vertical-align: middle;\n",
       "    }\n",
       "\n",
       "    .dataframe tbody tr th {\n",
       "        vertical-align: top;\n",
       "    }\n",
       "\n",
       "    .dataframe thead th {\n",
       "        text-align: right;\n",
       "    }\n",
       "</style>\n",
       "<table border=\"1\" class=\"dataframe\">\n",
       "  <thead>\n",
       "    <tr style=\"text-align: right;\">\n",
       "      <th></th>\n",
       "      <th>Par1</th>\n",
       "      <th>Par2</th>\n",
       "    </tr>\n",
       "  </thead>\n",
       "  <tbody>\n",
       "    <tr>\n",
       "      <th>Par1</th>\n",
       "      <td>1.000000</td>\n",
       "      <td>0.721337</td>\n",
       "    </tr>\n",
       "    <tr>\n",
       "      <th>Par2</th>\n",
       "      <td>0.721337</td>\n",
       "      <td>1.000000</td>\n",
       "    </tr>\n",
       "  </tbody>\n",
       "</table>\n",
       "</div>"
      ],
      "text/plain": [
       "          Par1      Par2\n",
       "Par1  1.000000  0.721337\n",
       "Par2  0.721337  1.000000"
      ]
     },
     "execution_count": 31,
     "metadata": {},
     "output_type": "execute_result"
    }
   ],
   "source": [
    "# Correlación entre las notas del Parcial1 y Parcial2 para los alumnos del grupo A\n",
    "df.loc[df['Grupo'] == 'A', ['Par1','Par2']].corr()"
   ]
  },
  {
   "cell_type": "markdown",
   "metadata": {},
   "source": [
    "**`unique` y `value_counts`**\n",
    "\n",
    "**`unique`** muestra los distintos valores que aparecen en una columna dada"
   ]
  },
  {
   "cell_type": "code",
   "execution_count": null,
   "metadata": {},
   "outputs": [],
   "source": [
    "# Muestra las posibles etiquetas de la columna 'Grupo'\n",
    "print(df['Grupo'].unique())  # También válido df.Grupo.unique()\n"
   ]
  },
  {
   "cell_type": "markdown",
   "metadata": {},
   "source": [
    "**`value_counts`** cuenta, para una columna dada, la cantidad de registros (filas) para cada uno de los distintos valores que puede tener la columna."
   ]
  },
  {
   "cell_type": "code",
   "execution_count": 14,
   "metadata": {},
   "outputs": [
    {
     "name": "stdout",
     "output_type": "stream",
     "text": [
      "B    22\n",
      "C    18\n",
      "A    18\n",
      "Name: Grupo, dtype: int64\n"
     ]
    },
    {
     "data": {
      "text/html": [
       "<div>\n",
       "<style scoped>\n",
       "    .dataframe tbody tr th:only-of-type {\n",
       "        vertical-align: middle;\n",
       "    }\n",
       "\n",
       "    .dataframe tbody tr th {\n",
       "        vertical-align: top;\n",
       "    }\n",
       "\n",
       "    .dataframe thead th {\n",
       "        text-align: right;\n",
       "    }\n",
       "</style>\n",
       "<table border=\"1\" class=\"dataframe\">\n",
       "  <thead>\n",
       "    <tr style=\"text-align: right;\">\n",
       "      <th></th>\n",
       "      <th>Nombre</th>\n",
       "      <th>Par1</th>\n",
       "      <th>Par2</th>\n",
       "      <th>Clase</th>\n",
       "      <th>Practicas</th>\n",
       "    </tr>\n",
       "    <tr>\n",
       "      <th>Grupo</th>\n",
       "      <th></th>\n",
       "      <th></th>\n",
       "      <th></th>\n",
       "      <th></th>\n",
       "      <th></th>\n",
       "    </tr>\n",
       "  </thead>\n",
       "  <tbody>\n",
       "    <tr>\n",
       "      <th>A</th>\n",
       "      <td>18</td>\n",
       "      <td>18</td>\n",
       "      <td>17</td>\n",
       "      <td>18</td>\n",
       "      <td>17</td>\n",
       "    </tr>\n",
       "    <tr>\n",
       "      <th>B</th>\n",
       "      <td>22</td>\n",
       "      <td>22</td>\n",
       "      <td>22</td>\n",
       "      <td>22</td>\n",
       "      <td>21</td>\n",
       "    </tr>\n",
       "    <tr>\n",
       "      <th>C</th>\n",
       "      <td>18</td>\n",
       "      <td>18</td>\n",
       "      <td>18</td>\n",
       "      <td>18</td>\n",
       "      <td>18</td>\n",
       "    </tr>\n",
       "  </tbody>\n",
       "</table>\n",
       "</div>"
      ],
      "text/plain": [
       "       Nombre  Par1  Par2  Clase  Practicas\n",
       "Grupo                                      \n",
       "A          18    18    17     18         17\n",
       "B          22    22    22     22         21\n",
       "C          18    18    18     18         18"
      ]
     },
     "execution_count": 14,
     "metadata": {},
     "output_type": "execute_result"
    }
   ],
   "source": [
    "# Muestra el número de alumnos que hay en cada grupo\n",
    "print(df['Grupo'].value_counts())\n",
    "\n",
    "# Esto es equivalente a agrupar el dataframe por la columna 'Grupo', seleccionar \n",
    "# dicha columna y contar el número de filas de cada subgrupo\n",
    "df.groupby('Grupo').count()"
   ]
  },
  {
   "cell_type": "markdown",
   "metadata": {},
   "source": [
    "[Volver al índice](#indice)"
   ]
  },
  {
   "cell_type": "markdown",
   "metadata": {},
   "source": [
    "<a id='map_apply'></a>\n",
    "## Funciones de mapeo de datos: map y apply\n",
    "\n",
    "Las funciones `map` y `apply` toman un conjunto de valores y los \"mapean\" o transforman en otro conjunto aplicando alguna función previamente definida. Normalmente se emplean para crear nuevas filas o columnas a partir de las ya existentes.\n",
    "\n",
    "**`map`**\n",
    "\n",
    "`map` se aplica sobre un objeto `Series` del siguiente modo:\n",
    "\n",
    "`mi_serie.map(mi_funcion)`\n",
    "\n",
    "La función `mi_funcion` se ejecuta para cada uno de los valores de `mi_serie` y devuelve alguna transformación de dicho valor. `map` devuelve un nuevo objeto `Series` con todos sus valores transformados mediante `mi_funcion`"
   ]
  },
  {
   "cell_type": "code",
   "execution_count": null,
   "metadata": {},
   "outputs": [],
   "source": [
    "def nota_cualitativa(valor):\n",
    "    if valor < 5: return 'Suspenso'\n",
    "    elif valor < 7: return 'Aprobado'\n",
    "    elif valor < 9: return 'Notable'\n",
    "    else: return 'Sobresaliente'\n",
    "\n",
    "df['Nota cualitativa practicas'] = df['Practicas'].map(nota_cualitativa)\n",
    "df.head()"
   ]
  },
  {
   "cell_type": "markdown",
   "metadata": {},
   "source": [
    "**`apply`**\n",
    "\n",
    "`apply` puede aplicarse  tanto sobre un objeto `Series` como sobre un `DataFrame`. El caso del `DataFrame`, se utiliza del siguiente modo:\n",
    "\n",
    "`mi_dataframe.apply(mi_funcion, axis=eje)`\n",
    "\n",
    "donde `eje` puede ser `'rows'` (valor por defecto) o `'columns'` (también se permite usar `index` o 0 en lugar de `rows` y 1 en lugar de `columns`). Ten en cuenta que si el eje es `rows` los datos se agrupan por filas, por lo que cada llamada a `mi_funcion` recibirá una columna distinta, mientras que si eje es `columns`, los datos se agrupan por columnas, por lo que cada llamaa a `mi_funcion` recibirá una fila distinta.\n",
    "\n",
    "La función `mi_funcion` se ejecuta para cada una de las filas/columnas de `mi_dataframe` y devuelve alguna transformación de dicha fila/columna. `apply` devuelve un nuevo objeto `DataFrame` con sus valores transformados mediante `mi_funcion`"
   ]
  },
  {
   "cell_type": "code",
   "execution_count": null,
   "metadata": {},
   "outputs": [],
   "source": [
    "def nota_final(row):\n",
    "    row['Nota final'] = (row['Par1'] + row.Par2 + row.Clase + row.Practicas) / 4\n",
    "    return row\n",
    "\n",
    "df2 = df.apply(nota_final, axis='columns')\n",
    "df2.head()"
   ]
  },
  {
   "cell_type": "markdown",
   "metadata": {},
   "source": [
    "Es posible que `mi_funcion` reciba otros parámetros además de la fila/columna. En este caso, los valores de dichos parámetros se especifican en los argumentos de la misma función `apply`."
   ]
  },
  {
   "cell_type": "code",
   "execution_count": null,
   "metadata": {},
   "outputs": [],
   "source": [
    "def nota_final(row, pesos):\n",
    "    '''\n",
    "    pesos: lista con los pesos de cada una de las notas\n",
    "    '''\n",
    "    row['Nota final'] = row['Par1']*pesos[0] + row.Par2*pesos[1] + row.Clase*pesos[2] + row.Practicas*pesos[3]\n",
    "    return row\n",
    "\n",
    "df2 = df.apply(nota_final, pesos=[0.2, 0.25, 0.25, 0.3], axis='columns')\n",
    "df2.head()"
   ]
  },
  {
   "cell_type": "markdown",
   "metadata": {},
   "source": [
    "Por último, decir que también se puede usar una [**expresión lambda**](https://www.w3schools.com/python/python_lambda.asp) en lugar de `mi_funcion`."
   ]
  },
  {
   "cell_type": "markdown",
   "metadata": {},
   "source": [
    "[Volver al índice](#indice)"
   ]
  },
  {
   "cell_type": "markdown",
   "metadata": {},
   "source": [
    "<a id='agrupar'></a>\n",
    "## Agrupar datos\n",
    "\n",
    "La función **groupby** permite agrupar filas y aplicar operaciones específicas por grupos"
   ]
  },
  {
   "cell_type": "code",
   "execution_count": 32,
   "metadata": {},
   "outputs": [
    {
     "data": {
      "text/html": [
       "<div>\n",
       "<style scoped>\n",
       "    .dataframe tbody tr th:only-of-type {\n",
       "        vertical-align: middle;\n",
       "    }\n",
       "\n",
       "    .dataframe tbody tr th {\n",
       "        vertical-align: top;\n",
       "    }\n",
       "\n",
       "    .dataframe thead th {\n",
       "        text-align: right;\n",
       "    }\n",
       "</style>\n",
       "<table border=\"1\" class=\"dataframe\">\n",
       "  <thead>\n",
       "    <tr style=\"text-align: right;\">\n",
       "      <th></th>\n",
       "      <th>Par1</th>\n",
       "      <th>Par2</th>\n",
       "      <th>Clase</th>\n",
       "      <th>Practicas</th>\n",
       "      <th>Nota_Final</th>\n",
       "    </tr>\n",
       "    <tr>\n",
       "      <th>Grupo</th>\n",
       "      <th></th>\n",
       "      <th></th>\n",
       "      <th></th>\n",
       "      <th></th>\n",
       "      <th></th>\n",
       "    </tr>\n",
       "  </thead>\n",
       "  <tbody>\n",
       "    <tr>\n",
       "      <th>A</th>\n",
       "      <td>5.388889</td>\n",
       "      <td>4.223529</td>\n",
       "      <td>8.005556</td>\n",
       "      <td>6.700000</td>\n",
       "      <td>6.226176</td>\n",
       "    </tr>\n",
       "    <tr>\n",
       "      <th>B</th>\n",
       "      <td>4.747727</td>\n",
       "      <td>3.147727</td>\n",
       "      <td>5.066818</td>\n",
       "      <td>3.916667</td>\n",
       "      <td>4.220119</td>\n",
       "    </tr>\n",
       "    <tr>\n",
       "      <th>C</th>\n",
       "      <td>5.549444</td>\n",
       "      <td>4.955556</td>\n",
       "      <td>6.478333</td>\n",
       "      <td>6.402778</td>\n",
       "      <td>5.846528</td>\n",
       "    </tr>\n",
       "  </tbody>\n",
       "</table>\n",
       "</div>"
      ],
      "text/plain": [
       "           Par1      Par2     Clase  Practicas  Nota_Final\n",
       "Grupo                                                     \n",
       "A      5.388889  4.223529  8.005556   6.700000    6.226176\n",
       "B      4.747727  3.147727  5.066818   3.916667    4.220119\n",
       "C      5.549444  4.955556  6.478333   6.402778    5.846528"
      ]
     },
     "execution_count": 32,
     "metadata": {},
     "output_type": "execute_result"
    }
   ],
   "source": [
    "# Agrupa filas por columna 'Grupo' y calcula la media\n",
    "df.groupby('Grupo').mean()"
   ]
  },
  {
   "cell_type": "code",
   "execution_count": 33,
   "metadata": {},
   "outputs": [
    {
     "data": {
      "text/plain": [
       "Grupo\n",
       "A    6.700000\n",
       "B    3.916667\n",
       "C    6.402778\n",
       "Name: Practicas, dtype: float64"
      ]
     },
     "execution_count": 33,
     "metadata": {},
     "output_type": "execute_result"
    }
   ],
   "source": [
    "# Lo mismo que lo anterior, pero calcula únicamente la media de la columna 'Practicas'\n",
    "df.groupby('Grupo')['Practicas'].mean()"
   ]
  },
  {
   "cell_type": "code",
   "execution_count": 34,
   "metadata": {},
   "outputs": [
    {
     "data": {
      "text/html": [
       "<div>\n",
       "<style scoped>\n",
       "    .dataframe tbody tr th:only-of-type {\n",
       "        vertical-align: middle;\n",
       "    }\n",
       "\n",
       "    .dataframe tbody tr th {\n",
       "        vertical-align: top;\n",
       "    }\n",
       "\n",
       "    .dataframe thead th {\n",
       "        text-align: right;\n",
       "    }\n",
       "</style>\n",
       "<table border=\"1\" class=\"dataframe\">\n",
       "  <thead>\n",
       "    <tr style=\"text-align: right;\">\n",
       "      <th></th>\n",
       "      <th>Nombre</th>\n",
       "      <th>Par1</th>\n",
       "      <th>Par2</th>\n",
       "      <th>Clase</th>\n",
       "      <th>Practicas</th>\n",
       "      <th>Nota_Final</th>\n",
       "    </tr>\n",
       "    <tr>\n",
       "      <th>Grupo</th>\n",
       "      <th></th>\n",
       "      <th></th>\n",
       "      <th></th>\n",
       "      <th></th>\n",
       "      <th></th>\n",
       "      <th></th>\n",
       "    </tr>\n",
       "  </thead>\n",
       "  <tbody>\n",
       "    <tr>\n",
       "      <th>A</th>\n",
       "      <td>18</td>\n",
       "      <td>18</td>\n",
       "      <td>17</td>\n",
       "      <td>18</td>\n",
       "      <td>17</td>\n",
       "      <td>17</td>\n",
       "    </tr>\n",
       "    <tr>\n",
       "      <th>B</th>\n",
       "      <td>22</td>\n",
       "      <td>22</td>\n",
       "      <td>22</td>\n",
       "      <td>22</td>\n",
       "      <td>21</td>\n",
       "      <td>21</td>\n",
       "    </tr>\n",
       "    <tr>\n",
       "      <th>C</th>\n",
       "      <td>18</td>\n",
       "      <td>18</td>\n",
       "      <td>18</td>\n",
       "      <td>18</td>\n",
       "      <td>18</td>\n",
       "      <td>18</td>\n",
       "    </tr>\n",
       "  </tbody>\n",
       "</table>\n",
       "</div>"
      ],
      "text/plain": [
       "       Nombre  Par1  Par2  Clase  Practicas  Nota_Final\n",
       "Grupo                                                  \n",
       "A          18    18    17     18         17          17\n",
       "B          22    22    22     22         21          21\n",
       "C          18    18    18     18         18          18"
      ]
     },
     "execution_count": 34,
     "metadata": {},
     "output_type": "execute_result"
    }
   ],
   "source": [
    "# Cuenta el número filas (con valor distinto a NaN) por cada grupo\n",
    "df.groupby('Grupo').count()"
   ]
  },
  {
   "cell_type": "markdown",
   "metadata": {},
   "source": [
    "[Volver al índice](#indice)  "
   ]
  },
  {
   "cell_type": "markdown",
   "metadata": {},
   "source": [
    "<a id='datos_faltantes'></a>\n",
    "## Datos faltantes\n",
    "\n",
    "Es muy habitual que en el dataframe falten algunos valores. Cuando esto ocurre, pandas visualiza los datos faltantes con la etiqueta 'NaN' (Not a Number). \n",
    "\n",
    "**Comprobar si hay datos faltantes**\n",
    "\n",
    "La instrucción `df.isnull()` genera un dataframe de igual tamaño que el original, con los valores `True/False` dependiendo de que el elemento correspondiente tenga el valor igual/distinto de 'NaN'"
   ]
  },
  {
   "cell_type": "code",
   "execution_count": 4,
   "metadata": {},
   "outputs": [
    {
     "data": {
      "text/html": [
       "<div>\n",
       "<style scoped>\n",
       "    .dataframe tbody tr th:only-of-type {\n",
       "        vertical-align: middle;\n",
       "    }\n",
       "\n",
       "    .dataframe tbody tr th {\n",
       "        vertical-align: top;\n",
       "    }\n",
       "\n",
       "    .dataframe thead th {\n",
       "        text-align: right;\n",
       "    }\n",
       "</style>\n",
       "<table border=\"1\" class=\"dataframe\">\n",
       "  <thead>\n",
       "    <tr style=\"text-align: right;\">\n",
       "      <th></th>\n",
       "      <th>Nombre</th>\n",
       "      <th>Grupo</th>\n",
       "      <th>Par1</th>\n",
       "      <th>Par2</th>\n",
       "      <th>Clase</th>\n",
       "      <th>Practicas</th>\n",
       "    </tr>\n",
       "  </thead>\n",
       "  <tbody>\n",
       "    <tr>\n",
       "      <th>0</th>\n",
       "      <td>False</td>\n",
       "      <td>False</td>\n",
       "      <td>False</td>\n",
       "      <td>False</td>\n",
       "      <td>False</td>\n",
       "      <td>False</td>\n",
       "    </tr>\n",
       "    <tr>\n",
       "      <th>1</th>\n",
       "      <td>False</td>\n",
       "      <td>False</td>\n",
       "      <td>False</td>\n",
       "      <td>False</td>\n",
       "      <td>False</td>\n",
       "      <td>False</td>\n",
       "    </tr>\n",
       "    <tr>\n",
       "      <th>2</th>\n",
       "      <td>False</td>\n",
       "      <td>False</td>\n",
       "      <td>False</td>\n",
       "      <td>False</td>\n",
       "      <td>False</td>\n",
       "      <td>False</td>\n",
       "    </tr>\n",
       "    <tr>\n",
       "      <th>3</th>\n",
       "      <td>False</td>\n",
       "      <td>False</td>\n",
       "      <td>False</td>\n",
       "      <td>False</td>\n",
       "      <td>False</td>\n",
       "      <td>False</td>\n",
       "    </tr>\n",
       "    <tr>\n",
       "      <th>4</th>\n",
       "      <td>False</td>\n",
       "      <td>False</td>\n",
       "      <td>False</td>\n",
       "      <td>False</td>\n",
       "      <td>False</td>\n",
       "      <td>False</td>\n",
       "    </tr>\n",
       "    <tr>\n",
       "      <th>5</th>\n",
       "      <td>False</td>\n",
       "      <td>False</td>\n",
       "      <td>False</td>\n",
       "      <td>False</td>\n",
       "      <td>False</td>\n",
       "      <td>False</td>\n",
       "    </tr>\n",
       "    <tr>\n",
       "      <th>6</th>\n",
       "      <td>False</td>\n",
       "      <td>False</td>\n",
       "      <td>False</td>\n",
       "      <td>True</td>\n",
       "      <td>False</td>\n",
       "      <td>True</td>\n",
       "    </tr>\n",
       "    <tr>\n",
       "      <th>7</th>\n",
       "      <td>False</td>\n",
       "      <td>False</td>\n",
       "      <td>False</td>\n",
       "      <td>False</td>\n",
       "      <td>False</td>\n",
       "      <td>False</td>\n",
       "    </tr>\n",
       "    <tr>\n",
       "      <th>8</th>\n",
       "      <td>False</td>\n",
       "      <td>False</td>\n",
       "      <td>False</td>\n",
       "      <td>False</td>\n",
       "      <td>False</td>\n",
       "      <td>False</td>\n",
       "    </tr>\n",
       "    <tr>\n",
       "      <th>9</th>\n",
       "      <td>False</td>\n",
       "      <td>False</td>\n",
       "      <td>False</td>\n",
       "      <td>False</td>\n",
       "      <td>False</td>\n",
       "      <td>False</td>\n",
       "    </tr>\n",
       "  </tbody>\n",
       "</table>\n",
       "</div>"
      ],
      "text/plain": [
       "   Nombre  Grupo   Par1   Par2  Clase  Practicas\n",
       "0   False  False  False  False  False      False\n",
       "1   False  False  False  False  False      False\n",
       "2   False  False  False  False  False      False\n",
       "3   False  False  False  False  False      False\n",
       "4   False  False  False  False  False      False\n",
       "5   False  False  False  False  False      False\n",
       "6   False  False  False   True  False       True\n",
       "7   False  False  False  False  False      False\n",
       "8   False  False  False  False  False      False\n",
       "9   False  False  False  False  False      False"
      ]
     },
     "execution_count": 4,
     "metadata": {},
     "output_type": "execute_result"
    }
   ],
   "source": [
    "df.isnull().head(10)\n",
    "# Observa que hay datos faltantes en las columnas Par2 y Practicas de la fila 6"
   ]
  },
  {
   "cell_type": "markdown",
   "metadata": {},
   "source": [
    "La instrucción `df.isnull().any(axis='columns')` comprueba, para cada fila, si **alguna** de sus columnas tiene un valor 'NaN'. Como resultado genera un objeto `Series` con valores `True/False` de tamaño igual al número de filas del dataframe."
   ]
  },
  {
   "cell_type": "code",
   "execution_count": 6,
   "metadata": {},
   "outputs": [
    {
     "data": {
      "text/plain": [
       "0    False\n",
       "1    False\n",
       "2    False\n",
       "3    False\n",
       "4    False\n",
       "5    False\n",
       "6     True\n",
       "7    False\n",
       "8    False\n",
       "9    False\n",
       "dtype: bool"
      ]
     },
     "execution_count": 6,
     "metadata": {},
     "output_type": "execute_result"
    }
   ],
   "source": [
    "df.isnull().any(axis='columns').head(10)\n",
    "# Observa que en la fila 6 falta, al menos, un valor"
   ]
  },
  {
   "cell_type": "markdown",
   "metadata": {},
   "source": [
    "De modo similar, `df.isnull().any(axis='rows')` comprueba, para cada columna, si **alguna** de sus filas tiene un valor 'NaN'."
   ]
  },
  {
   "cell_type": "code",
   "execution_count": 8,
   "metadata": {},
   "outputs": [
    {
     "data": {
      "text/plain": [
       "Nombre       False\n",
       "Grupo        False\n",
       "Par1         False\n",
       "Par2          True\n",
       "Clase        False\n",
       "Practicas     True\n",
       "dtype: bool"
      ]
     },
     "execution_count": 8,
     "metadata": {},
     "output_type": "execute_result"
    }
   ],
   "source": [
    "df.isnull().any(axis='rows')\n",
    "# Observa que en las columnas 'Par2' y 'Practicas' falta, al menos, un valor. \n",
    "# El resto de columnas tiene todos los valores distintos de NaN"
   ]
  },
  {
   "cell_type": "markdown",
   "metadata": {},
   "source": [
    "**Mostrar las filas con datos faltantes**\n",
    "\n",
    "Siguiendo la sintaxis de [selección de filas en función de una condición](#sel_con), podemos mostrar las filas con algún dato faltante del siguiente modo:"
   ]
  },
  {
   "cell_type": "code",
   "execution_count": 9,
   "metadata": {},
   "outputs": [
    {
     "data": {
      "text/html": [
       "<div>\n",
       "<style scoped>\n",
       "    .dataframe tbody tr th:only-of-type {\n",
       "        vertical-align: middle;\n",
       "    }\n",
       "\n",
       "    .dataframe tbody tr th {\n",
       "        vertical-align: top;\n",
       "    }\n",
       "\n",
       "    .dataframe thead th {\n",
       "        text-align: right;\n",
       "    }\n",
       "</style>\n",
       "<table border=\"1\" class=\"dataframe\">\n",
       "  <thead>\n",
       "    <tr style=\"text-align: right;\">\n",
       "      <th></th>\n",
       "      <th>Nombre</th>\n",
       "      <th>Grupo</th>\n",
       "      <th>Par1</th>\n",
       "      <th>Par2</th>\n",
       "      <th>Clase</th>\n",
       "      <th>Practicas</th>\n",
       "    </tr>\n",
       "  </thead>\n",
       "  <tbody>\n",
       "    <tr>\n",
       "      <th>6</th>\n",
       "      <td>Bugs Bunny</td>\n",
       "      <td>A</td>\n",
       "      <td>1.75</td>\n",
       "      <td>NaN</td>\n",
       "      <td>1.67</td>\n",
       "      <td>NaN</td>\n",
       "    </tr>\n",
       "    <tr>\n",
       "      <th>32</th>\n",
       "      <td>Mickey Mouse</td>\n",
       "      <td>B</td>\n",
       "      <td>4.00</td>\n",
       "      <td>2.0</td>\n",
       "      <td>6.93</td>\n",
       "      <td>NaN</td>\n",
       "    </tr>\n",
       "  </tbody>\n",
       "</table>\n",
       "</div>"
      ],
      "text/plain": [
       "          Nombre Grupo  Par1  Par2  Clase  Practicas\n",
       "6     Bugs Bunny     A  1.75   NaN   1.67        NaN\n",
       "32  Mickey Mouse     B  4.00   2.0   6.93        NaN"
      ]
     },
     "execution_count": 9,
     "metadata": {},
     "output_type": "execute_result"
    }
   ],
   "source": [
    "df.loc[df.isnull().any(axis='columns')]"
   ]
  },
  {
   "cell_type": "markdown",
   "metadata": {},
   "source": [
    "**Reemplazar datos faltantes por un valor determinado**\n",
    "\n",
    "Pandas dispone de la función **fillna** (**fill** **n**ot **a**vailable) para substituir las celdas con etiqueta NaN por un valor determinado."
   ]
  },
  {
   "cell_type": "code",
   "execution_count": null,
   "metadata": {},
   "outputs": [],
   "source": [
    "# Cambia los valores NaN de la columna 'Practicas' por 0\n",
    "df['Practicas'].fillna(0, inplace=True) # inplace=True produce que se modifique el propio dataframe\n",
    "df.head(10)"
   ]
  },
  {
   "cell_type": "markdown",
   "metadata": {},
   "source": [
    "**Borrar filas/columnas con datos faltantes**"
   ]
  },
  {
   "cell_type": "code",
   "execution_count": null,
   "metadata": {},
   "outputs": [],
   "source": [
    "df.dropna(axis='rows', how='any', inplace=True) # Borra las filas que tengan al menos un valor faltante\n",
    "df.dropna(axis='rows', how='all', inplace=True) # Borra las filas que tengan todos los valores faltantes\n",
    "df.dropna(axis='columns', how='any', inplace=True) # Borra las columnas que tengan al menos un valor faltante\n",
    "df.dropna(axis='columns', how='all', inplace=True) # Borra las columnas que tengan todos los valores faltantes"
   ]
  },
  {
   "cell_type": "markdown",
   "metadata": {},
   "source": [
    "Si se no se especifica la opción `inplace=True`, en lugar de borrar los datos del dataframe original, se devuelve un nuevo dataframe sin las filas/columnas con datos faltantes"
   ]
  },
  {
   "cell_type": "markdown",
   "metadata": {},
   "source": [
    "[Volver al índice](#indice)"
   ]
  },
  {
   "cell_type": "markdown",
   "metadata": {},
   "source": [
    "<a id='guardar'></a>\n",
    "## Guardar el dataframe en un fichero\n",
    "Si hemos hecho cambios en el dataframe, puede interesar exportarlo a formato CSV mediante la operación to_csv.\n",
    "Puedes ver todos los parámetros de este método [aquí](https://pandas.pydata.org/pandas-docs/stable/reference/api/pandas.DataFrame.to_csv.html)."
   ]
  },
  {
   "cell_type": "code",
   "execution_count": 37,
   "metadata": {},
   "outputs": [],
   "source": [
    "df.to_csv('notas_modificado.csv', sep=';') # El delimitador es el carácter separador de columnas (por defecto, la coma)\n"
   ]
  },
  {
   "cell_type": "markdown",
   "metadata": {},
   "source": [
    "[Volver al índice](#indice)"
   ]
  },
  {
   "cell_type": "markdown",
   "metadata": {},
   "source": [
    "<a id='visualizacion'></a>\n",
    "## Visualización de datos\n",
    "Una parte importante del manejo de datos es su visualización, por lo que es muy habitual combinar el uso de pandas.dataframe con matplotlib. Para más información, puedes [consultar el tutorial sobre matplotlib](introduccion_matplotlib.ipynb)."
   ]
  },
  {
   "cell_type": "code",
   "execution_count": 7,
   "metadata": {},
   "outputs": [
    {
     "data": {
      "image/png": "[encoded data removed]",
      "text/plain": [
       "<Figure size 432x288 with 1 Axes>"
      ]
     },
     "metadata": {},
     "output_type": "display_data"
    }
   ],
   "source": [
    "# Por ejemplo, la siguiente gráfica muestra la relación entre las notas del parcial 1 y el 2\n",
    "import matplotlib.pyplot as plt\n",
    "x = df.loc[:,'Par1']\n",
    "y = df.loc[:,'Par2']\n",
    "plt.plot(x,y,'o')\n",
    "plt.xlabel('Parcial 1')\n",
    "plt.ylabel('Parcial 2')\n",
    "plt.show()"
   ]
  },
  {
   "cell_type": "code",
   "execution_count": 5,
   "metadata": {},
   "outputs": [
    {
     "data": {
      "image/png": "[encoded data removed]",
      "text/plain": [
       "<Figure size 432x288 with 1 Axes>"
      ]
     },
     "metadata": {},
     "output_type": "display_data"
    }
   ],
   "source": [
    "# La siguiente gráfica de barras muestra la nota media de Prácticas en cada grupo\n",
    "\n",
    "# Creamos un objeto 'notas' de tipo 'Series' cuyos índices son los grupos y cuyos \n",
    "# valores son las notas medias de la columna 'Practicas'\n",
    "notas = df.groupby('Grupo')['Practicas'].mean()\n",
    "\n",
    "\n",
    "import matplotlib.pyplot as plt\n",
    "plt.bar(notas.index, notas.values) # Mostrar los índices en el eje x y las notas en el eje y\n",
    "plt.show()"
   ]
  },
  {
   "cell_type": "code",
   "execution_count": 7,
   "metadata": {},
   "outputs": [
    {
     "data": {
      "image/png": "[encoded data removed]",
      "text/plain": [
       "<Figure size 432x288 with 1 Axes>"
      ]
     },
     "metadata": {},
     "output_type": "display_data"
    }
   ],
   "source": [
    "# La misma gráfica, pero en horizontal\n",
    "plt.barh(notas.index, notas.values)\n",
    "plt.show()"
   ]
  },
  {
   "cell_type": "code",
   "execution_count": 3,
   "metadata": {},
   "outputs": [
    {
     "data": {
      "text/plain": [
       "<matplotlib.axes._subplots.AxesSubplot at 0x7fd8f8c79668>"
      ]
     },
     "execution_count": 3,
     "metadata": {},
     "output_type": "execute_result"
    },
    {
     "data": {
      "image/png": "[encoded data removed]",
      "text/plain": [
       "<Figure size 432x288 with 1 Axes>"
      ]
     },
     "metadata": {},
     "output_type": "display_data"
    }
   ],
   "source": [
    "# Lo anterior también se puede hacer sin usar la librería matplotlib, ya que\n",
    "# los objetos de tipo 'Series' tienen sus propios métodos para mostrar gráficas\n",
    "\n",
    "notas = df.groupby('Grupo')['Practicas'].mean()\n",
    "notas.plot.bar()"
   ]
  },
  {
   "cell_type": "markdown",
   "metadata": {},
   "source": [
    "**Múltiples gráficas en una sola figura**\n",
    "\n",
    "Para crear varias gráficas en una sola figura debe usarse la función \n",
    "`plt.subplot(filas, columnas, índice)` donde:\n",
    "- `filas` x `columnas` representa el número total de gráficas a dibujar, organizadas en una matriz de esas dimensiones.\n",
    "- `indice` debe ser un valor entre 1 y `filas` x `columnas` que representa la ubicación de la siguiente gráfica en la matriz, siendo 1 la primera fila y columna, avanzando sucesivamente de izquierda a derecha y de arriba a abajo."
   ]
  },
  {
   "cell_type": "code",
   "execution_count": 12,
   "metadata": {},
   "outputs": [
    {
     "data": {
      "text/plain": [
       "<BarContainer object of 3 artists>"
      ]
     },
     "execution_count": 12,
     "metadata": {},
     "output_type": "execute_result"
    },
    {
     "data": {
      "image/png": "[encoded data removed]",
      "text/plain": [
       "<Figure size 720x432 with 4 Axes>"
      ]
     },
     "metadata": {},
     "output_type": "display_data"
    }
   ],
   "source": [
    "plt.figure(figsize=(10, 6)) # Tamaño total de la figura\n",
    "plt.subplot(2, 2, 1) # Gráfica 1 de un total de 2x2 gráficas\n",
    "plt.title('Gráfica 1 de 4')\n",
    "plt.bar(notas.index, notas.values)\n",
    "plt.subplot(2, 2, 2) # Gráfica 2 de un total de 2x2 gráficas\n",
    "plt.title('Gráfica 2 de 4')\n",
    "plt.barh(notas.index, notas.values)\n",
    "plt.subplot(2, 2, 3) # Gráfica 3 de un total de 2x2 gráficas\n",
    "plt.title('Gráfica 3 de 4')\n",
    "plt.barh(notas.index, notas.values)\n",
    "plt.subplot(2, 2, 4) # Gráfica 4 de un total de 2x2 gráficas\n",
    "plt.title('Gráfica 4 de 4')\n",
    "plt.bar(notas.index, notas.values)"
   ]
  },
  {
   "cell_type": "markdown",
   "metadata": {},
   "source": [
    "[Volver al índice](#indice)"
   ]
  },
  {
   "cell_type": "markdown",
   "metadata": {},
   "source": [
    "<a id='ajuste'></a>\n",
    "## Ajuste por mínimos cuadrados\n",
    "También puedes ajustar tus datos a cualquier tipo de función, tal y como se explica en el [tutorial de introducción al ajuste de funciones](introduccion_ajuste_curvas.ipynb)."
   ]
  },
  {
   "cell_type": "code",
   "execution_count": 7,
   "metadata": {},
   "outputs": [
    {
     "data": {
      "image/png": "[encoded data removed]",
      "text/plain": [
       "<Figure size 432x288 with 1 Axes>"
      ]
     },
     "metadata": {},
     "output_type": "display_data"
    }
   ],
   "source": [
    "import matplotlib.pyplot as plt\n",
    "import scipy.optimize as opt\n",
    "import numpy as np\n",
    "\n",
    "# Definir una función lineal\n",
    "def linear(x, a, b): return a * x + b\n",
    "\n",
    "# Si falta alguna nota, poner 0\n",
    "df['Par1'].fillna(0, inplace=True)\n",
    "df['Par2'].fillna(0, inplace=True)\n",
    "\n",
    "# Obtener las notas de los parciales 1 y 2\n",
    "x = df.loc[:,'Par1']\n",
    "y = df.loc[:,'Par2']\n",
    "\n",
    "# Ajustar la relación entre ambas notas a una recta del tipo Ax+B\n",
    "(A, B), _ = opt.curve_fit(linear, x, y)\n",
    "\n",
    "# Obtener una serie de puntos de la recta Ax+B y visualizar\n",
    "xfit = np.linspace(0,10,100)\n",
    "yfit = linear(xfit, A, B)\n",
    "plt.scatter(x, y)\n",
    "plt.plot(xfit, yfit, '-')\n",
    "plt.xlabel('Parcial 1')\n",
    "plt.ylabel('Parcial 2')\n",
    "plt.show()"
   ]
  },
  {
   "cell_type": "markdown",
   "metadata": {},
   "source": [
    "[Volver al índice](#indice)"
   ]
  }
 ],
 "metadata": {
  "kernelspec": {
   "display_name": "Python 3",
   "language": "python",
   "name": "python3"
  },
  "language_info": {
   "codemirror_mode": {
    "name": "ipython",
    "version": 3
   },
   "file_extension": ".py",
   "mimetype": "text/x-python",
   "name": "python",
   "nbconvert_exporter": "python",
   "pygments_lexer": "ipython3",
   "version": "3.6.9"
  }
 },
 "nbformat": 4,
 "nbformat_minor": 2
}
