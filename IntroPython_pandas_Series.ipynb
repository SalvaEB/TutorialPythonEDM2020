{
 "cells": [
  {
   "cell_type": "markdown",
   "metadata": {},
   "source": [
    "# Manejo de datos unidimensionales: Series"
   ]
  },
  {
   "cell_type": "markdown",
   "metadata": {},
   "source": [
    "<a id='indice'></a>\n",
    "# Índice\n",
    "1. ### [Introducción](#intro)\n",
    "1. ### [Cómo crear un objeto `Series`](#crear)\n",
    "1. ### [Acceso a los elementos con `[]`, `.loc[]` y `.iloc[]`](#acceso) \n",
    "    - #### [Acceso con `[]`](#acceso[])\n",
    "    - #### [Acceso con `.iloc[]`](#acceso_iloc)\n",
    "    - #### [Acceso con `.loc[]`](#acceso_loc)\n",
    "    - #### [Acceder a múltiples ítems](#acceso_multiple)\n",
    "1. ### [Selección condicional](#selec_condicional)\n",
    "1. ### [Visualización](#visualizacion)\n",
    "1. ### [Ejercicios](#ejercicios)\n",
    "1. ### [Bibliografía](#biblio)\n"
   ]
  },
  {
   "cell_type": "markdown",
   "metadata": {},
   "source": [
    "<a id='intro'></a>\n",
    "## Introducción\n",
    "\n",
    "**Pandas** es una librería de Python que proporciona estructuras de datos de alto nivel que permiten realizar gran cantidad de operaciones orientadas al análisis de datos.\n",
    "Permite trabajar tanto con datos unidimensionales, mediante la estructura de datos `Series` como con datos multidimensionales mediante `DataFrame`. En este tutorial nos centraremos en la estructura de datos `Series`.\n",
    "\n",
    "### La estructura de datos `Series`\n",
    "\n",
    "Una estructura `Series` almacena datos unidimensionales de manera indexada, esto es, cada valor tiene un índice asociado. Este índice puede ser tanto un valor numérico como una etiqueta. Por defecto, si no se especifica nada, los valores se asocian con índices numéricos empezando por cero, tal y como ocurre con las listas.\n",
    "\n",
    "### Importar pandas\n",
    "Para poder trabajar con la estructura de datos `Series`, lo primero que debemos hacer es importar la librería **pandas**:"
   ]
  },
  {
   "cell_type": "code",
   "execution_count": 1,
   "metadata": {},
   "outputs": [],
   "source": [
    "import pandas as pd"
   ]
  },
  {
   "cell_type": "markdown",
   "metadata": {},
   "source": [
    "[Volver al índice](#indice)"
   ]
  },
  {
   "cell_type": "markdown",
   "metadata": {},
   "source": [
    "<a id='crear'></a>\n",
    "## Crear un objeto `Series`:\n",
    "\n",
    "Es posible crear una estructura `Series` a partir de una lista, de un diccionario o de funciones `NumPy`, entre otros.\n",
    "\n",
    "#### A partir de una lista"
   ]
  },
  {
   "cell_type": "code",
   "execution_count": 2,
   "metadata": {},
   "outputs": [
    {
     "data": {
      "text/plain": [
       "0     2\n",
       "1     4\n",
       "2     8\n",
       "3    16\n",
       "4    32\n",
       "dtype: int64"
      ]
     },
     "execution_count": 2,
     "metadata": {},
     "output_type": "execute_result"
    }
   ],
   "source": [
    "# Crear una Series a partir de una lista (con índices por defecto)\n",
    "s = pd.Series([2,4,8,16,32])\n",
    "s  # Al mostrar la serie veremos en la primera columna los índices y en la segunda los valores"
   ]
  },
  {
   "cell_type": "markdown",
   "metadata": {},
   "source": [
    "#### A partir de un diccionario"
   ]
  },
  {
   "cell_type": "code",
   "execution_count": 3,
   "metadata": {},
   "outputs": [
    {
     "data": {
      "text/plain": [
       "Ana      6.5\n",
       "Juan     7.5\n",
       "Luis     5.7\n",
       "María    9.2\n",
       "dtype: float64"
      ]
     },
     "execution_count": 3,
     "metadata": {},
     "output_type": "execute_result"
    }
   ],
   "source": [
    "# Crear una Series a partir de un diccionario\n",
    "notas = pd.Series({'Juan':7.5, 'María':9.2, 'Luis':5.7, 'Ana':6.5})\n",
    "notas  # Al mostrar la serie veremos en la primera columna los índices y en la segunda los valores"
   ]
  },
  {
   "cell_type": "markdown",
   "metadata": {},
   "source": [
    "Como vemos, al crear una serie a partir de un diccionario, se utilizan las claves como índice de los valores\n",
    "\n",
    "**Atención:** Como ya sabrás, los diccionarios no guardan los pares clave,valor en un orden concreto, por lo que el orden en el que aparecen en la serie no tiene por qué coincidir con el orden en que se añadieron en el diccionario."
   ]
  },
  {
   "cell_type": "markdown",
   "metadata": {},
   "source": [
    "#### A partir de vectores/arrays de la biblioteca NumPy\n",
    "\n",
    "También es posible crear una serie Pandas a partir de un objeto de tipo `numpy.ndarray` que es el tipo de los vectores o arrays de la biblioteca NumPy:"
   ]
  },
  {
   "cell_type": "code",
   "execution_count": 4,
   "metadata": {},
   "outputs": [
    {
     "name": "stdout",
     "output_type": "stream",
     "text": [
      "<class 'numpy.ndarray'>\n"
     ]
    },
    {
     "data": {
      "text/plain": [
       "0    0.064593\n",
       "1    0.921136\n",
       "2    0.711133\n",
       "3    0.462841\n",
       "4    0.770744\n",
       "dtype: float64"
      ]
     },
     "execution_count": 4,
     "metadata": {},
     "output_type": "execute_result"
    }
   ],
   "source": [
    "# Crear una Series a partir de una función NumPy\n",
    "import numpy as np\n",
    "print(type(np.random.rand(5))) # muestra <class 'numpy.ndarray'>\n",
    "random = pd.Series(np.random.rand(5))\n",
    "random"
   ]
  },
  {
   "cell_type": "markdown",
   "metadata": {},
   "source": [
    "#### Especificar los índices a utilizar\n",
    "\n",
    "Como se ha dicho anteriormente, si no se especifica lo contrario, a cada valor de la serie se le asocia como índice un valor entero, empezando por 0. Pero también es posible especificar los índices a utilizar, los cuales pueden ser tanto números como etiquetas. Para ello pasamos a `pd.Series` un segundo argumento opcional:"
   ]
  },
  {
   "cell_type": "code",
   "execution_count": 5,
   "metadata": {},
   "outputs": [
    {
     "data": {
      "text/plain": [
       "10    1024\n",
       "11    2048\n",
       "12    4096\n",
       "13    8192\n",
       "dtype: int64"
      ]
     },
     "execution_count": 5,
     "metadata": {},
     "output_type": "execute_result"
    }
   ],
   "source": [
    "# Crear una serie con índices específicos\n",
    "s = pd.Series([1024, 2048, 4096, 8192], [10,11,12,13])\n",
    "s"
   ]
  },
  {
   "cell_type": "code",
   "execution_count": 6,
   "metadata": {},
   "outputs": [
    {
     "data": {
      "text/plain": [
       "Mercurio    1408\n",
       "Venus       5832\n",
       "Tierra        24\n",
       "Marte         25\n",
       "Júpiter       10\n",
       "Saturno       11\n",
       "Urano         17\n",
       "Neptuno       16\n",
       "dtype: int64"
      ]
     },
     "execution_count": 6,
     "metadata": {},
     "output_type": "execute_result"
    }
   ],
   "source": [
    "# Crear una serie donde los índices son etiquetas\n",
    "etiquetas = ['Mercurio', 'Venus', 'Tierra', 'Marte', 'Júpiter', 'Saturno', 'Urano', 'Neptuno']\n",
    "valores = [1408, 5832, 24, 25, 10, 11, 17, 16]\n",
    "horas_dia = pd.Series(valores, etiquetas)\n",
    "horas_dia"
   ]
  },
  {
   "cell_type": "markdown",
   "metadata": {},
   "source": [
    "[Volver al índice](#indice)"
   ]
  },
  {
   "cell_type": "markdown",
   "metadata": {},
   "source": [
    "<a id='acceso'></a>\n",
    "## Acceso a los elementos con `[]`, `.loc[]` y `.iloc[]`\n",
    "\n",
    "Es posible acceder a los valores de una serie tanto a partir de su etiqueta como de su posición."
   ]
  },
  {
   "cell_type": "markdown",
   "metadata": {},
   "source": [
    "<a id='acceso[]'></a>\n",
    "### Acceso mediante el operador `[]`\n",
    "\n",
    "El operador `[]` permite buscar los valores tanto por **posición** como por **etiqueta**, dependiendo del valor que pongamos enre los corchetes. Esto, como se muestra en el último ejemplo, puede llegar a ser confuso."
   ]
  },
  {
   "cell_type": "code",
   "execution_count": 7,
   "metadata": {},
   "outputs": [
    {
     "name": "stdout",
     "output_type": "stream",
     "text": [
      "8\n"
     ]
    },
    {
     "data": {
      "text/plain": [
       "0     2\n",
       "1     4\n",
       "2     8\n",
       "3    16\n",
       "4    32\n",
       "5    64\n",
       "dtype: int64"
      ]
     },
     "execution_count": 7,
     "metadata": {},
     "output_type": "execute_result"
    }
   ],
   "source": [
    "s = pd.Series([2,4,8,16,32,64])\n",
    "print(s[2]) # Muestra el elemento en tercera posición (recuerda que el primer elemento ocupa la posición 0)\n",
    "s"
   ]
  },
  {
   "cell_type": "markdown",
   "metadata": {},
   "source": [
    "Si se ha definido explícitamente un índice, entonces es posible realizar la búsqueda a partir de las etiquetas de los índices."
   ]
  },
  {
   "cell_type": "code",
   "execution_count": 8,
   "metadata": {},
   "outputs": [
    {
     "name": "stdout",
     "output_type": "stream",
     "text": [
      "Duración del día en La Tierra: 24 h.\n",
      "Duración del día en Marte: 25 h.\n"
     ]
    }
   ],
   "source": [
    "etiquetas = ['Mercurio', 'Venus', 'Tierra', 'Marte', 'Júpiter', 'Saturno', 'Urano', 'Neptuno']\n",
    "valores = [1408, 5832, 24, 25, 10, 11, 17, 16]\n",
    "horas_dia = pd.Series(valores, etiquetas)\n",
    "\n",
    "# Acceso por etiqueta\n",
    "print(f\"Duración del día en La Tierra: {horas_dia['Tierra']} h.\")\n",
    "\n",
    "# Aunque sigue siendo posible hacer la búsqueda por posición\n",
    "print(f\"Duración del día en Marte: {horas_dia[3]} h.\")"
   ]
  },
  {
   "cell_type": "markdown",
   "metadata": {},
   "source": [
    "La confusión llega **cuando todas las etiquetas son numéricas**. En este caso, el número indicado entre corchetes indicará la etiqueta y no la posición."
   ]
  },
  {
   "cell_type": "code",
   "execution_count": 9,
   "metadata": {},
   "outputs": [
    {
     "name": "stdout",
     "output_type": "stream",
     "text": [
      "1024\n",
      "Ha dado un KeyError\n"
     ]
    }
   ],
   "source": [
    "s = pd.Series([1024, 2048, 4096, 8192], [3,4,5,6])\n",
    "print(s[3])  # Accede al valor 1024 (etiqueta 3) y no al 8192 (posición 3)\n",
    "try:\n",
    "    print(s[0]) #genera una excepción de tipo KeyError ya que no existe la etiqueta 0\n",
    "except KeyError:\n",
    "    print(\"Ha dado un KeyError\")"
   ]
  },
  {
   "cell_type": "markdown",
   "metadata": {},
   "source": [
    "Pero cuando no todas las etiquetas son numéricas los índices numéricos pueden utilizarse como etiqueta y, si no existen como tal, como posición:"
   ]
  },
  {
   "cell_type": "code",
   "execution_count": 10,
   "metadata": {},
   "outputs": [
    {
     "name": "stdout",
     "output_type": "stream",
     "text": [
      "1024\n",
      "1024\n"
     ]
    }
   ],
   "source": [
    "s = pd.Series([1024, 2048, 4096, 8192], [3,4,5,\"hola\"])\n",
    "print(s[3]) # Accede al valor 1024 y no a la posición 3 (valor 8192)\n",
    "print(s[0]) # Accede también al valor 1024, por posición y no por etiqueta"
   ]
  },
  {
   "cell_type": "markdown",
   "metadata": {},
   "source": [
    "¿Es confuso o no es confuso?"
   ]
  },
  {
   "cell_type": "markdown",
   "metadata": {},
   "source": [
    "<a id='acceso_iloc'></a>\n",
    "### Acceso mediante `.iloc[]`\n",
    "\n",
    "El operador `.iloc[]` busca **únicamente por posición**."
   ]
  },
  {
   "cell_type": "code",
   "execution_count": 13,
   "metadata": {},
   "outputs": [
    {
     "name": "stdout",
     "output_type": "stream",
     "text": [
      "1024\n",
      "Ha dado un IndexError\n"
     ]
    }
   ],
   "source": [
    "s = pd.Series([1024, 2048, 4096, 8192], [10,11,12,13])\n",
    "print(s.iloc[0])  # Accede al valor 1024\n",
    "try:\n",
    "    s.iloc[10] # genera una excepción ya que no existe la posición 10\n",
    "except IndexError:\n",
    "    print(\"Ha dado un IndexError\")"
   ]
  },
  {
   "cell_type": "markdown",
   "metadata": {},
   "source": [
    "<a id='acceso_loc'></a>\n",
    "### Acceso mediante `.loc[]`\n",
    "\n",
    "El operador `.loc[]` busca **únicamente por etiqueta**."
   ]
  },
  {
   "cell_type": "code",
   "execution_count": 14,
   "metadata": {},
   "outputs": [
    {
     "name": "stdout",
     "output_type": "stream",
     "text": [
      "1024\n",
      "Dispara un KeyError\n"
     ]
    }
   ],
   "source": [
    "s = pd.Series([1024, 2048, 4096, 8192], [10,11,12,13])\n",
    "print(s.loc[10])  # Accede al valor 1024\n",
    "try:\n",
    "    print(s.loc[0]) # genera una excepción ya que no existe la etiqueta 0\n",
    "except KeyError:\n",
    "    print(\"Dispara un KeyError\")"
   ]
  },
  {
   "cell_type": "markdown",
   "metadata": {},
   "source": [
    "<a id='acceso_multiple'></a>\n",
    "### Acceder a múltiple ítems\n",
    "\n",
    "Independientemente del método de búsqueda empleado (por posición o por etiqueta), es posible acceder a varios ítems simultáneamente mediante:\n",
    "\n",
    "   - la especificación de una lista con las posiciones o etiquetas de los elementos a recuperar\n",
    "   - el uso de *slicing*\n",
    "   \n",
    "En ambos casos, el resultado de la operación será una nueva estructura `Series` con los ítems seleccionados, aunque con una importante diferencia:\n",
    "\n",
    "- En el primer caso (**lista**) la serie resultante contiene una **copia** de los ítems seleccionados, mientras que\n",
    "- En el segundo (***slicing***) la serie resultante contiene **referencias** a los ítems seleccionados.\n",
    "\n",
    "Ello implica que si usamos *slicing*, la modificación de cualquier ítem de la serie resultante afectará también a la serie original, cosa que no ocurrirá si seleccionamos mediante una lista. "
   ]
  },
  {
   "cell_type": "markdown",
   "metadata": {},
   "source": [
    "#### Recuperar ítems a partir de lista de etiquetas"
   ]
  },
  {
   "cell_type": "code",
   "execution_count": 15,
   "metadata": {},
   "outputs": [
    {
     "name": "stdout",
     "output_type": "stream",
     "text": [
      "horas_dia es de tipo <class 'pandas.core.series.Series'>\n",
      "selec es de tipo <class 'pandas.core.series.Series'>\n"
     ]
    },
    {
     "data": {
      "text/plain": [
       "Tierra     24\n",
       "Júpiter    10\n",
       "Urano      17\n",
       "dtype: int64"
      ]
     },
     "execution_count": 15,
     "metadata": {},
     "output_type": "execute_result"
    }
   ],
   "source": [
    "print(\"horas_dia es de tipo\",type(horas_dia))\n",
    "selec = horas_dia.loc[['Tierra', 'Júpiter', 'Urano']]\n",
    "print(\"selec es de tipo\",type(selec))\n",
    "selec"
   ]
  },
  {
   "cell_type": "markdown",
   "metadata": {},
   "source": [
    "#### Recuperar ítems a partir de lista de índices"
   ]
  },
  {
   "cell_type": "code",
   "execution_count": 16,
   "metadata": {},
   "outputs": [
    {
     "data": {
      "text/plain": [
       "Mercurio    1408\n",
       "Tierra        24\n",
       "Saturno       11\n",
       "dtype: int64"
      ]
     },
     "execution_count": 16,
     "metadata": {},
     "output_type": "execute_result"
    }
   ],
   "source": [
    "selec = horas_dia.iloc[[0,2,5]]\n",
    "selec"
   ]
  },
  {
   "cell_type": "markdown",
   "metadata": {},
   "source": [
    "#### Recuperar ítems mediante *slicing* (con etiquetas)"
   ]
  },
  {
   "cell_type": "code",
   "execution_count": 17,
   "metadata": {},
   "outputs": [
    {
     "name": "stdout",
     "output_type": "stream",
     "text": [
      "selec es de tipo <class 'pandas.core.series.Series'>\n"
     ]
    },
    {
     "data": {
      "text/plain": [
       "Tierra     24\n",
       "Marte      25\n",
       "Júpiter    10\n",
       "Saturno    11\n",
       "Urano      17\n",
       "dtype: int64"
      ]
     },
     "execution_count": 17,
     "metadata": {},
     "output_type": "execute_result"
    }
   ],
   "source": [
    "selec = horas_dia.loc['Tierra':'Urano']\n",
    "print('selec es de tipo',type(selec))\n",
    "selec"
   ]
  },
  {
   "cell_type": "markdown",
   "metadata": {},
   "source": [
    "#### Recuperar ítems mediante *slicing* (con índices)"
   ]
  },
  {
   "cell_type": "code",
   "execution_count": 18,
   "metadata": {},
   "outputs": [
    {
     "name": "stdout",
     "output_type": "stream",
     "text": [
      "selec es de tipo <class 'pandas.core.series.Series'>\n"
     ]
    },
    {
     "data": {
      "text/plain": [
       "Venus     5832\n",
       "Tierra      24\n",
       "Marte       25\n",
       "dtype: int64"
      ]
     },
     "execution_count": 18,
     "metadata": {},
     "output_type": "execute_result"
    }
   ],
   "source": [
    "selec = horas_dia.iloc[1:4]\n",
    "print(\"selec es de tipo\",type(selec))\n",
    "selec"
   ]
  },
  {
   "cell_type": "markdown",
   "metadata": {},
   "source": [
    "Nótese que todo lo anterior puede realizarse también directamente con el operador `[]` (sin usar `.loc` o `.iloc`)."
   ]
  },
  {
   "cell_type": "markdown",
   "metadata": {},
   "source": [
    "#### Lista vs *slicing*\n",
    "\n",
    "Como se ha mencionado anteriormente, la selección mediante una lista de índices o etiquetas genera una nueva **copia** de los ítems seleccionados, mientras que el uso de *slicing* genera **referencias** a los ítems selecionados."
   ]
  },
  {
   "cell_type": "code",
   "execution_count": 19,
   "metadata": {},
   "outputs": [
    {
     "name": "stdout",
     "output_type": "stream",
     "text": [
      "Duración del día en La Tierra (en la nueva serie): 25\n",
      "Duración del día en La Tierra (en la serie original): 24\n"
     ]
    }
   ],
   "source": [
    "selec = horas_dia.loc[['Tierra', 'Júpiter', 'Urano']]\n",
    "selec['Tierra'] = 25 # Modificamos la duración del día en la tierra. Este cambio NO afecta a la serie original\n",
    "print(\"Duración del día en La Tierra (en la nueva serie):\",selec['Tierra'])\n",
    "print(\"Duración del día en La Tierra (en la serie original):\",horas_dia['Tierra'])"
   ]
  },
  {
   "cell_type": "code",
   "execution_count": 20,
   "metadata": {},
   "outputs": [
    {
     "name": "stdout",
     "output_type": "stream",
     "text": [
      "Duración del día en La Tierra (en la nueva serie): 25\n",
      "Duración del día en La Tierra (en la serie original): 25\n"
     ]
    }
   ],
   "source": [
    "selec = horas_dia.iloc[:3]\n",
    "selec['Tierra'] = 25 # Modificamos la duración del día en la tierra. Este cambio SÍ afecta a la serie original\n",
    "print(\"Duración del día en La Tierra (en la nueva serie):\",selec['Tierra'])\n",
    "print(\"Duración del día en La Tierra (en la serie original):\",horas_dia['Tierra'])\n",
    "\n",
    "selec['Tierra'] = 24 # Lo volvemos a dejar como estaba"
   ]
  },
  {
   "cell_type": "markdown",
   "metadata": {},
   "source": [
    "[Volver al índice](#indice)"
   ]
  },
  {
   "cell_type": "markdown",
   "metadata": {},
   "source": [
    "<a id='selec_condicional'></a>\n",
    "## Selección condicional\n",
    "\n",
    "Además del uso de *slicing* o de listas de índices/etiquetas para seleccionar ítems de una serie, también es posible seleccionar elementos que cumplan cierta condición."
   ]
  },
  {
   "cell_type": "markdown",
   "metadata": {},
   "source": [
    "Para realizar una selección condicional se aplica en primer lugar una expresión booleana a todos los elementos de la serie, lo cual **devuelve una nueva serie del mismo tamaño con valores de tipo booleano (`True`/`False`)**, dependiendo de que los valores correspondientes en la serie original cumplan o no dicha expresión."
   ]
  },
  {
   "cell_type": "code",
   "execution_count": 21,
   "metadata": {},
   "outputs": [
    {
     "name": "stdout",
     "output_type": "stream",
     "text": [
      "flags es de tipo <class 'pandas.core.series.Series'> de tipo bool\n"
     ]
    },
    {
     "data": {
      "text/plain": [
       "Mercurio     True\n",
       "Venus        True\n",
       "Tierra      False\n",
       "Marte        True\n",
       "Júpiter     False\n",
       "Saturno     False\n",
       "Urano       False\n",
       "Neptuno     False\n",
       "dtype: bool"
      ]
     },
     "execution_count": 21,
     "metadata": {},
     "output_type": "execute_result"
    }
   ],
   "source": [
    "flags = horas_dia > 24\n",
    "print('flags es de tipo',type(flags),\"de tipo\",flags.dtype)\n",
    "flags"
   ]
  },
  {
   "cell_type": "markdown",
   "metadata": {},
   "source": [
    "A continuación, con la serie `flags` podemos seleccionar aquellos planetas cuyos días duran más de 24 horas:"
   ]
  },
  {
   "cell_type": "code",
   "execution_count": 22,
   "metadata": {},
   "outputs": [
    {
     "data": {
      "text/plain": [
       "Mercurio    1408\n",
       "Venus       5832\n",
       "Marte         25\n",
       "dtype: int64"
      ]
     },
     "execution_count": 22,
     "metadata": {},
     "output_type": "execute_result"
    }
   ],
   "source": [
    "planetas_con_dias_largos = horas_dia[flags]\n",
    "planetas_con_dias_largos"
   ]
  },
  {
   "cell_type": "markdown",
   "metadata": {},
   "source": [
    "También es posible hacerlo en un único paso:"
   ]
  },
  {
   "cell_type": "code",
   "execution_count": 23,
   "metadata": {},
   "outputs": [
    {
     "data": {
      "text/plain": [
       "Júpiter    10\n",
       "Saturno    11\n",
       "Urano      17\n",
       "Neptuno    16\n",
       "dtype: int64"
      ]
     },
     "execution_count": 23,
     "metadata": {},
     "output_type": "execute_result"
    }
   ],
   "source": [
    "planetas_con_dias_cortos = horas_dia[horas_dia<24]\n",
    "planetas_con_dias_cortos"
   ]
  },
  {
   "cell_type": "markdown",
   "metadata": {},
   "source": [
    "Si se requiere definir una condición más compleja que combine varias operaciones lógicas, **no es posible usar la sintaxis habitual con los operadores `and` y `or`**. Si ejecutas la siguiente celda:"
   ]
  },
  {
   "cell_type": "code",
   "execution_count": 24,
   "metadata": {},
   "outputs": [
    {
     "ename": "ValueError",
     "evalue": "The truth value of a Series is ambiguous. Use a.empty, a.bool(), a.item(), a.any() or a.all().",
     "output_type": "error",
     "traceback": [
      "\u001b[0;31m---------------------------------------------------------------------------\u001b[0m",
      "\u001b[0;31mValueError\u001b[0m                                Traceback (most recent call last)",
      "\u001b[0;32m<ipython-input-24-97fb96366106>\u001b[0m in \u001b[0;36m<module>\u001b[0;34m\u001b[0m\n\u001b[0;32m----> 1\u001b[0;31m \u001b[0mhoras_dia\u001b[0m \u001b[0;34m>=\u001b[0m \u001b[0;36m15\u001b[0m \u001b[0;32mand\u001b[0m \u001b[0mhoras_dia\u001b[0m \u001b[0;34m<=\u001b[0m \u001b[0;36m30\u001b[0m\u001b[0;34m\u001b[0m\u001b[0;34m\u001b[0m\u001b[0m\n\u001b[0m",
      "\u001b[0;32m/usr/lib/python3/dist-packages/pandas/core/generic.py\u001b[0m in \u001b[0;36m__nonzero__\u001b[0;34m(self)\u001b[0m\n\u001b[1;32m   1119\u001b[0m         raise ValueError(\"The truth value of a {0} is ambiguous. \"\n\u001b[1;32m   1120\u001b[0m                          \u001b[0;34m\"Use a.empty, a.bool(), a.item(), a.any() or a.all().\"\u001b[0m\u001b[0;34m\u001b[0m\u001b[0;34m\u001b[0m\u001b[0m\n\u001b[0;32m-> 1121\u001b[0;31m                          .format(self.__class__.__name__))\n\u001b[0m\u001b[1;32m   1122\u001b[0m \u001b[0;34m\u001b[0m\u001b[0m\n\u001b[1;32m   1123\u001b[0m     \u001b[0m__bool__\u001b[0m \u001b[0;34m=\u001b[0m \u001b[0m__nonzero__\u001b[0m\u001b[0;34m\u001b[0m\u001b[0;34m\u001b[0m\u001b[0m\n",
      "\u001b[0;31mValueError\u001b[0m: The truth value of a Series is ambiguous. Use a.empty, a.bool(), a.item(), a.any() or a.all()."
     ]
    }
   ],
   "source": [
    "horas_dia >= 15 and horas_dia <= 30 "
   ]
  },
  {
   "cell_type": "markdown",
   "metadata": {},
   "source": [
    "Dará el siguiente error:\n",
    "\n",
    "```\n",
    "---------------------------------------------------------------------------\n",
    "ValueError                                Traceback (most recent call last)\n",
    "<ipython-input-47-2da9a30dcb2b> in <module>\n",
    "----> 1 horas_dia >= 15 and horas_dia <= 30\n",
    "\n",
    "/usr/lib/python3/dist-packages/pandas/core/generic.py in __nonzero__(self)\n",
    "   1119         raise ValueError(\"The truth value of a {0} is ambiguous. \"\n",
    "   1120                          \"Use a.empty, a.bool(), a.item(), a.any() or a.all().\"\n",
    "-> 1121                          .format(self.__class__.__name__))\n",
    "   1122 \n",
    "   1123     __bool__ = __nonzero__\n",
    "\n",
    "ValueError: The truth value of a Series is ambiguous. Use a.empty, a.bool(), a.item(), a.any() or a.all().\n",
    "```"
   ]
  },
  {
   "cell_type": "markdown",
   "metadata": {},
   "source": [
    "En este caso, la expresión booleana debe usar los operadores `&` y `|` en lugar de `and` y `or` respecivamente, y cada una de las operaciones debe ir encerrada entre paréntesis."
   ]
  },
  {
   "cell_type": "code",
   "execution_count": 11,
   "metadata": {},
   "outputs": [
    {
     "data": {
      "text/plain": [
       "Tierra     24\n",
       "Marte      25\n",
       "Urano      17\n",
       "Neptuno    16\n",
       "dtype: int64"
      ]
     },
     "execution_count": 11,
     "metadata": {},
     "output_type": "execute_result"
    }
   ],
   "source": [
    "planetas_con_duracion_dia_intermedia = horas_dia[(horas_dia >= 15) & (horas_dia <= 30)]\n",
    "planetas_con_duracion_dia_intermedia"
   ]
  },
  {
   "cell_type": "markdown",
   "metadata": {},
   "source": [
    "[Volver al índice](#indice)"
   ]
  },
  {
   "cell_type": "markdown",
   "metadata": {},
   "source": [
    "<a id='visualizacion'></a>\n",
    "## Visualización\n",
    "\n",
    "Para visualizar gráficamente los datos almacenados en una serie tenemos dos opciones:\n",
    "1. Usando métodos propios del objeto `Series`\n",
    "1. Usando funciones de la librería `matplotlib`\n",
    "\n",
    "*Nota: internamente (1) acaba haciendo uso de (2)*\n",
    "\n",
    "Tanto en un caso como en otro, si el programa se va a ejecutar en un jupyter notebook, para una mejor visualización conviene antes que nada ejecutar la instrucción:\n",
    "\n",
    "`%matplotlib notebook`\n",
    "\n",
    "Ello permitirá cierta interacción con las gráficas que creemos posteriormente (redimensionar, zoom, guardar en un archivo, ...)\n",
    "\n",
    "Como alternativa a lo anterior, también tenemos la opción de\n",
    "\n",
    "`%matplotlib inline`\n",
    "\n",
    "pero en este caso perdemos la posibilidad de interactuar con la gráfica."
   ]
  },
  {
   "cell_type": "markdown",
   "metadata": {},
   "source": [
    "#### 1. Visualización usando métodos propios del objeto `Series`\n",
    "\n",
    "`Series` dispone del método `plot` para visualizar gráficamente los datos de la serie"
   ]
  },
  {
   "cell_type": "code",
   "execution_count": 12,
   "metadata": {},
   "outputs": [
    {
     "data": {
      "application/javascript": [
       "/* Put everything inside the global mpl namespace */\n",
       "window.mpl = {};\n",
       "\n",
       "\n",
       "mpl.get_websocket_type = function() {\n",
       "    if (typeof(WebSocket) !== 'undefined') {\n",
       "        return WebSocket;\n",
       "    } else if (typeof(MozWebSocket) !== 'undefined') {\n",
       "        return MozWebSocket;\n",
       "    } else {\n",
       "        alert('Your browser does not have WebSocket support.' +\n",
       "              'Please try Chrome, Safari or Firefox ≥ 6. ' +\n",
       "              'Firefox 4 and 5 are also supported but you ' +\n",
       "              'have to enable WebSockets in about:config.');\n",
       "    };\n",
       "}\n",
       "\n",
       "mpl.figure = function(figure_id, websocket, ondownload, parent_element) {\n",
       "    this.id = figure_id;\n",
       "\n",
       "    this.ws = websocket;\n",
       "\n",
       "    this.supports_binary = (this.ws.binaryType != undefined);\n",
       "\n",
       "    if (!this.supports_binary) {\n",
       "        var warnings = document.getElementById(\"mpl-warnings\");\n",
       "        if (warnings) {\n",
       "            warnings.style.display = 'block';\n",
       "            warnings.textContent = (\n",
       "                \"This browser does not support binary websocket messages. \" +\n",
       "                    \"Performance may be slow.\");\n",
       "        }\n",
       "    }\n",
       "\n",
       "    this.imageObj = new Image();\n",
       "\n",
       "    this.context = undefined;\n",
       "    this.message = undefined;\n",
       "    this.canvas = undefined;\n",
       "    this.rubberband_canvas = undefined;\n",
       "    this.rubberband_context = undefined;\n",
       "    this.format_dropdown = undefined;\n",
       "\n",
       "    this.image_mode = 'full';\n",
       "\n",
       "    this.root = $('<div/>');\n",
       "    this._root_extra_style(this.root)\n",
       "    this.root.attr('style', 'display: inline-block');\n",
       "\n",
       "    $(parent_element).append(this.root);\n",
       "\n",
       "    this._init_header(this);\n",
       "    this._init_canvas(this);\n",
       "    this._init_toolbar(this);\n",
       "\n",
       "    var fig = this;\n",
       "\n",
       "    this.waiting = false;\n",
       "\n",
       "    this.ws.onopen =  function () {\n",
       "            fig.send_message(\"supports_binary\", {value: fig.supports_binary});\n",
       "            fig.send_message(\"send_image_mode\", {});\n",
       "            if (mpl.ratio != 1) {\n",
       "                fig.send_message(\"set_dpi_ratio\", {'dpi_ratio': mpl.ratio});\n",
       "            }\n",
       "            fig.send_message(\"refresh\", {});\n",
       "        }\n",
       "\n",
       "    this.imageObj.onload = function() {\n",
       "            if (fig.image_mode == 'full') {\n",
       "                // Full images could contain transparency (where diff images\n",
       "                // almost always do), so we need to clear the canvas so that\n",
       "                // there is no ghosting.\n",
       "                fig.context.clearRect(0, 0, fig.canvas.width, fig.canvas.height);\n",
       "            }\n",
       "            fig.context.drawImage(fig.imageObj, 0, 0);\n",
       "        };\n",
       "\n",
       "    this.imageObj.onunload = function() {\n",
       "        fig.ws.close();\n",
       "    }\n",
       "\n",
       "    this.ws.onmessage = this._make_on_message_function(this);\n",
       "\n",
       "    this.ondownload = ondownload;\n",
       "}\n",
       "\n",
       "mpl.figure.prototype._init_header = function() {\n",
       "    var titlebar = $(\n",
       "        '<div class=\"ui-dialog-titlebar ui-widget-header ui-corner-all ' +\n",
       "        'ui-helper-clearfix\"/>');\n",
       "    var titletext = $(\n",
       "        '<div class=\"ui-dialog-title\" style=\"width: 100%; ' +\n",
       "        'text-align: center; padding: 3px;\"/>');\n",
       "    titlebar.append(titletext)\n",
       "    this.root.append(titlebar);\n",
       "    this.header = titletext[0];\n",
       "}\n",
       "\n",
       "\n",
       "\n",
       "mpl.figure.prototype._canvas_extra_style = function(canvas_div) {\n",
       "\n",
       "}\n",
       "\n",
       "\n",
       "mpl.figure.prototype._root_extra_style = function(canvas_div) {\n",
       "\n",
       "}\n",
       "\n",
       "mpl.figure.prototype._init_canvas = function() {\n",
       "    var fig = this;\n",
       "\n",
       "    var canvas_div = $('<div/>');\n",
       "\n",
       "    canvas_div.attr('style', 'position: relative; clear: both; outline: 0');\n",
       "\n",
       "    function canvas_keyboard_event(event) {\n",
       "        return fig.key_event(event, event['data']);\n",
       "    }\n",
       "\n",
       "    canvas_div.keydown('key_press', canvas_keyboard_event);\n",
       "    canvas_div.keyup('key_release', canvas_keyboard_event);\n",
       "    this.canvas_div = canvas_div\n",
       "    this._canvas_extra_style(canvas_div)\n",
       "    this.root.append(canvas_div);\n",
       "\n",
       "    var canvas = $('<canvas/>');\n",
       "    canvas.addClass('mpl-canvas');\n",
       "    canvas.attr('style', \"left: 0; top: 0; z-index: 0; outline: 0\")\n",
       "\n",
       "    this.canvas = canvas[0];\n",
       "    this.context = canvas[0].getContext(\"2d\");\n",
       "\n",
       "    var backingStore = this.context.backingStorePixelRatio ||\n",
       "\tthis.context.webkitBackingStorePixelRatio ||\n",
       "\tthis.context.mozBackingStorePixelRatio ||\n",
       "\tthis.context.msBackingStorePixelRatio ||\n",
       "\tthis.context.oBackingStorePixelRatio ||\n",
       "\tthis.context.backingStorePixelRatio || 1;\n",
       "\n",
       "    mpl.ratio = (window.devicePixelRatio || 1) / backingStore;\n",
       "\n",
       "    var rubberband = $('<canvas/>');\n",
       "    rubberband.attr('style', \"position: absolute; left: 0; top: 0; z-index: 1;\")\n",
       "\n",
       "    var pass_mouse_events = true;\n",
       "\n",
       "    canvas_div.resizable({\n",
       "        start: function(event, ui) {\n",
       "            pass_mouse_events = false;\n",
       "        },\n",
       "        resize: function(event, ui) {\n",
       "            fig.request_resize(ui.size.width, ui.size.height);\n",
       "        },\n",
       "        stop: function(event, ui) {\n",
       "            pass_mouse_events = true;\n",
       "            fig.request_resize(ui.size.width, ui.size.height);\n",
       "        },\n",
       "    });\n",
       "\n",
       "    function mouse_event_fn(event) {\n",
       "        if (pass_mouse_events)\n",
       "            return fig.mouse_event(event, event['data']);\n",
       "    }\n",
       "\n",
       "    rubberband.mousedown('button_press', mouse_event_fn);\n",
       "    rubberband.mouseup('button_release', mouse_event_fn);\n",
       "    // Throttle sequential mouse events to 1 every 20ms.\n",
       "    rubberband.mousemove('motion_notify', mouse_event_fn);\n",
       "\n",
       "    rubberband.mouseenter('figure_enter', mouse_event_fn);\n",
       "    rubberband.mouseleave('figure_leave', mouse_event_fn);\n",
       "\n",
       "    canvas_div.on(\"wheel\", function (event) {\n",
       "        event = event.originalEvent;\n",
       "        event['data'] = 'scroll'\n",
       "        if (event.deltaY < 0) {\n",
       "            event.step = 1;\n",
       "        } else {\n",
       "            event.step = -1;\n",
       "        }\n",
       "        mouse_event_fn(event);\n",
       "    });\n",
       "\n",
       "    canvas_div.append(canvas);\n",
       "    canvas_div.append(rubberband);\n",
       "\n",
       "    this.rubberband = rubberband;\n",
       "    this.rubberband_canvas = rubberband[0];\n",
       "    this.rubberband_context = rubberband[0].getContext(\"2d\");\n",
       "    this.rubberband_context.strokeStyle = \"#000000\";\n",
       "\n",
       "    this._resize_canvas = function(width, height) {\n",
       "        // Keep the size of the canvas, canvas container, and rubber band\n",
       "        // canvas in synch.\n",
       "        canvas_div.css('width', width)\n",
       "        canvas_div.css('height', height)\n",
       "\n",
       "        canvas.attr('width', width * mpl.ratio);\n",
       "        canvas.attr('height', height * mpl.ratio);\n",
       "        canvas.attr('style', 'width: ' + width + 'px; height: ' + height + 'px;');\n",
       "\n",
       "        rubberband.attr('width', width);\n",
       "        rubberband.attr('height', height);\n",
       "    }\n",
       "\n",
       "    // Set the figure to an initial 600x600px, this will subsequently be updated\n",
       "    // upon first draw.\n",
       "    this._resize_canvas(600, 600);\n",
       "\n",
       "    // Disable right mouse context menu.\n",
       "    $(this.rubberband_canvas).bind(\"contextmenu\",function(e){\n",
       "        return false;\n",
       "    });\n",
       "\n",
       "    function set_focus () {\n",
       "        canvas.focus();\n",
       "        canvas_div.focus();\n",
       "    }\n",
       "\n",
       "    window.setTimeout(set_focus, 100);\n",
       "}\n",
       "\n",
       "mpl.figure.prototype._init_toolbar = function() {\n",
       "    var fig = this;\n",
       "\n",
       "    var nav_element = $('<div/>')\n",
       "    nav_element.attr('style', 'width: 100%');\n",
       "    this.root.append(nav_element);\n",
       "\n",
       "    // Define a callback function for later on.\n",
       "    function toolbar_event(event) {\n",
       "        return fig.toolbar_button_onclick(event['data']);\n",
       "    }\n",
       "    function toolbar_mouse_event(event) {\n",
       "        return fig.toolbar_button_onmouseover(event['data']);\n",
       "    }\n",
       "\n",
       "    for(var toolbar_ind in mpl.toolbar_items) {\n",
       "        var name = mpl.toolbar_items[toolbar_ind][0];\n",
       "        var tooltip = mpl.toolbar_items[toolbar_ind][1];\n",
       "        var image = mpl.toolbar_items[toolbar_ind][2];\n",
       "        var method_name = mpl.toolbar_items[toolbar_ind][3];\n",
       "\n",
       "        if (!name) {\n",
       "            // put a spacer in here.\n",
       "            continue;\n",
       "        }\n",
       "        var button = $('<button/>');\n",
       "        button.addClass('ui-button ui-widget ui-state-default ui-corner-all ' +\n",
       "                        'ui-button-icon-only');\n",
       "        button.attr('role', 'button');\n",
       "        button.attr('aria-disabled', 'false');\n",
       "        button.click(method_name, toolbar_event);\n",
       "        button.mouseover(tooltip, toolbar_mouse_event);\n",
       "\n",
       "        var icon_img = $('<span/>');\n",
       "        icon_img.addClass('ui-button-icon-primary ui-icon');\n",
       "        icon_img.addClass(image);\n",
       "        icon_img.addClass('ui-corner-all');\n",
       "\n",
       "        var tooltip_span = $('<span/>');\n",
       "        tooltip_span.addClass('ui-button-text');\n",
       "        tooltip_span.html(tooltip);\n",
       "\n",
       "        button.append(icon_img);\n",
       "        button.append(tooltip_span);\n",
       "\n",
       "        nav_element.append(button);\n",
       "    }\n",
       "\n",
       "    var fmt_picker_span = $('<span/>');\n",
       "\n",
       "    var fmt_picker = $('<select/>');\n",
       "    fmt_picker.addClass('mpl-toolbar-option ui-widget ui-widget-content');\n",
       "    fmt_picker_span.append(fmt_picker);\n",
       "    nav_element.append(fmt_picker_span);\n",
       "    this.format_dropdown = fmt_picker[0];\n",
       "\n",
       "    for (var ind in mpl.extensions) {\n",
       "        var fmt = mpl.extensions[ind];\n",
       "        var option = $(\n",
       "            '<option/>', {selected: fmt === mpl.default_extension}).html(fmt);\n",
       "        fmt_picker.append(option)\n",
       "    }\n",
       "\n",
       "    // Add hover states to the ui-buttons\n",
       "    $( \".ui-button\" ).hover(\n",
       "        function() { $(this).addClass(\"ui-state-hover\");},\n",
       "        function() { $(this).removeClass(\"ui-state-hover\");}\n",
       "    );\n",
       "\n",
       "    var status_bar = $('<span class=\"mpl-message\"/>');\n",
       "    nav_element.append(status_bar);\n",
       "    this.message = status_bar[0];\n",
       "}\n",
       "\n",
       "mpl.figure.prototype.request_resize = function(x_pixels, y_pixels) {\n",
       "    // Request matplotlib to resize the figure. Matplotlib will then trigger a resize in the client,\n",
       "    // which will in turn request a refresh of the image.\n",
       "    this.send_message('resize', {'width': x_pixels, 'height': y_pixels});\n",
       "}\n",
       "\n",
       "mpl.figure.prototype.send_message = function(type, properties) {\n",
       "    properties['type'] = type;\n",
       "    properties['figure_id'] = this.id;\n",
       "    this.ws.send(JSON.stringify(properties));\n",
       "}\n",
       "\n",
       "mpl.figure.prototype.send_draw_message = function() {\n",
       "    if (!this.waiting) {\n",
       "        this.waiting = true;\n",
       "        this.ws.send(JSON.stringify({type: \"draw\", figure_id: this.id}));\n",
       "    }\n",
       "}\n",
       "\n",
       "\n",
       "mpl.figure.prototype.handle_save = function(fig, msg) {\n",
       "    var format_dropdown = fig.format_dropdown;\n",
       "    var format = format_dropdown.options[format_dropdown.selectedIndex].value;\n",
       "    fig.ondownload(fig, format);\n",
       "}\n",
       "\n",
       "\n",
       "mpl.figure.prototype.handle_resize = function(fig, msg) {\n",
       "    var size = msg['size'];\n",
       "    if (size[0] != fig.canvas.width || size[1] != fig.canvas.height) {\n",
       "        fig._resize_canvas(size[0], size[1]);\n",
       "        fig.send_message(\"refresh\", {});\n",
       "    };\n",
       "}\n",
       "\n",
       "mpl.figure.prototype.handle_rubberband = function(fig, msg) {\n",
       "    var x0 = msg['x0'] / mpl.ratio;\n",
       "    var y0 = (fig.canvas.height - msg['y0']) / mpl.ratio;\n",
       "    var x1 = msg['x1'] / mpl.ratio;\n",
       "    var y1 = (fig.canvas.height - msg['y1']) / mpl.ratio;\n",
       "    x0 = Math.floor(x0) + 0.5;\n",
       "    y0 = Math.floor(y0) + 0.5;\n",
       "    x1 = Math.floor(x1) + 0.5;\n",
       "    y1 = Math.floor(y1) + 0.5;\n",
       "    var min_x = Math.min(x0, x1);\n",
       "    var min_y = Math.min(y0, y1);\n",
       "    var width = Math.abs(x1 - x0);\n",
       "    var height = Math.abs(y1 - y0);\n",
       "\n",
       "    fig.rubberband_context.clearRect(\n",
       "        0, 0, fig.canvas.width, fig.canvas.height);\n",
       "\n",
       "    fig.rubberband_context.strokeRect(min_x, min_y, width, height);\n",
       "}\n",
       "\n",
       "mpl.figure.prototype.handle_figure_label = function(fig, msg) {\n",
       "    // Updates the figure title.\n",
       "    fig.header.textContent = msg['label'];\n",
       "}\n",
       "\n",
       "mpl.figure.prototype.handle_cursor = function(fig, msg) {\n",
       "    var cursor = msg['cursor'];\n",
       "    switch(cursor)\n",
       "    {\n",
       "    case 0:\n",
       "        cursor = 'pointer';\n",
       "        break;\n",
       "    case 1:\n",
       "        cursor = 'default';\n",
       "        break;\n",
       "    case 2:\n",
       "        cursor = 'crosshair';\n",
       "        break;\n",
       "    case 3:\n",
       "        cursor = 'move';\n",
       "        break;\n",
       "    }\n",
       "    fig.rubberband_canvas.style.cursor = cursor;\n",
       "}\n",
       "\n",
       "mpl.figure.prototype.handle_message = function(fig, msg) {\n",
       "    fig.message.textContent = msg['message'];\n",
       "}\n",
       "\n",
       "mpl.figure.prototype.handle_draw = function(fig, msg) {\n",
       "    // Request the server to send over a new figure.\n",
       "    fig.send_draw_message();\n",
       "}\n",
       "\n",
       "mpl.figure.prototype.handle_image_mode = function(fig, msg) {\n",
       "    fig.image_mode = msg['mode'];\n",
       "}\n",
       "\n",
       "mpl.figure.prototype.updated_canvas_event = function() {\n",
       "    // Called whenever the canvas gets updated.\n",
       "    this.send_message(\"ack\", {});\n",
       "}\n",
       "\n",
       "// A function to construct a web socket function for onmessage handling.\n",
       "// Called in the figure constructor.\n",
       "mpl.figure.prototype._make_on_message_function = function(fig) {\n",
       "    return function socket_on_message(evt) {\n",
       "        if (evt.data instanceof Blob) {\n",
       "            /* FIXME: We get \"Resource interpreted as Image but\n",
       "             * transferred with MIME type text/plain:\" errors on\n",
       "             * Chrome.  But how to set the MIME type?  It doesn't seem\n",
       "             * to be part of the websocket stream */\n",
       "            evt.data.type = \"image/png\";\n",
       "\n",
       "            /* Free the memory for the previous frames */\n",
       "            if (fig.imageObj.src) {\n",
       "                (window.URL || window.webkitURL).revokeObjectURL(\n",
       "                    fig.imageObj.src);\n",
       "            }\n",
       "\n",
       "            fig.imageObj.src = (window.URL || window.webkitURL).createObjectURL(\n",
       "                evt.data);\n",
       "            fig.updated_canvas_event();\n",
       "            fig.waiting = false;\n",
       "            return;\n",
       "        }\n",
       "        else if (typeof evt.data === 'string' && evt.data.slice(0, 21) == \"data:image/png;base64\") {\n",
       "            fig.imageObj.src = evt.data;\n",
       "            fig.updated_canvas_event();\n",
       "            fig.waiting = false;\n",
       "            return;\n",
       "        }\n",
       "\n",
       "        var msg = JSON.parse(evt.data);\n",
       "        var msg_type = msg['type'];\n",
       "\n",
       "        // Call the  \"handle_{type}\" callback, which takes\n",
       "        // the figure and JSON message as its only arguments.\n",
       "        try {\n",
       "            var callback = fig[\"handle_\" + msg_type];\n",
       "        } catch (e) {\n",
       "            console.log(\"No handler for the '\" + msg_type + \"' message type: \", msg);\n",
       "            return;\n",
       "        }\n",
       "\n",
       "        if (callback) {\n",
       "            try {\n",
       "                // console.log(\"Handling '\" + msg_type + \"' message: \", msg);\n",
       "                callback(fig, msg);\n",
       "            } catch (e) {\n",
       "                console.log(\"Exception inside the 'handler_\" + msg_type + \"' callback:\", e, e.stack, msg);\n",
       "            }\n",
       "        }\n",
       "    };\n",
       "}\n",
       "\n",
       "// from http://stackoverflow.com/questions/1114465/getting-mouse-location-in-canvas\n",
       "mpl.findpos = function(e) {\n",
       "    //this section is from http://www.quirksmode.org/js/events_properties.html\n",
       "    var targ;\n",
       "    if (!e)\n",
       "        e = window.event;\n",
       "    if (e.target)\n",
       "        targ = e.target;\n",
       "    else if (e.srcElement)\n",
       "        targ = e.srcElement;\n",
       "    if (targ.nodeType == 3) // defeat Safari bug\n",
       "        targ = targ.parentNode;\n",
       "\n",
       "    // jQuery normalizes the pageX and pageY\n",
       "    // pageX,Y are the mouse positions relative to the document\n",
       "    // offset() returns the position of the element relative to the document\n",
       "    var x = e.pageX - $(targ).offset().left;\n",
       "    var y = e.pageY - $(targ).offset().top;\n",
       "\n",
       "    return {\"x\": x, \"y\": y};\n",
       "};\n",
       "\n",
       "/*\n",
       " * return a copy of an object with only non-object keys\n",
       " * we need this to avoid circular references\n",
       " * http://stackoverflow.com/a/24161582/3208463\n",
       " */\n",
       "function simpleKeys (original) {\n",
       "  return Object.keys(original).reduce(function (obj, key) {\n",
       "    if (typeof original[key] !== 'object')\n",
       "        obj[key] = original[key]\n",
       "    return obj;\n",
       "  }, {});\n",
       "}\n",
       "\n",
       "mpl.figure.prototype.mouse_event = function(event, name) {\n",
       "    var canvas_pos = mpl.findpos(event)\n",
       "\n",
       "    if (name === 'button_press')\n",
       "    {\n",
       "        this.canvas.focus();\n",
       "        this.canvas_div.focus();\n",
       "    }\n",
       "\n",
       "    var x = canvas_pos.x * mpl.ratio;\n",
       "    var y = canvas_pos.y * mpl.ratio;\n",
       "\n",
       "    this.send_message(name, {x: x, y: y, button: event.button,\n",
       "                             step: event.step,\n",
       "                             guiEvent: simpleKeys(event)});\n",
       "\n",
       "    /* This prevents the web browser from automatically changing to\n",
       "     * the text insertion cursor when the button is pressed.  We want\n",
       "     * to control all of the cursor setting manually through the\n",
       "     * 'cursor' event from matplotlib */\n",
       "    event.preventDefault();\n",
       "    return false;\n",
       "}\n",
       "\n",
       "mpl.figure.prototype._key_event_extra = function(event, name) {\n",
       "    // Handle any extra behaviour associated with a key event\n",
       "}\n",
       "\n",
       "mpl.figure.prototype.key_event = function(event, name) {\n",
       "\n",
       "    // Prevent repeat events\n",
       "    if (name == 'key_press')\n",
       "    {\n",
       "        if (event.which === this._key)\n",
       "            return;\n",
       "        else\n",
       "            this._key = event.which;\n",
       "    }\n",
       "    if (name == 'key_release')\n",
       "        this._key = null;\n",
       "\n",
       "    var value = '';\n",
       "    if (event.ctrlKey && event.which != 17)\n",
       "        value += \"ctrl+\";\n",
       "    if (event.altKey && event.which != 18)\n",
       "        value += \"alt+\";\n",
       "    if (event.shiftKey && event.which != 16)\n",
       "        value += \"shift+\";\n",
       "\n",
       "    value += 'k';\n",
       "    value += event.which.toString();\n",
       "\n",
       "    this._key_event_extra(event, name);\n",
       "\n",
       "    this.send_message(name, {key: value,\n",
       "                             guiEvent: simpleKeys(event)});\n",
       "    return false;\n",
       "}\n",
       "\n",
       "mpl.figure.prototype.toolbar_button_onclick = function(name) {\n",
       "    if (name == 'download') {\n",
       "        this.handle_save(this, null);\n",
       "    } else {\n",
       "        this.send_message(\"toolbar_button\", {name: name});\n",
       "    }\n",
       "};\n",
       "\n",
       "mpl.figure.prototype.toolbar_button_onmouseover = function(tooltip) {\n",
       "    this.message.textContent = tooltip;\n",
       "};\n",
       "mpl.toolbar_items = [[\"Home\", \"Reset original view\", \"fa fa-home icon-home\", \"home\"], [\"Back\", \"Back to  previous view\", \"fa fa-arrow-left icon-arrow-left\", \"back\"], [\"Forward\", \"Forward to next view\", \"fa fa-arrow-right icon-arrow-right\", \"forward\"], [\"\", \"\", \"\", \"\"], [\"Pan\", \"Pan axes with left mouse, zoom with right\", \"fa fa-arrows icon-move\", \"pan\"], [\"Zoom\", \"Zoom to rectangle\", \"fa fa-square-o icon-check-empty\", \"zoom\"], [\"\", \"\", \"\", \"\"], [\"Download\", \"Download plot\", \"fa fa-floppy-o icon-save\", \"download\"]];\n",
       "\n",
       "mpl.extensions = [\"eps\", \"jpeg\", \"pdf\", \"png\", \"ps\", \"raw\", \"svg\", \"tif\"];\n",
       "\n",
       "mpl.default_extension = \"png\";var comm_websocket_adapter = function(comm) {\n",
       "    // Create a \"websocket\"-like object which calls the given IPython comm\n",
       "    // object with the appropriate methods. Currently this is a non binary\n",
       "    // socket, so there is still some room for performance tuning.\n",
       "    var ws = {};\n",
       "\n",
       "    ws.close = function() {\n",
       "        comm.close()\n",
       "    };\n",
       "    ws.send = function(m) {\n",
       "        //console.log('sending', m);\n",
       "        comm.send(m);\n",
       "    };\n",
       "    // Register the callback with on_msg.\n",
       "    comm.on_msg(function(msg) {\n",
       "        //console.log('receiving', msg['content']['data'], msg);\n",
       "        // Pass the mpl event to the overriden (by mpl) onmessage function.\n",
       "        ws.onmessage(msg['content']['data'])\n",
       "    });\n",
       "    return ws;\n",
       "}\n",
       "\n",
       "mpl.mpl_figure_comm = function(comm, msg) {\n",
       "    // This is the function which gets called when the mpl process\n",
       "    // starts-up an IPython Comm through the \"matplotlib\" channel.\n",
       "\n",
       "    var id = msg.content.data.id;\n",
       "    // Get hold of the div created by the display call when the Comm\n",
       "    // socket was opened in Python.\n",
       "    var element = $(\"#\" + id);\n",
       "    var ws_proxy = comm_websocket_adapter(comm)\n",
       "\n",
       "    function ondownload(figure, format) {\n",
       "        window.open(figure.imageObj.src);\n",
       "    }\n",
       "\n",
       "    var fig = new mpl.figure(id, ws_proxy,\n",
       "                           ondownload,\n",
       "                           element.get(0));\n",
       "\n",
       "    // Call onopen now - mpl needs it, as it is assuming we've passed it a real\n",
       "    // web socket which is closed, not our websocket->open comm proxy.\n",
       "    ws_proxy.onopen();\n",
       "\n",
       "    fig.parent_element = element.get(0);\n",
       "    fig.cell_info = mpl.find_output_cell(\"<div id='\" + id + \"'></div>\");\n",
       "    if (!fig.cell_info) {\n",
       "        console.error(\"Failed to find cell for figure\", id, fig);\n",
       "        return;\n",
       "    }\n",
       "\n",
       "    var output_index = fig.cell_info[2]\n",
       "    var cell = fig.cell_info[0];\n",
       "\n",
       "};\n",
       "\n",
       "mpl.figure.prototype.handle_close = function(fig, msg) {\n",
       "    var width = fig.canvas.width/mpl.ratio\n",
       "    fig.root.unbind('remove')\n",
       "\n",
       "    // Update the output cell to use the data from the current canvas.\n",
       "    fig.push_to_output();\n",
       "    var dataURL = fig.canvas.toDataURL();\n",
       "    // Re-enable the keyboard manager in IPython - without this line, in FF,\n",
       "    // the notebook keyboard shortcuts fail.\n",
       "    IPython.keyboard_manager.enable()\n",
       "    $(fig.parent_element).html('<img src=\"' + dataURL + '\" width=\"' + width + '\">');\n",
       "    fig.close_ws(fig, msg);\n",
       "}\n",
       "\n",
       "mpl.figure.prototype.close_ws = function(fig, msg){\n",
       "    fig.send_message('closing', msg);\n",
       "    // fig.ws.close()\n",
       "}\n",
       "\n",
       "mpl.figure.prototype.push_to_output = function(remove_interactive) {\n",
       "    // Turn the data on the canvas into data in the output cell.\n",
       "    var width = this.canvas.width/mpl.ratio\n",
       "    var dataURL = this.canvas.toDataURL();\n",
       "    this.cell_info[1]['text/html'] = '<img src=\"' + dataURL + '\" width=\"' + width + '\">';\n",
       "}\n",
       "\n",
       "mpl.figure.prototype.updated_canvas_event = function() {\n",
       "    // Tell IPython that the notebook contents must change.\n",
       "    IPython.notebook.set_dirty(true);\n",
       "    this.send_message(\"ack\", {});\n",
       "    var fig = this;\n",
       "    // Wait a second, then push the new image to the DOM so\n",
       "    // that it is saved nicely (might be nice to debounce this).\n",
       "    setTimeout(function () { fig.push_to_output() }, 1000);\n",
       "}\n",
       "\n",
       "mpl.figure.prototype._init_toolbar = function() {\n",
       "    var fig = this;\n",
       "\n",
       "    var nav_element = $('<div/>')\n",
       "    nav_element.attr('style', 'width: 100%');\n",
       "    this.root.append(nav_element);\n",
       "\n",
       "    // Define a callback function for later on.\n",
       "    function toolbar_event(event) {\n",
       "        return fig.toolbar_button_onclick(event['data']);\n",
       "    }\n",
       "    function toolbar_mouse_event(event) {\n",
       "        return fig.toolbar_button_onmouseover(event['data']);\n",
       "    }\n",
       "\n",
       "    for(var toolbar_ind in mpl.toolbar_items){\n",
       "        var name = mpl.toolbar_items[toolbar_ind][0];\n",
       "        var tooltip = mpl.toolbar_items[toolbar_ind][1];\n",
       "        var image = mpl.toolbar_items[toolbar_ind][2];\n",
       "        var method_name = mpl.toolbar_items[toolbar_ind][3];\n",
       "\n",
       "        if (!name) { continue; };\n",
       "\n",
       "        var button = $('<button class=\"btn btn-default\" href=\"#\" title=\"' + name + '\"><i class=\"fa ' + image + ' fa-lg\"></i></button>');\n",
       "        button.click(method_name, toolbar_event);\n",
       "        button.mouseover(tooltip, toolbar_mouse_event);\n",
       "        nav_element.append(button);\n",
       "    }\n",
       "\n",
       "    // Add the status bar.\n",
       "    var status_bar = $('<span class=\"mpl-message\" style=\"text-align:right; float: right;\"/>');\n",
       "    nav_element.append(status_bar);\n",
       "    this.message = status_bar[0];\n",
       "\n",
       "    // Add the close button to the window.\n",
       "    var buttongrp = $('<div class=\"btn-group inline pull-right\"></div>');\n",
       "    var button = $('<button class=\"btn btn-mini btn-primary\" href=\"#\" title=\"Stop Interaction\"><i class=\"fa fa-power-off icon-remove icon-large\"></i></button>');\n",
       "    button.click(function (evt) { fig.handle_close(fig, {}); } );\n",
       "    button.mouseover('Stop Interaction', toolbar_mouse_event);\n",
       "    buttongrp.append(button);\n",
       "    var titlebar = this.root.find($('.ui-dialog-titlebar'));\n",
       "    titlebar.prepend(buttongrp);\n",
       "}\n",
       "\n",
       "mpl.figure.prototype._root_extra_style = function(el){\n",
       "    var fig = this\n",
       "    el.on(\"remove\", function(){\n",
       "\tfig.close_ws(fig, {});\n",
       "    });\n",
       "}\n",
       "\n",
       "mpl.figure.prototype._canvas_extra_style = function(el){\n",
       "    // this is important to make the div 'focusable\n",
       "    el.attr('tabindex', 0)\n",
       "    // reach out to IPython and tell the keyboard manager to turn it's self\n",
       "    // off when our div gets focus\n",
       "\n",
       "    // location in version 3\n",
       "    if (IPython.notebook.keyboard_manager) {\n",
       "        IPython.notebook.keyboard_manager.register_events(el);\n",
       "    }\n",
       "    else {\n",
       "        // location in version 2\n",
       "        IPython.keyboard_manager.register_events(el);\n",
       "    }\n",
       "\n",
       "}\n",
       "\n",
       "mpl.figure.prototype._key_event_extra = function(event, name) {\n",
       "    var manager = IPython.notebook.keyboard_manager;\n",
       "    if (!manager)\n",
       "        manager = IPython.keyboard_manager;\n",
       "\n",
       "    // Check for shift+enter\n",
       "    if (event.shiftKey && event.which == 13) {\n",
       "        this.canvas_div.blur();\n",
       "        event.shiftKey = false;\n",
       "        // Send a \"J\" for go to next cell\n",
       "        event.which = 74;\n",
       "        event.keyCode = 74;\n",
       "        manager.command_mode();\n",
       "        manager.handle_keydown(event);\n",
       "    }\n",
       "}\n",
       "\n",
       "mpl.figure.prototype.handle_save = function(fig, msg) {\n",
       "    fig.ondownload(fig, null);\n",
       "}\n",
       "\n",
       "\n",
       "mpl.find_output_cell = function(html_output) {\n",
       "    // Return the cell and output element which can be found *uniquely* in the notebook.\n",
       "    // Note - this is a bit hacky, but it is done because the \"notebook_saving.Notebook\"\n",
       "    // IPython event is triggered only after the cells have been serialised, which for\n",
       "    // our purposes (turning an active figure into a static one), is too late.\n",
       "    var cells = IPython.notebook.get_cells();\n",
       "    var ncells = cells.length;\n",
       "    for (var i=0; i<ncells; i++) {\n",
       "        var cell = cells[i];\n",
       "        if (cell.cell_type === 'code'){\n",
       "            for (var j=0; j<cell.output_area.outputs.length; j++) {\n",
       "                var data = cell.output_area.outputs[j];\n",
       "                if (data.data) {\n",
       "                    // IPython >= 3 moved mimebundle to data attribute of output\n",
       "                    data = data.data;\n",
       "                }\n",
       "                if (data['text/html'] == html_output) {\n",
       "                    return [cell, data, j];\n",
       "                }\n",
       "            }\n",
       "        }\n",
       "    }\n",
       "}\n",
       "\n",
       "// Register the function which deals with the matplotlib target/channel.\n",
       "// The kernel may be null if the page has been refreshed.\n",
       "if (IPython.notebook.kernel != null) {\n",
       "    IPython.notebook.kernel.comm_manager.register_target('matplotlib', mpl.mpl_figure_comm);\n",
       "}\n"
      ],
      "text/plain": [
       "<IPython.core.display.Javascript object>"
      ]
     },
     "metadata": {},
     "output_type": "display_data"
    },
    {
     "data": {
      "text/html": [
       "<img src=\"data:image/png;base64,iVBORw0KGgoAAAANSUhEUgAAA8EAAALRCAYAAAB76aEvAAAgAElEQVR4Xu3XQQEAAAgCMelf2iA3GzD5sHMECBAgQIAAAQIECBAgQCAisEhOMQkQIECAAAECBAgQIECAwBnBSkCAAAECBAgQIECAAAECGQEjOPNqQQkQIECAAAECBAgQIEDACNYBAgQIECBAgAABAgQIEMgIGMGZVwtKgAABAgQIECBAgAABAkawDhAgQIAAAQIECBAgQIBARsAIzrxaUAIECBAgQIAAAQIECBAwgnWAAAECBAgQIECAAAECBDICRnDm1YISIECAAAECBAgQIECAgBGsAwQIECBAgAABAgQIECCQETCCM68WlAABAgQIECBAgAABAgSMYB0gQIAAAQIECBAgQIAAgYyAEZx5taAECBAgQIAAAQIECBAgYATrAAECBAgQIECAAAECBAhkBIzgzKsFJUCAAAECBAgQIECAAAEjWAcIECBAgAABAgQIECBAICNgBGdeLSgBAgQIECBAgAABAgQIGME6QIAAAQIECBAgQIAAAQIZASM482pBCRAgQIAAAQIECBAgQMAI1gECBAgQIECAAAECBAgQyAgYwZlXC0qAAAECBAgQIECAAAECRrAOECBAgAABAgQIECBAgEBGwAjOvFpQAgQIECBAgAABAgQIEDCCdYAAAQIECBAgQIAAAQIEMgJGcObVghIgQIAAAQIECBAgQICAEawDBAgQIECAAAECBAgQIJARMIIzrxaUAAECBAgQIECAAAECBIxgHSBAgAABAgQIECBAgACBjIARnHm1oAQIECBAgAABAgQIECBgBOsAAQIECBAgQIAAAQIECGQEjODMqwUlQIAAAQIECBAgQIAAASNYBwgQIECAAAECBAgQIEAgI2AEZ14tKAECBAgQIECAAAECBAgYwTpAgAABAgQIECBAgAABAhkBIzjzakEJECBAgAABAgQIECBAwAjWAQIECBAgQIAAAQIECBDICBjBmVcLSoAAAQIECBAgQIAAAQJGsA4QIECAAAECBAgQIECAQEbACM68WlACBAgQIECAAAECBAgQMIJ1gAABAgQIECBAgAABAgQyAkZw5tWCEiBAgAABAgQIECBAgIARrAMECBAgQIAAAQIECBAgkBEwgjOvFpQAAQIECBAgQIAAAQIEjGAdIECAAAECBAgQIECAAIGMgBGcebWgBAgQIECAAAECBAgQIGAE6wABAgQIECBAgAABAgQIZASM4MyrBSVAgAABAgQIECBAgAABI1gHCBAgQIAAAQIECBAgQCAjYARnXi0oAQIECBAgQIAAAQIECBjBOkCAAAECBAgQIECAAAECGQEjOPNqQQkQIECAAAECBAgQIEDACNYBAgQIECBAgAABAgQIEMgIGMGZVwtKgAABAgQIECBAgAABAkawDhAgQIAAAQIECBAgQIBARsAIzrxaUAIECBAgQIAAAQIECBAwgnWAAAECBAgQIECAAAECBDICRnDm1YISIECAAAECBAgQIECAgBGsAwQIECBAgAABAgQIECCQETCCM68WlAABAgQIECBAgAABAgSMYB0gQIAAAQIECBAgQIAAgYyAEZx5taAECBAgQIAAAQIECBAgYATrAAECBAgQIECAAAECBAhkBIzgzKsFJUCAAAECBAgQIECAAAEjWAcIECBAgAABAgQIECBAICNgBGdeLSgBAgQIECBAgAABAgQIGME6QIAAAQIECBAgQIAAAQIZASM482pBCRAgQIAAAQIECBAgQMAI1gECBAgQIECAAAECBAgQyAgYwZlXC0qAAAECBAgQIECAAAECRrAOECBAgAABAgQIECBAgEBGwAjOvFpQAgQIECBAgAABAgQIEDCCdYAAAQIECBAgQIAAAQIEMgJGcObVghIgQIAAAQIECBAgQICAEawDBAgQIECAAAECBAgQIJARMIIzrxaUAAECBAgQIECAAAECBIxgHSBAgAABAgQIECBAgACBjIARnHm1oAQIECBAgAABAgQIECBgBOsAAQIECBAgQIAAAQIECGQEjODMqwUlQIAAAQIECBAgQIAAASNYBwgQIECAAAECBAgQIEAgI2AEZ14tKAECBAgQIECAAAECBAgYwTpAgAABAgQIECBAgAABAhkBIzjzakEJECBAgAABAgQIECBAwAjWAQIECBAgQIAAAQIECBDICBjBmVcLSoAAAQIECBAgQIAAAQJGsA4QIECAAAECBAgQIECAQEbACM68WlACBAgQIECAAAECBAgQMIJ1gAABAgQIECBAgAABAgQyAkZw5tWCEiBAgAABAgQIECBAgIARrAMECBAgQIAAAQIECBAgkBEwgjOvFpQAAQIECBAgQIAAAQIEjGAdIECAAAECBAgQIECAAIGMgBGcebWgBAgQIECAAAECBAgQIGAE6wABAgQIECBAgAABAgQIZASM4MyrBSVAgAABAgQIECBAgAABI1gHCBAgQIAAAQIECBAgQCAjYARnXi0oAQIECBAgQIAAAQIECBjBOkCAAAECBAgQIECAAAECGQEjOPNqQQkQIECAAAECBAgQIEDACNYBAgQIECBAgAABAgQIEMgIGMGZVwtKgAABAgQIECBAgAABAkawDhAgQIAAAQIECBAgQIBARsAIzrxaUAIECBAgQIAAAQIECBAwgnWAAAECBAgQIECAAAECBDICRnDm1YISIECAAAECBAgQIECAgBGsAwQIECBAgAABAgQIECCQETCCM68WlAABAgQIECBAgAABAgSMYB0gQIAAAQIECBAgQIAAgYyAEZx5taAECBAgQIAAAQIECBAgYATrAAECBAgQIECAAAECBAhkBIzgzKsFJUCAAAECBAgQIECAAAEjWAcIECBAgAABAgQIECBAICNgBGdeLSgBAgQIECBAgAABAgQIGME6QIAAAQIECBAgQIAAAQIZASM482pBCRAgQIAAAQIECBAgQMAI1gECBAgQIECAAAECBAgQyAgYwZlXC0qAAAECBAgQIECAAAECRrAOECBAgAABAgQIECBAgEBGwAjOvFpQAgQIECBAgAABAgQIEDCCdYAAAQIECBAgQIAAAQIEMgJGcObVghIgQIAAAQIECBAgQICAEawDBAgQIECAAAECBAgQIJARMIIzrxaUAAECBAgQIECAAAECBIxgHSBAgAABAgQIECBAgACBjIARnHm1oAQIECBAgAABAgQIECBgBOsAAQIECBAgQIAAAQIECGQEjODMqwUlQIAAAQIECBAgQIAAASNYBwgQIECAAAECBAgQIEAgI2AEZ14tKAECBAgQIECAAAECBAgYwTpAgAABAgQIECBAgAABAhkBIzjzakEJECBAgAABAgQIECBAwAjWAQIECBAgQIAAAQIECBDICBjBmVcLSoAAAQIECBAgQIAAAQJGsA4QIECAAAECBAgQIECAQEbACM68WlACBAgQIECAAAECBAgQMIJ1gAABAgQIECBAgAABAgQyAkZw5tWCEiBAgAABAgQIECBAgIARrAMECBAgQIAAAQIECBAgkBEwgjOvFpQAAQIECBAgQIAAAQIEjGAdIECAAAECBAgQIECAAIGMgBGcebWgBAgQIECAAAECBAgQIGAE6wABAgQIECBAgAABAgQIZASM4MyrBSVAgAABAgQIECBAgAABI1gHCBAgQIAAAQIECBAgQCAjYARnXi0oAQIECBAgQIAAAQIECBjBOkCAAAECBAgQIECAAAECGQEjOPNqQQkQIECAAAECBAgQIEDACNYBAgQIECBAgAABAgQIEMgIGMGZVwtKgAABAgQIECBAgAABAkawDhAgQIAAAQIECBAgQIBARsAIzrxaUAIECBAgQIAAAQIECBAwgnWAAAECBAgQIECAAAECBDICRnDm1YISIECAAAECBAgQIECAgBGsAwQIECBAgAABAgQIECCQETCCM68WlAABAgQIECBAgAABAgSMYB0gQIAAAQIECBAgQIAAgYyAEZx5taAECBAgQIAAAQIECBAgYATrAAECBAgQIECAAAECBAhkBIzgzKsFJUCAAAECBAgQIECAAAEjWAcIECBAgAABAgQIECBAICNgBGdeLSgBAgQIECBAgAABAgQIGME6QIAAAQIECBAgQIAAAQIZASM482pBCRAgQIAAAQIECBAgQMAI1gECBAgQIECAAAECBAgQyAgYwZlXC0qAAAECBAgQIECAAAECRrAOECBAgAABAgQIECBAgEBGwAjOvFpQAgQIECBAgAABAgQIEDCCdYAAAQIECBAgQIAAAQIEMgJGcObVghIgQIAAAQIECBAgQICAEawDBAgQIECAAAECBAgQIJARMIIzrxaUAAECBAgQIECAAAECBIxgHSBAgAABAgQIECBAgACBjIARnHm1oAQIECBAgAABAgQIECBgBOsAAQIECBAgQIAAAQIECGQEjODMqwUlQIAAAQIECBAgQIAAASNYBwgQIECAAAECBAgQIEAgI2AEZ14tKAECBAgQIECAAAECBAgYwTpAgAABAgQIECBAgAABAhkBIzjzakEJECBAgAABAgQIECBAwAjWAQIECBAgQIAAAQIECBDICBjBmVcLSoAAAQIECBAgQIAAAQJGsA4QIECAAAECBAgQIECAQEbACM68WlACBAgQIECAAAECBAgQMIJ1gAABAgQIECBAgAABAgQyAkZw5tWCEiBAgAABAgQIECBAgIARrAMECBAgQIAAAQIECBAgkBEwgjOvFpQAAQIECBAgQIAAAQIEjGAdIECAAAECBAgQIECAAIGMgBGcebWgBAgQIECAAAECBAgQIGAE6wABAgQIECBAgAABAgQIZASM4MyrBSVAgAABAgQIECBAgAABI1gHCBAgQIAAAQIECBAgQCAjYARnXi0oAQIECBAgQIAAAQIECBjBOkCAAAECBAgQIECAAAECGQEjOPNqQQkQIECAAAECBAgQIEDACNYBAgQIECBAgAABAgQIEMgIGMGZVwtKgAABAgQIECBAgAABAkawDhAgQIAAAQIECBAgQIBARsAIzrxaUAIECBAgQIAAAQIECBAwgnWAAAECBAgQIECAAAECBDICRnDm1YISIECAAAECBAgQIECAgBGsAwQIECBAgAABAgQIECCQETCCM68WlAABAgQIECBAgAABAgSMYB0gQIAAAQIECBAgQIAAgYyAEZx5taAECBAgQIAAAQIECBAgYATrAAECBAgQIECAAAECBAhkBIzgzKsFJUCAAAECBAgQIECAAAEjWAcIECBAgAABAgQIECBAICNgBGdeLSgBAgQIECBAgAABAgQIGME6QIAAAQIECBAgQIAAAQIZASM482pBCRAgQIAAAQIECBAgQMAI1gECBAgQIECAAAECBAgQyAgYwZlXC0qAAAECBAgQIECAAAECRrAOECBAgAABAgQIECBAgEBGwAjOvFpQAgQIECBAgAABAgQIEDCCdYAAAQIECBAgQIAAAQIEMgJGcObVghIgQIAAAQIECBAgQICAEawDBAgQIECAAAECBAgQIJARMIIzrxaUAAECBAgQIECAAAECBIxgHSBAgAABAgQIECBAgACBjIARnHm1oAQIECBAgAABAgQIECBgBOsAAQIECBAgQIAAAQIECGQEjODMqwUlQIAAAQIECBAgQIAAASNYBwgQIECAAAECBAgQIEAgI2AEZ14tKAECBAgQIECAAAECBAgYwTpAgAABAgQIECBAgAABAhkBIzjzakEJECBAgAABAgQIECBAwAjWAQIECBAgQIAAAQIECBDICBjBmVcLSoAAAQIECBAgQIAAAQJGsA4QIECAAAECBAgQIECAQEbACM68WlACBAgQIECAAAECBAgQMIJ1gAABAgQIECBAgAABAgQyAkZw5tWCEiBAgAABAgQIECBAgIARrAMECBAgQIAAAQIECBAgkBEwgjOvFpQAAQIECBAgQIAAAQIEjGAdIECAAAECBAgQIECAAIGMgBGcebWgBAgQIECAAAECBAgQIGAE6wABAgQIECBAgAABAgQIZASM4MyrBSVAgAABAgQIECBAgAABI1gHCBAgQIAAAQIECBAgQCAjYARnXi0oAQIECBAgQIAAAQIECBjBOkCAAAECBAgQIECAAAECGQEjOPNqQQkQIECAAAECBAgQIEDACNYBAgQIECBAgAABAgQIEMgIGMGZVwtKgAABAgQIECBAgAABAkawDhAgQIAAAQIECBAgQIBARsAIzrxaUAIECBAgQIAAAQIECBAwgnWAAAECBAgQIECAAAECBDICRnDm1YISIECAAAECBAgQIECAgBGsAwQIECBAgAABAgQIECCQETCCM68WlAABAgQIECBAgAABAgSMYB0gQIAAAQIECBAgQIAAgYyAEZx5taAECBAgQIAAAQIECBAgYATrAAECBAgQIECAAAECBAhkBIzgzKsFJUCAAAECBAgQIECAAAEjWAcIECBAgAABAgQIECBAICNgBGdeLSgBAgQIECBAgAABAgQIGME6QIAAAQIECBAgQIAAAQIZASM482pBCRAgQIAAAQIECBAgQMAI1gECBAgQIECAAAECBAgQyAgYwZlXC0qAAAECBAgQIECAAAECRrAOECBAgAABAgQIECBAgEBGwAjOvFpQAgQIECBAgAABAgQIEDCCdYAAAQIECBAgQIAAAQIEMgJGcObVghIgQIAAAQIECBAgQICAEawDBAgQIECAAAECBAgQIJARMIIzrxaUAAECBAgQIECAAAECBIxgHSBAgAABAgQIECBAgACBjIARnHm1oAQIECBAgAABAgQIECBgBOsAAQIECBAgQIAAAQIECGQEjODMqwUlQIAAAQIECBAgQIAAASNYBwgQIECAAAECBAgQIEAgI2AEZ14tKAECBAgQIECAAAECBAgYwTpAgAABAgQIECBAgAABAhkBIzjzakEJECBAgAABAgQIECBAwAjWAQIECBAgQIAAAQIECBDICBjBmVcLSoAAAQIECBAgQIAAAQJGsA4QIECAAAECBAgQIECAQEbACM68WlACBAgQIECAAAECBAgQMIJ1gAABAgQIECBAgAABAgQyAkZw5tWCEiBAgAABAgQIECBAgIARrAMECBAgQIAAAQIECBAgkBEwgjOvFpQAAQIECBAgQIAAAQIEjGAdIECAAAECBAgQIECAAIGMgBGcebWgBAgQIECAAAECBAgQIGAE6wABAgQIECBAgAABAgQIZASM4MyrBSVAgAABAgQIECBAgAABI1gHCBAgQIAAAQIECBAgQCAjYARnXi0oAQIECBAgQIAAAQIECBjBOkCAAAECBAgQIECAAAECGQEjOPNqQQkQIECAAAECBAgQIEDACNYBAgQIECBAgAABAgQIEMgIGMGZVwtKgAABAgQIECBAgAABAkawDhAgQIAAAQIECBAgQIBARsAIzrxaUAIECBAgQIAAAQIECBAwgnWAAAECBAgQIECAAAECBDICRnDm1YISIECAAAECBAgQIECAgBGsAwQIECBAgAABAgQIECCQETCCM68WlAABAgQIECBAgAABAgSMYB0gQIAAAQIECBAgQIAAgYyAEZx5taAECBAgQIAAAQIECBAgYATrAAECBAgQIECAAAECBAhkBIzgzKsFJUCAAAECBAgQIECAAAEjWAcIECBAgAABAgQIECBAICNgBGdeLSgBAgQIECBAgAABAgQIGME6QIAAAQIECBAgQIAAAQIZASM482pBCRAgQIAAAQIECBAgQMAI1gECBAgQIECAAAECBAgQyAgYwZlXC0qAAAECBAgQIECAAAECRrAOECBAgAABAgQIECBAgEBGwAjOvFpQAgQIECBAgAABAgQIEDCCdYAAAQIECBAgQIAAAQIEMgJGcObVghIgQIAAAQIECBAgQICAEawDBAgQIECAAAECBAgQIJARMIIzrxaUAAECBAgQIECAAAECBIxgHSBAgAABAgQIECBAgACBjIARnHm1oAQIECBAgAABAgQIECBgBOsAAQIECBAgQIAAAQIECGQEjODMqwUlQIAAAQIECBAgQIAAASNYBwgQIECAAAECBAgQIEAgI2AEZ14tKAECBAgQIECAAAECBAgYwTpAgAABAgQIECBAgAABAhkBIzjzakEJECBAgAABAgQIECBAwAjWAQIECBAgQIAAAQIECBDICBjBmVcLSoAAAQIECBAgQIAAAQJGsA4QIECAAAECBAgQIECAQEbACM68WlACBAgQIECAAAECBAgQMIJ1gAABAgQIECBAgAABAgQyAkZw5tWCEiBAgAABAgQIECBAgIARrAMECBAgQIAAAQIECBAgkBEwgjOvFpQAAQIECBAgQIAAAQIEjGAdIECAAAECBAgQIECAAIGMgBGcebWgBAgQIECAAAECBAgQIGAE6wABAgQIECBAgAABAgQIZASM4MyrBSVAgAABAgQIECBAgAABI1gHCBAgQIAAAQIECBAgQCAjYARnXi0oAQIECBAgQIAAAQIECBjBOkCAAAECBAgQIECAAAECGQEjOPNqQQkQIECAAAECBAgQIEDACNYBAgQIECBAgAABAgQIEMgIGMGZVwtKgAABAgQIECBAgAABAkawDhAgQIAAAQIECBAgQIBARsAIzrxaUAIECBAgQIAAAQIECBAwgnWAAAECBAgQIECAAAECBDICRnDm1YISIECAAAECBAgQIECAgBGsAwQIECBAgAABAgQIECCQETCCM68WlAABAgQIECBAgAABAgSMYB0gQIAAAQIECBAgQIAAgYyAEZx5taAECBAgQIAAAQIECBAgYATrAAECBAgQIECAAAECBAhkBIzgzKsFJUCAAAECBAgQIECAAAEjWAcIECBAgAABAgQIECBAICNgBGdeLSgBAgQIECBAgAABAgQIGME6QIAAAQIECBAgQIAAAQIZASM482pBCRAgQIAAAQIECBAgQMAI1gECBAgQIECAAAECBAgQyAgYwZlXC0qAAAECBAgQIECAAAECRrAOECBAgAABAgQIECBAgEBGwAjOvFpQAgQIECBAgAABAgQIEDCCdYAAAQIECBAgQIAAAQIEMgJGcObVghIgQIAAAQIECBAgQICAEawDBAgQIECAAAECBAgQIJARMIIzrxaUAAECBAgQIECAAAECBIxgHSBAgAABAgQIECBAgACBjIARnHm1oAQIECBAgAABAgQIECBgBOsAAQIECBAgQIAAAQIECGQEjODMqwUlQIAAAQIECBAgQIAAASNYBwgQIECAAAECBAgQIEAgI2AEZ14tKAECBAgQIECAAAECBAgYwTpAgAABAgQIECBAgAABAhkBIzjzakEJECBAgAABAgQIECBAwAjWAQIECBAgQIAAAQIECBDICBjBmVcLSoAAAQIECBAgQIAAAQJGsA4QIECAAAECBAgQIECAQEbACM68WlACBAgQIECAAAECBAgQMIJ1gAABAgQIECBAgAABAgQyAkZw5tWCEiBAgAABAgQIECBAgIARrAMECBAgQIAAAQIECBAgkBEwgjOvFpQAAQIECBAgQIAAAQIEjGAdIECAAAECBAgQIECAAIGMgBGcebWgBAgQIECAAAECBAgQIGAE6wABAgQIECBAgAABAgQIZASM4MyrBSVAgAABAgQIECBAgAABI1gHCBAgQIAAAQIECBAgQCAjYARnXi0oAQIECBAgQIAAAQIECBjBOkCAAAECBAgQIECAAAECGQEjOPNqQQkQIECAAAECBAgQIEDACNYBAgQIECBAgAABAgQIEMgIGMGZVwtKgAABAgQIECBAgAABAkawDhAgQIAAAQIECBAgQIBARsAIzrxaUAIECBAgQIAAAQIECBAwgnWAAAECBAgQIECAAAECBDICRnDm1YISIECAAAECBAgQIECAgBGsAwQIECBAgAABAgQIECCQETCCM68WlAABAgQIECBAgAABAgSMYB0gQIAAAQIECBAgQIAAgYyAEZx5taAECBAgQIAAAQIECBAgYATrAAECBAgQIECAAAECBAhkBIzgzKsFJUCAAAECBAgQIECAAAEjWAcIECBAgAABAgQIECBAICNgBGdeLSgBAgQIECBAgAABAgQIGME6QIAAAQIECBAgQIAAAQIZASM482pBCRAgQIAAAQIECBAgQMAI1gECBAgQIECAAAECBAgQyAgYwZlXC0qAAAECBAgQIECAAAECRrAOECBAgAABAgQIECBAgEBGwAjOvFpQAgQIECBAgAABAgQIEDCCdYAAAQIECBAgQIAAAQIEMgJGcObVghIgQIAAAQIECBAgQICAEawDBAgQIECAAAECBAgQIJARMIIzrxaUAAECBAgQIECAAAECBIxgHSBAgAABAgQIECBAgACBjIARnHm1oAQIECBAgAABAgQIECBgBOsAAQIECBAgQIAAAQIECGQEjODMqwUlQIAAAQIECBAgQIAAASNYBwgQIECAAAECBAgQIEAgI2AEZ14tKAECBAgQIECAAAECBAgYwTpAgAABAgQIECBAgAABAhkBIzjzakEJECBAgAABAgQIECBAwAjWAQIECBAgQIAAAQIECBDICBjBmVcLSoAAAQIECBAgQIAAAQJGsA4QIECAAAECBAgQIECAQEbACM68WlACBAgQIECAAAECBAgQMIJ1gAABAgQIECBAgAABAgQyAkZw5tWCEiBAgAABAgQIECBAgIARrAMECBAgQIAAAQIECBAgkBEwgjOvFpQAAQIECBAgQIAAAQIEjGAdIECAAAECBAgQIECAAIGMgBGcebWgBAgQIECAAAECBAgQIGAE6wABAgQIECBAgAABAgQIZASM4MyrBSVAgAABAgQIECBAgAABI1gHCBAgQIAAAQIECBAgQCAjYARnXi0oAQIECBAgQIAAAQIECBjBOkCAAAECBAgQIECAAAECGQEjOPNqQQkQIECAAAECBAgQIEDACNYBAgQIECBAgAABAgQIEMgIGMGZVwtKgB/bboAAABS5SURBVAABAgQIECBAgAABAkawDhAgQIAAAQIECBAgQIBARsAIzrxaUAIECBAgQIAAAQIECBAwgnWAAAECBAgQIECAAAECBDICRnDm1YISIECAAAECBAgQIECAgBGsAwQIECBAgAABAgQIECCQETCCM68WlAABAgQIECBAgAABAgSMYB0gQIAAAQIECBAgQIAAgYyAEZx5taAECBAgQIAAAQIECBAgYATrAAECBAgQIECAAAECBAhkBIzgzKsFJUCAAAECBAgQIECAAAEjWAcIECBAgAABAgQIECBAICNgBGdeLSgBAgQIECBAgAABAgQIGME6QIAAAQIECBAgQIAAAQIZASM482pBCRAgQIAAAQIECBAgQMAI1gECBAgQIECAAAECBAgQyAgYwZlXC0qAAAECBAgQIECAAAECRrAOECBAgAABAgQIECBAgEBGwAjOvFpQAgQIECBAgAABAgQIEDCCdYAAAQIECBAgQIAAAQIEMgJGcObVghIgQIAAAQIECBAgQICAEawDBAgQIECAAAECBAgQIJARMIIzrxaUAAECBAgQIECAAAECBIxgHSBAgAABAgQIECBAgACBjIARnHm1oAQIECBAgAABAgQIECBgBOsAAQIECBAgQIAAAQIECGQEjODMqwUlQIAAAQIECBAgQIAAASNYBwgQIECAAAECBAgQIEAgI2AEZ14tKAECBAgQIECAAAECBAgYwTpAgAABAgQIECBAgAABAhkBIzjzakEJECBAgAABAgQIECBAwAjWAQIECBAgQIAAAQIECBDICBjBmVcLSoAAAQIECBAgQIAAAQJGsA4QIECAAAECBAgQIECAQEbACM68WlACBAgQIECAAAECBAgQMIJ1gAABAgQIECBAgAABAgQyAkZw5tWCEiBAgAABAgQIECBAgIARrAMECBAgQIAAAQIECBAgkBEwgjOvFpQAAQIECBAgQIAAAQIEjGAdIECAAAECBAgQIECAAIGMgBGcebWgBAgQIECAAAECBAgQIGAE6wABAgQIECBAgAABAgQIZASM4MyrBSVAgAABAgQIECBAgAABI1gHCBAgQIAAAQIECBAgQCAjYARnXi0oAQIECBAgQIAAAQIECBjBOkCAAAECBAgQIECAAAECGQEjOPNqQQkQIECAAAECBAgQIEDACNYBAgQIECBAgAABAgQIEMgIGMGZVwtKgAABAgQIECBAgAABAkawDhAgQIAAAQIECBAgQIBARsAIzrxaUAIECBAgQIAAAQIECBAwgnWAAAECBAgQIECAAAECBDICRnDm1YISIECAAAECBAgQIECAgBGsAwQIECBAgAABAgQIECCQETCCM68WlAABAgQIECBAgAABAgSMYB0gQIAAAQIECBAgQIAAgYyAEZx5taAECBAgQIAAAQIECBAgYATrAAECBAgQIECAAAECBAhkBIzgzKsFJUCAAAECBAgQIECAAAEjWAcIECBAgAABAgQIECBAICNgBGdeLSgBAgQIECBAgAABAgQIGME6QIAAAQIECBAgQIAAAQIZASM482pBCRAgQIAAAQIECBAgQMAI1gECBAgQIECAAAECBAgQyAgYwZlXC0qAAAECBAgQIECAAAECRrAOECBAgAABAgQIECBAgEBGwAjOvFpQAgQIECBAgAABAgQIEDCCdYAAAQIECBAgQIAAAQIEMgJGcObVghIgQIAAAQIECBAgQICAEawDBAgQIECAAAECBAgQIJARMIIzrxaUAAECBAgQIECAAAECBIxgHSBAgAABAgQIECBAgACBjIARnHm1oAQIECBAgAABAgQIECBgBOsAAQIECBAgQIAAAQIECGQEjODMqwUlQIAAAQIECBAgQIAAASNYBwgQIECAAAECBAgQIEAgI2AEZ14tKAECBAgQIECAAAECBAgYwTpAgAABAgQIECBAgAABAhkBIzjzakEJECBAgAABAgQIECBAwAjWAQIECBAgQIAAAQIECBDICBjBmVcLSoAAAQIECBAgQIAAAQJGsA4QIECAAAECBAgQIECAQEbACM68WlACBAgQIECAAAECBAgQMIJ1gAABAgQIECBAgAABAgQyAkZw5tWCEiBAgAABAgQIECBAgIARrAMECBAgQIAAAQIECBAgkBEwgjOvFpQAAQIECBAgQIAAAQIEjGAdIECAAAECBAgQIECAAIGMgBGcebWgBAgQIECAAAECBAgQIGAE6wABAgQIECBAgAABAgQIZASM4MyrBSVAgAABAgQIECBAgAABI1gHCBAgQIAAAQIECBAgQCAjYARnXi0oAQIECBAgQIAAAQIECBjBOkCAAAECBAgQIECAAAECGQEjOPNqQQkQIECAAAECBAgQIEDACNYBAgQIECBAgAABAgQIEMgIGMGZVwtKgAABAgQIECBAgAABAkawDhAgQIAAAQIECBAgQIBARsAIzrxaUAIECBAgQIAAAQIECBAwgnWAAAECBAgQIECAAAECBDICRnDm1YISIECAAAECBAgQIECAgBGsAwQIECBAgAABAgQIECCQETCCM68WlAABAgQIECBAgAABAgSMYB0gQIAAAQIECBAgQIAAgYyAEZx5taAECBAgQIAAAQIECBAgYATrAAECBAgQIECAAAECBAhkBIzgzKsFJUCAAAECBAgQIECAAAEjWAcIECBAgAABAgQIECBAICNgBGdeLSgBAgQIECBAgAABAgQIGME6QIAAAQIECBAgQIAAAQIZASM482pBCRAgQIAAAQIECBAgQMAI1gECBAgQIECAAAECBAgQyAgYwZlXC0qAAAECBAgQIECAAAECRrAOECBAgAABAgQIECBAgEBGwAjOvFpQAgQIECBAgAABAgQIEDCCdYAAAQIECBAgQIAAAQIEMgJGcObVghIgQIAAAQIECBAgQICAEawDBAgQIECAAAECBAgQIJARMIIzrxaUAAECBAgQIECAAAECBIxgHSBAgAABAgQIECBAgACBjIARnHm1oAQIECBAgAABAgQIECBgBOsAAQIECBAgQIAAAQIECGQEjODMqwUlQIAAAQIECBAgQIAAASNYBwgQIECAAAECBAgQIEAgI2AEZ14tKAECBAgQIECAAAECBAgYwTpAgAABAgQIECBAgAABAhkBIzjzakEJECBAgAABAgQIECBAwAjWAQIECBAgQIAAAQIECBDICBjBmVcLSoAAAQIECBAgQIAAAQJGsA4QIECAAAECBAgQIECAQEbACM68WlACBAgQIECAAAECBAgQMIJ1gAABAgQIECBAgAABAgQyAkZw5tWCEiBAgAABAgQIECBAgIARrAMECBAgQIAAAQIECBAgkBEwgjOvFpQAAQIECBAgQIAAAQIEjGAdIECAAAECBAgQIECAAIGMgBGcebWgBAgQIECAAAECBAgQIGAE6wABAgQIECBAgAABAgQIZASM4MyrBSVAgAABAgQIECBAgAABI1gHCBAgQIAAAQIECBAgQCAjYARnXi0oAQIECBAgQIAAAQIECBjBOkCAAAECBAgQIECAAAECGQEjOPNqQQkQIECAAAECBAgQIEDACNYBAgQIECBAgAABAgQIEMgIGMGZVwtKgAABAgQIECBAgAABAkawDhAgQIAAAQIECBAgQIBARsAIzrxaUAIECBAgQIAAAQIECBAwgnWAAAECBAgQIECAAAECBDICRnDm1YISIECAAAECBAgQIECAgBGsAwQIECBAgAABAgQIECCQETCCM68WlAABAgQIECBAgAABAgSMYB0gQIAAAQIECBAgQIAAgYyAEZx5taAECBAgQIAAAQIECBAgYATrAAECBAgQIECAAAECBAhkBIzgzKsFJUCAAAECBAgQIECAAAEjWAcIECBAgAABAgQIECBAICNgBGdeLSgBAgQIECBAgAABAgQIGME6QIAAAQIECBAgQIAAAQIZASM482pBCRAgQIAAAQIECBAgQMAI1gECBAgQIECAAAECBAgQyAgYwZlXC0qAAAECBAgQIECAAAECRrAOECBAgAABAgQIECBAgEBGwAjOvFpQAgQIECBAgAABAgQIEDCCdYAAAQIECBAgQIAAAQIEMgJGcObVghIgQIAAAQIECBAgQICAEawDBAgQIECAAAECBAgQIJARMIIzrxaUAAECBAgQIECAAAECBIxgHSBAgAABAgQIECBAgACBjIARnHm1oAQIECBAgAABAgQIECBgBOsAAQIECBAgQIAAAQIECGQEjODMqwUlQIAAAQIECBAgQIAAASNYBwgQIECAAAECBAgQIEAgI2AEZ14tKAECBAgQIECAAAECBAgYwTpAgAABAgQIECBAgAABAhkBIzjzakEJECBAgAABAgQIECBAwAjWAQIECBAgQIAAAQIECBDICBjBmVcLSoAAAQIECBAgQIAAAQJGsA4QIECAAAECBAgQIECAQEbACM68WlACBAgQIECAAAECBAgQMIJ1gAABAgQIECBAgAABAgQyAkZw5tWCEiBAgAABAgQIECBAgIARrAMECBAgQIAAAQIECBAgkBEwgjOvFpQAAQIECBAgQIAAAQIEjGAdIECAAAECBAgQIECAAIGMgBGcebWgBAgQIECAAAECBAgQIGAE6wABAgQIECBAgAABAgQIZASM4MyrBSVAgAABAgQIECBAgAABI1gHCBAgQIAAAQIECBAgQCAjYARnXi0oAQIECBAgQIAAAQIECBjBOkCAAAECBAgQIECAAAECGQEjOPNqQQkQIECAAAECBAgQIEDACNYBAgQIECBAgAABAgQIEMgIGMGZVwtKgAABAgQIECBAgAABAkawDhAgQIAAAQIECBAgQIBARsAIzrxaUAIECBAgQIAAAQIECBAwgnWAAAECBAgQIECAAAECBDICRnDm1YISIECAAAECBAgQIECAgBGsAwQIECBAgAABAgQIECCQETCCM68WlAABAgQIECBAgAABAgSMYB0gQIAAAQIECBAgQIAAgYyAEZx5taAECBAgQIAAAQIECBAgYATrAAECBAgQIECAAAECBAhkBIzgzKsFJUCAAAECBAgQIECAAAEjWAcIECBAgAABAgQIECBAICNgBGdeLSgBAgQIECBAgAABAgQIGME6QIAAAQIECBAgQIAAAQIZASM482pBCRAgQIAAAQIECBAgQMAI1gECBAgQIECAAAECBAgQyAgYwZlXC0qAAAECBAgQIECAAAECRrAOECBAgAABAgQIECBAgEBGwAjOvFpQAgQIECBAgAABAgQIEDCCdYAAAQIECBAgQIAAAQIEMgJGcObVghIgQIAAAQIECBAgQICAEawDBAgQIECAAAECBAgQIJARMIIzrxaUAAECBAgQIECAAAECBIxgHSBAgAABAgQIECBAgACBjIARnHm1oAQIECBAgAABAgQIECBgBOsAAQIECBAgQIAAAQIECGQEjODMqwUlQIAAAQIECBAgQIAAASNYBwgQIECAAAECBAgQIEAgI2AEZ14tKAECBAgQIECAAAECBAgYwTpAgAABAgQIECBAgAABAhkBIzjzakEJECBAgAABAgQIECBAwAjWAQIECBAgQIAAAQIECBDICBjBmVcLSoAAAQIECBAgQIAAAQJGsA4QIECAAAECBAgQIECAQEbACM68WlACBAgQIECAAAECBAgQMIJ1gAABAgQIECBAgAABAgQyAkZw5tWCEiBAgAABAgQIECBAgIARrAMECBAgQIAAAQIECBAgkBEwgjOvFpQAAQIECBAgQIAAAQIEjGAdIECAAAECBAgQIECAAIGMgBGcebWgBAgQIECAAAECBAgQIGAE6wABAgQIECBAgAABAgQIZASM4MyrBSVAgAABAgQIECBAgAABI1gHCBAgQIAAAQIECBAgQCAjYARnXi0oAQIECBAgQIAAAQIECBjBOkCAAAECBAgQIECAAAECGQEjOPNqQQkQIECAAAECBAgQIEDACNYBAgQIECBAgAABAgQIEMgIGMGZVwtKgAABAgQIECBAgAABAkawDhAgQIAAAQIECBAgQIBARsAIzrxaUAIECBAgQIAAAQIECBAwgnWAAAECBAgQIECAAAECBDICRnDm1YISIECAAAECBAgQIECAgBGsAwQIECBAgAABAgQIECCQETCCM68WlAABAgQIECBAgAABAgSMYB0gQIAAAQIECBAgQIAAgYyAEZx5taAECBAgQIAAAQIECBAgYATrAAECBAgQIECAAAECBAhkBIzgzKsFJUCAAAECBAgQIECAAAEjWAcIECBAgAABAgQIECBAICNgBGdeLSgBAgQIECBAgAABAgQIGME6QIAAAQIECBAgQIAAAQIZASM482pBCRAgQIAAAQIECBAgQMAI1gECBAgQIECAAAECBAgQyAgYwZlXC0qAAAECBAgQIECAAAECRrAOECBAgAABAgQIECBAgEBGwAjOvFpQAgQIECBAgAABAgQIEDCCdYAAAQIECBAgQIAAAQIEMgJGcObVghIgQIAAAQIECBAgQICAEawDBAgQIECAAAECBAgQIJARMIIzrxaUAAECBAgQIECAAAECBIxgHSBAgAABAgQIECBAgACBjIARnHm1oAQIECBAgAABAgQIECBgBOsAAQIECBAgQIAAAQIECGQEjODMqwUlQIAAAQIECBAgQIAAASNYBwgQIECAAAECBAgQIEAgI2AEZ14tKAECBAgQIECAAAECBAgYwTpAgAABAgQIECBAgAABAhkBIzjzakEJECBAgAABAgQIECBAwAjWAQIECBAgQIAAAQIECBDICBjBmVcLSoAAAQIECBAgQIAAAQJGsA4QIECAAAECBAgQIECAQEbACM68WlACBAgQIECAAAECBAgQMIJ1gAABAgQIECBAgAABAgQyAkZw5tWCEiBAgAABAgQIECBAgIARrAMECBAgQIAAAQIECBAgkBEwgjOvFpQAAQIECBAgQIAAAQIEjGAdIECAAAECBAgQIECAAIGMgBGcebWgBAgQIECAAAECBAgQIGAE6wABAgQIECBAgAABAgQIZASM4MyrBSVAgAABAgQIECBAgAABI1gHCBAgQIAAAQIECBAgQCAj8IEeAtLyLKSkAAAAAElFTkSuQmCC\" width=\"639.3723642934733\">"
      ],
      "text/plain": [
       "<IPython.core.display.HTML object>"
      ]
     },
     "metadata": {},
     "output_type": "display_data"
    }
   ],
   "source": [
    "%matplotlib notebook\n",
    "horas_dia.plot(); # Si terminamos la instrucción con ';' obtenemos una salida más limpia. Prueba hacerlo con y sin ';'"
   ]
  },
  {
   "cell_type": "markdown",
   "metadata": {},
   "source": [
    "El método `plot` por defecto crea una gráfica de líneas, lo cual no será siempre lo más adecuado, como ocurre en este ejemplo. Es posible también crear gráficos de barras (`plot.bar()`), de barras horizontales (`plot.barh()`), de área (`plot.area()`), de tarta (`plot.pie()`), histogramas (`plot.hist()`), entre otros. Puedes encontrar información más detallada de estos métodos en el [API de la clase Series](https://pandas-docs.github.io/pandas-docs-travis/reference/series.html#plotting)\n",
    "\n",
    "Nota: si hemos activado `%matplotlib notebook`, antes de visualizar una segunda gráfica deberemos parar la interacción con cualquier otra gráfica que hubiéramos ploteado anteriormente (botón de apagado en la parte superior derecha), de lo contrario el comportamiento es errático. Otra alternativa que evita tener que finalizar la interacción con gráficas anteriores es ejecutar la función `figure()` definida en el módulo `matplotlib.pyplot` antes de plotear una segunda gráfica. Para ello primero importaremos el módulo y a continuación invocaremos la función, tal y como se muestra en el siguiente ejemplo."
   ]
  },
  {
   "cell_type": "code",
   "execution_count": 13,
   "metadata": {},
   "outputs": [
    {
     "ename": "NameError",
     "evalue": "name 'plt' is not defined",
     "output_type": "error",
     "traceback": [
      "\u001b[0;31m---------------------------------------------------------------------------\u001b[0m",
      "\u001b[0;31mNameError\u001b[0m                                 Traceback (most recent call last)",
      "\u001b[0;32m<ipython-input-13-29e103a3c1b4>\u001b[0m in \u001b[0;36m<module>\u001b[0;34m\u001b[0m\n\u001b[0;32m----> 1\u001b[0;31m \u001b[0mplt\u001b[0m\u001b[0;34m.\u001b[0m\u001b[0mfigure\u001b[0m\u001b[0;34m(\u001b[0m\u001b[0;34m)\u001b[0m\u001b[0;34m\u001b[0m\u001b[0;34m\u001b[0m\u001b[0m\n\u001b[0m\u001b[1;32m      2\u001b[0m \u001b[0mhoras_dia\u001b[0m\u001b[0;34m.\u001b[0m\u001b[0mplot\u001b[0m\u001b[0;34m.\u001b[0m\u001b[0mbar\u001b[0m\u001b[0;34m(\u001b[0m\u001b[0;34m)\u001b[0m\u001b[0;34m;\u001b[0m\u001b[0;34m\u001b[0m\u001b[0;34m\u001b[0m\u001b[0m\n\u001b[1;32m      3\u001b[0m \u001b[0;34m\u001b[0m\u001b[0m\n\u001b[1;32m      4\u001b[0m \u001b[0;31m# Prueba interactuar con la gráfica dibujada, por ejemplo hacer zoom\u001b[0m\u001b[0;34m\u001b[0m\u001b[0;34m\u001b[0m\u001b[0;34m\u001b[0m\u001b[0m\n\u001b[1;32m      5\u001b[0m \u001b[0;31m# de los valores correspondientes a los planetas con días más cortos.\u001b[0m\u001b[0;34m\u001b[0m\u001b[0;34m\u001b[0m\u001b[0;34m\u001b[0m\u001b[0m\n",
      "\u001b[0;31mNameError\u001b[0m: name 'plt' is not defined"
     ]
    }
   ],
   "source": [
    "plt.figure()\n",
    "horas_dia.plot.bar();\n",
    "\n",
    "# Prueba interactuar con la gráfica dibujada, por ejemplo hacer zoom\n",
    "# de los valores correspondientes a los planetas con días más cortos."
   ]
  },
  {
   "cell_type": "markdown",
   "metadata": {},
   "source": [
    "#### 2. Visualización usando funciones de la librería `matplotlib`\n",
    "\n",
    "En este caso lo primero que debemos hacer, si no lo hemos hecho ya, es importar `matplotlib.pyplot` (además de ejecutar `%matplotlib notebook` tal y como se ha explicado antes)"
   ]
  },
  {
   "cell_type": "code",
   "execution_count": 14,
   "metadata": {},
   "outputs": [],
   "source": [
    "%matplotlib notebook\n",
    "import matplotlib.pyplot as plt"
   ]
  },
  {
   "cell_type": "markdown",
   "metadata": {},
   "source": [
    "Para hacer un gráfico de líneas basta con invocar a la función `plt.plot(valores_x, valores_y)` (donde `valores_x` puede omitirse, en cuyo caso se utiliza por defecto la secuencia 0, 1, 2, ...). Normalmente pondremos en el eje y los valores de la serie (`mi_serie.values`) y en el x los índices (`mi_serie.index`).\n",
    "\n",
    "Esta función `plot` admite muchos otros parámatros que permiten configurar y personalizar la gráfica, tal y como se explica en el [API](https://matplotlib.org/api/_as_gen/matplotlib.pyplot.plot.html#matplotlib.pyplot.plot) de la misma.\n",
    "\n",
    "Además del gráfico de líneas, también es posible crear de otro tipo: barras (`plt.bar`), barras horizontales (`plt.barh`), tarta (`plt.pie`), histogramas (`plt.hist`), etc."
   ]
  },
  {
   "cell_type": "code",
   "execution_count": 15,
   "metadata": {},
   "outputs": [
    {
     "data": {
      "application/javascript": [
       "/* Put everything inside the global mpl namespace */\n",
       "window.mpl = {};\n",
       "\n",
       "\n",
       "mpl.get_websocket_type = function() {\n",
       "    if (typeof(WebSocket) !== 'undefined') {\n",
       "        return WebSocket;\n",
       "    } else if (typeof(MozWebSocket) !== 'undefined') {\n",
       "        return MozWebSocket;\n",
       "    } else {\n",
       "        alert('Your browser does not have WebSocket support.' +\n",
       "              'Please try Chrome, Safari or Firefox ≥ 6. ' +\n",
       "              'Firefox 4 and 5 are also supported but you ' +\n",
       "              'have to enable WebSockets in about:config.');\n",
       "    };\n",
       "}\n",
       "\n",
       "mpl.figure = function(figure_id, websocket, ondownload, parent_element) {\n",
       "    this.id = figure_id;\n",
       "\n",
       "    this.ws = websocket;\n",
       "\n",
       "    this.supports_binary = (this.ws.binaryType != undefined);\n",
       "\n",
       "    if (!this.supports_binary) {\n",
       "        var warnings = document.getElementById(\"mpl-warnings\");\n",
       "        if (warnings) {\n",
       "            warnings.style.display = 'block';\n",
       "            warnings.textContent = (\n",
       "                \"This browser does not support binary websocket messages. \" +\n",
       "                    \"Performance may be slow.\");\n",
       "        }\n",
       "    }\n",
       "\n",
       "    this.imageObj = new Image();\n",
       "\n",
       "    this.context = undefined;\n",
       "    this.message = undefined;\n",
       "    this.canvas = undefined;\n",
       "    this.rubberband_canvas = undefined;\n",
       "    this.rubberband_context = undefined;\n",
       "    this.format_dropdown = undefined;\n",
       "\n",
       "    this.image_mode = 'full';\n",
       "\n",
       "    this.root = $('<div/>');\n",
       "    this._root_extra_style(this.root)\n",
       "    this.root.attr('style', 'display: inline-block');\n",
       "\n",
       "    $(parent_element).append(this.root);\n",
       "\n",
       "    this._init_header(this);\n",
       "    this._init_canvas(this);\n",
       "    this._init_toolbar(this);\n",
       "\n",
       "    var fig = this;\n",
       "\n",
       "    this.waiting = false;\n",
       "\n",
       "    this.ws.onopen =  function () {\n",
       "            fig.send_message(\"supports_binary\", {value: fig.supports_binary});\n",
       "            fig.send_message(\"send_image_mode\", {});\n",
       "            if (mpl.ratio != 1) {\n",
       "                fig.send_message(\"set_dpi_ratio\", {'dpi_ratio': mpl.ratio});\n",
       "            }\n",
       "            fig.send_message(\"refresh\", {});\n",
       "        }\n",
       "\n",
       "    this.imageObj.onload = function() {\n",
       "            if (fig.image_mode == 'full') {\n",
       "                // Full images could contain transparency (where diff images\n",
       "                // almost always do), so we need to clear the canvas so that\n",
       "                // there is no ghosting.\n",
       "                fig.context.clearRect(0, 0, fig.canvas.width, fig.canvas.height);\n",
       "            }\n",
       "            fig.context.drawImage(fig.imageObj, 0, 0);\n",
       "        };\n",
       "\n",
       "    this.imageObj.onunload = function() {\n",
       "        fig.ws.close();\n",
       "    }\n",
       "\n",
       "    this.ws.onmessage = this._make_on_message_function(this);\n",
       "\n",
       "    this.ondownload = ondownload;\n",
       "}\n",
       "\n",
       "mpl.figure.prototype._init_header = function() {\n",
       "    var titlebar = $(\n",
       "        '<div class=\"ui-dialog-titlebar ui-widget-header ui-corner-all ' +\n",
       "        'ui-helper-clearfix\"/>');\n",
       "    var titletext = $(\n",
       "        '<div class=\"ui-dialog-title\" style=\"width: 100%; ' +\n",
       "        'text-align: center; padding: 3px;\"/>');\n",
       "    titlebar.append(titletext)\n",
       "    this.root.append(titlebar);\n",
       "    this.header = titletext[0];\n",
       "}\n",
       "\n",
       "\n",
       "\n",
       "mpl.figure.prototype._canvas_extra_style = function(canvas_div) {\n",
       "\n",
       "}\n",
       "\n",
       "\n",
       "mpl.figure.prototype._root_extra_style = function(canvas_div) {\n",
       "\n",
       "}\n",
       "\n",
       "mpl.figure.prototype._init_canvas = function() {\n",
       "    var fig = this;\n",
       "\n",
       "    var canvas_div = $('<div/>');\n",
       "\n",
       "    canvas_div.attr('style', 'position: relative; clear: both; outline: 0');\n",
       "\n",
       "    function canvas_keyboard_event(event) {\n",
       "        return fig.key_event(event, event['data']);\n",
       "    }\n",
       "\n",
       "    canvas_div.keydown('key_press', canvas_keyboard_event);\n",
       "    canvas_div.keyup('key_release', canvas_keyboard_event);\n",
       "    this.canvas_div = canvas_div\n",
       "    this._canvas_extra_style(canvas_div)\n",
       "    this.root.append(canvas_div);\n",
       "\n",
       "    var canvas = $('<canvas/>');\n",
       "    canvas.addClass('mpl-canvas');\n",
       "    canvas.attr('style', \"left: 0; top: 0; z-index: 0; outline: 0\")\n",
       "\n",
       "    this.canvas = canvas[0];\n",
       "    this.context = canvas[0].getContext(\"2d\");\n",
       "\n",
       "    var backingStore = this.context.backingStorePixelRatio ||\n",
       "\tthis.context.webkitBackingStorePixelRatio ||\n",
       "\tthis.context.mozBackingStorePixelRatio ||\n",
       "\tthis.context.msBackingStorePixelRatio ||\n",
       "\tthis.context.oBackingStorePixelRatio ||\n",
       "\tthis.context.backingStorePixelRatio || 1;\n",
       "\n",
       "    mpl.ratio = (window.devicePixelRatio || 1) / backingStore;\n",
       "\n",
       "    var rubberband = $('<canvas/>');\n",
       "    rubberband.attr('style', \"position: absolute; left: 0; top: 0; z-index: 1;\")\n",
       "\n",
       "    var pass_mouse_events = true;\n",
       "\n",
       "    canvas_div.resizable({\n",
       "        start: function(event, ui) {\n",
       "            pass_mouse_events = false;\n",
       "        },\n",
       "        resize: function(event, ui) {\n",
       "            fig.request_resize(ui.size.width, ui.size.height);\n",
       "        },\n",
       "        stop: function(event, ui) {\n",
       "            pass_mouse_events = true;\n",
       "            fig.request_resize(ui.size.width, ui.size.height);\n",
       "        },\n",
       "    });\n",
       "\n",
       "    function mouse_event_fn(event) {\n",
       "        if (pass_mouse_events)\n",
       "            return fig.mouse_event(event, event['data']);\n",
       "    }\n",
       "\n",
       "    rubberband.mousedown('button_press', mouse_event_fn);\n",
       "    rubberband.mouseup('button_release', mouse_event_fn);\n",
       "    // Throttle sequential mouse events to 1 every 20ms.\n",
       "    rubberband.mousemove('motion_notify', mouse_event_fn);\n",
       "\n",
       "    rubberband.mouseenter('figure_enter', mouse_event_fn);\n",
       "    rubberband.mouseleave('figure_leave', mouse_event_fn);\n",
       "\n",
       "    canvas_div.on(\"wheel\", function (event) {\n",
       "        event = event.originalEvent;\n",
       "        event['data'] = 'scroll'\n",
       "        if (event.deltaY < 0) {\n",
       "            event.step = 1;\n",
       "        } else {\n",
       "            event.step = -1;\n",
       "        }\n",
       "        mouse_event_fn(event);\n",
       "    });\n",
       "\n",
       "    canvas_div.append(canvas);\n",
       "    canvas_div.append(rubberband);\n",
       "\n",
       "    this.rubberband = rubberband;\n",
       "    this.rubberband_canvas = rubberband[0];\n",
       "    this.rubberband_context = rubberband[0].getContext(\"2d\");\n",
       "    this.rubberband_context.strokeStyle = \"#000000\";\n",
       "\n",
       "    this._resize_canvas = function(width, height) {\n",
       "        // Keep the size of the canvas, canvas container, and rubber band\n",
       "        // canvas in synch.\n",
       "        canvas_div.css('width', width)\n",
       "        canvas_div.css('height', height)\n",
       "\n",
       "        canvas.attr('width', width * mpl.ratio);\n",
       "        canvas.attr('height', height * mpl.ratio);\n",
       "        canvas.attr('style', 'width: ' + width + 'px; height: ' + height + 'px;');\n",
       "\n",
       "        rubberband.attr('width', width);\n",
       "        rubberband.attr('height', height);\n",
       "    }\n",
       "\n",
       "    // Set the figure to an initial 600x600px, this will subsequently be updated\n",
       "    // upon first draw.\n",
       "    this._resize_canvas(600, 600);\n",
       "\n",
       "    // Disable right mouse context menu.\n",
       "    $(this.rubberband_canvas).bind(\"contextmenu\",function(e){\n",
       "        return false;\n",
       "    });\n",
       "\n",
       "    function set_focus () {\n",
       "        canvas.focus();\n",
       "        canvas_div.focus();\n",
       "    }\n",
       "\n",
       "    window.setTimeout(set_focus, 100);\n",
       "}\n",
       "\n",
       "mpl.figure.prototype._init_toolbar = function() {\n",
       "    var fig = this;\n",
       "\n",
       "    var nav_element = $('<div/>')\n",
       "    nav_element.attr('style', 'width: 100%');\n",
       "    this.root.append(nav_element);\n",
       "\n",
       "    // Define a callback function for later on.\n",
       "    function toolbar_event(event) {\n",
       "        return fig.toolbar_button_onclick(event['data']);\n",
       "    }\n",
       "    function toolbar_mouse_event(event) {\n",
       "        return fig.toolbar_button_onmouseover(event['data']);\n",
       "    }\n",
       "\n",
       "    for(var toolbar_ind in mpl.toolbar_items) {\n",
       "        var name = mpl.toolbar_items[toolbar_ind][0];\n",
       "        var tooltip = mpl.toolbar_items[toolbar_ind][1];\n",
       "        var image = mpl.toolbar_items[toolbar_ind][2];\n",
       "        var method_name = mpl.toolbar_items[toolbar_ind][3];\n",
       "\n",
       "        if (!name) {\n",
       "            // put a spacer in here.\n",
       "            continue;\n",
       "        }\n",
       "        var button = $('<button/>');\n",
       "        button.addClass('ui-button ui-widget ui-state-default ui-corner-all ' +\n",
       "                        'ui-button-icon-only');\n",
       "        button.attr('role', 'button');\n",
       "        button.attr('aria-disabled', 'false');\n",
       "        button.click(method_name, toolbar_event);\n",
       "        button.mouseover(tooltip, toolbar_mouse_event);\n",
       "\n",
       "        var icon_img = $('<span/>');\n",
       "        icon_img.addClass('ui-button-icon-primary ui-icon');\n",
       "        icon_img.addClass(image);\n",
       "        icon_img.addClass('ui-corner-all');\n",
       "\n",
       "        var tooltip_span = $('<span/>');\n",
       "        tooltip_span.addClass('ui-button-text');\n",
       "        tooltip_span.html(tooltip);\n",
       "\n",
       "        button.append(icon_img);\n",
       "        button.append(tooltip_span);\n",
       "\n",
       "        nav_element.append(button);\n",
       "    }\n",
       "\n",
       "    var fmt_picker_span = $('<span/>');\n",
       "\n",
       "    var fmt_picker = $('<select/>');\n",
       "    fmt_picker.addClass('mpl-toolbar-option ui-widget ui-widget-content');\n",
       "    fmt_picker_span.append(fmt_picker);\n",
       "    nav_element.append(fmt_picker_span);\n",
       "    this.format_dropdown = fmt_picker[0];\n",
       "\n",
       "    for (var ind in mpl.extensions) {\n",
       "        var fmt = mpl.extensions[ind];\n",
       "        var option = $(\n",
       "            '<option/>', {selected: fmt === mpl.default_extension}).html(fmt);\n",
       "        fmt_picker.append(option)\n",
       "    }\n",
       "\n",
       "    // Add hover states to the ui-buttons\n",
       "    $( \".ui-button\" ).hover(\n",
       "        function() { $(this).addClass(\"ui-state-hover\");},\n",
       "        function() { $(this).removeClass(\"ui-state-hover\");}\n",
       "    );\n",
       "\n",
       "    var status_bar = $('<span class=\"mpl-message\"/>');\n",
       "    nav_element.append(status_bar);\n",
       "    this.message = status_bar[0];\n",
       "}\n",
       "\n",
       "mpl.figure.prototype.request_resize = function(x_pixels, y_pixels) {\n",
       "    // Request matplotlib to resize the figure. Matplotlib will then trigger a resize in the client,\n",
       "    // which will in turn request a refresh of the image.\n",
       "    this.send_message('resize', {'width': x_pixels, 'height': y_pixels});\n",
       "}\n",
       "\n",
       "mpl.figure.prototype.send_message = function(type, properties) {\n",
       "    properties['type'] = type;\n",
       "    properties['figure_id'] = this.id;\n",
       "    this.ws.send(JSON.stringify(properties));\n",
       "}\n",
       "\n",
       "mpl.figure.prototype.send_draw_message = function() {\n",
       "    if (!this.waiting) {\n",
       "        this.waiting = true;\n",
       "        this.ws.send(JSON.stringify({type: \"draw\", figure_id: this.id}));\n",
       "    }\n",
       "}\n",
       "\n",
       "\n",
       "mpl.figure.prototype.handle_save = function(fig, msg) {\n",
       "    var format_dropdown = fig.format_dropdown;\n",
       "    var format = format_dropdown.options[format_dropdown.selectedIndex].value;\n",
       "    fig.ondownload(fig, format);\n",
       "}\n",
       "\n",
       "\n",
       "mpl.figure.prototype.handle_resize = function(fig, msg) {\n",
       "    var size = msg['size'];\n",
       "    if (size[0] != fig.canvas.width || size[1] != fig.canvas.height) {\n",
       "        fig._resize_canvas(size[0], size[1]);\n",
       "        fig.send_message(\"refresh\", {});\n",
       "    };\n",
       "}\n",
       "\n",
       "mpl.figure.prototype.handle_rubberband = function(fig, msg) {\n",
       "    var x0 = msg['x0'] / mpl.ratio;\n",
       "    var y0 = (fig.canvas.height - msg['y0']) / mpl.ratio;\n",
       "    var x1 = msg['x1'] / mpl.ratio;\n",
       "    var y1 = (fig.canvas.height - msg['y1']) / mpl.ratio;\n",
       "    x0 = Math.floor(x0) + 0.5;\n",
       "    y0 = Math.floor(y0) + 0.5;\n",
       "    x1 = Math.floor(x1) + 0.5;\n",
       "    y1 = Math.floor(y1) + 0.5;\n",
       "    var min_x = Math.min(x0, x1);\n",
       "    var min_y = Math.min(y0, y1);\n",
       "    var width = Math.abs(x1 - x0);\n",
       "    var height = Math.abs(y1 - y0);\n",
       "\n",
       "    fig.rubberband_context.clearRect(\n",
       "        0, 0, fig.canvas.width, fig.canvas.height);\n",
       "\n",
       "    fig.rubberband_context.strokeRect(min_x, min_y, width, height);\n",
       "}\n",
       "\n",
       "mpl.figure.prototype.handle_figure_label = function(fig, msg) {\n",
       "    // Updates the figure title.\n",
       "    fig.header.textContent = msg['label'];\n",
       "}\n",
       "\n",
       "mpl.figure.prototype.handle_cursor = function(fig, msg) {\n",
       "    var cursor = msg['cursor'];\n",
       "    switch(cursor)\n",
       "    {\n",
       "    case 0:\n",
       "        cursor = 'pointer';\n",
       "        break;\n",
       "    case 1:\n",
       "        cursor = 'default';\n",
       "        break;\n",
       "    case 2:\n",
       "        cursor = 'crosshair';\n",
       "        break;\n",
       "    case 3:\n",
       "        cursor = 'move';\n",
       "        break;\n",
       "    }\n",
       "    fig.rubberband_canvas.style.cursor = cursor;\n",
       "}\n",
       "\n",
       "mpl.figure.prototype.handle_message = function(fig, msg) {\n",
       "    fig.message.textContent = msg['message'];\n",
       "}\n",
       "\n",
       "mpl.figure.prototype.handle_draw = function(fig, msg) {\n",
       "    // Request the server to send over a new figure.\n",
       "    fig.send_draw_message();\n",
       "}\n",
       "\n",
       "mpl.figure.prototype.handle_image_mode = function(fig, msg) {\n",
       "    fig.image_mode = msg['mode'];\n",
       "}\n",
       "\n",
       "mpl.figure.prototype.updated_canvas_event = function() {\n",
       "    // Called whenever the canvas gets updated.\n",
       "    this.send_message(\"ack\", {});\n",
       "}\n",
       "\n",
       "// A function to construct a web socket function for onmessage handling.\n",
       "// Called in the figure constructor.\n",
       "mpl.figure.prototype._make_on_message_function = function(fig) {\n",
       "    return function socket_on_message(evt) {\n",
       "        if (evt.data instanceof Blob) {\n",
       "            /* FIXME: We get \"Resource interpreted as Image but\n",
       "             * transferred with MIME type text/plain:\" errors on\n",
       "             * Chrome.  But how to set the MIME type?  It doesn't seem\n",
       "             * to be part of the websocket stream */\n",
       "            evt.data.type = \"image/png\";\n",
       "\n",
       "            /* Free the memory for the previous frames */\n",
       "            if (fig.imageObj.src) {\n",
       "                (window.URL || window.webkitURL).revokeObjectURL(\n",
       "                    fig.imageObj.src);\n",
       "            }\n",
       "\n",
       "            fig.imageObj.src = (window.URL || window.webkitURL).createObjectURL(\n",
       "                evt.data);\n",
       "            fig.updated_canvas_event();\n",
       "            fig.waiting = false;\n",
       "            return;\n",
       "        }\n",
       "        else if (typeof evt.data === 'string' && evt.data.slice(0, 21) == \"data:image/png;base64\") {\n",
       "            fig.imageObj.src = evt.data;\n",
       "            fig.updated_canvas_event();\n",
       "            fig.waiting = false;\n",
       "            return;\n",
       "        }\n",
       "\n",
       "        var msg = JSON.parse(evt.data);\n",
       "        var msg_type = msg['type'];\n",
       "\n",
       "        // Call the  \"handle_{type}\" callback, which takes\n",
       "        // the figure and JSON message as its only arguments.\n",
       "        try {\n",
       "            var callback = fig[\"handle_\" + msg_type];\n",
       "        } catch (e) {\n",
       "            console.log(\"No handler for the '\" + msg_type + \"' message type: \", msg);\n",
       "            return;\n",
       "        }\n",
       "\n",
       "        if (callback) {\n",
       "            try {\n",
       "                // console.log(\"Handling '\" + msg_type + \"' message: \", msg);\n",
       "                callback(fig, msg);\n",
       "            } catch (e) {\n",
       "                console.log(\"Exception inside the 'handler_\" + msg_type + \"' callback:\", e, e.stack, msg);\n",
       "            }\n",
       "        }\n",
       "    };\n",
       "}\n",
       "\n",
       "// from http://stackoverflow.com/questions/1114465/getting-mouse-location-in-canvas\n",
       "mpl.findpos = function(e) {\n",
       "    //this section is from http://www.quirksmode.org/js/events_properties.html\n",
       "    var targ;\n",
       "    if (!e)\n",
       "        e = window.event;\n",
       "    if (e.target)\n",
       "        targ = e.target;\n",
       "    else if (e.srcElement)\n",
       "        targ = e.srcElement;\n",
       "    if (targ.nodeType == 3) // defeat Safari bug\n",
       "        targ = targ.parentNode;\n",
       "\n",
       "    // jQuery normalizes the pageX and pageY\n",
       "    // pageX,Y are the mouse positions relative to the document\n",
       "    // offset() returns the position of the element relative to the document\n",
       "    var x = e.pageX - $(targ).offset().left;\n",
       "    var y = e.pageY - $(targ).offset().top;\n",
       "\n",
       "    return {\"x\": x, \"y\": y};\n",
       "};\n",
       "\n",
       "/*\n",
       " * return a copy of an object with only non-object keys\n",
       " * we need this to avoid circular references\n",
       " * http://stackoverflow.com/a/24161582/3208463\n",
       " */\n",
       "function simpleKeys (original) {\n",
       "  return Object.keys(original).reduce(function (obj, key) {\n",
       "    if (typeof original[key] !== 'object')\n",
       "        obj[key] = original[key]\n",
       "    return obj;\n",
       "  }, {});\n",
       "}\n",
       "\n",
       "mpl.figure.prototype.mouse_event = function(event, name) {\n",
       "    var canvas_pos = mpl.findpos(event)\n",
       "\n",
       "    if (name === 'button_press')\n",
       "    {\n",
       "        this.canvas.focus();\n",
       "        this.canvas_div.focus();\n",
       "    }\n",
       "\n",
       "    var x = canvas_pos.x * mpl.ratio;\n",
       "    var y = canvas_pos.y * mpl.ratio;\n",
       "\n",
       "    this.send_message(name, {x: x, y: y, button: event.button,\n",
       "                             step: event.step,\n",
       "                             guiEvent: simpleKeys(event)});\n",
       "\n",
       "    /* This prevents the web browser from automatically changing to\n",
       "     * the text insertion cursor when the button is pressed.  We want\n",
       "     * to control all of the cursor setting manually through the\n",
       "     * 'cursor' event from matplotlib */\n",
       "    event.preventDefault();\n",
       "    return false;\n",
       "}\n",
       "\n",
       "mpl.figure.prototype._key_event_extra = function(event, name) {\n",
       "    // Handle any extra behaviour associated with a key event\n",
       "}\n",
       "\n",
       "mpl.figure.prototype.key_event = function(event, name) {\n",
       "\n",
       "    // Prevent repeat events\n",
       "    if (name == 'key_press')\n",
       "    {\n",
       "        if (event.which === this._key)\n",
       "            return;\n",
       "        else\n",
       "            this._key = event.which;\n",
       "    }\n",
       "    if (name == 'key_release')\n",
       "        this._key = null;\n",
       "\n",
       "    var value = '';\n",
       "    if (event.ctrlKey && event.which != 17)\n",
       "        value += \"ctrl+\";\n",
       "    if (event.altKey && event.which != 18)\n",
       "        value += \"alt+\";\n",
       "    if (event.shiftKey && event.which != 16)\n",
       "        value += \"shift+\";\n",
       "\n",
       "    value += 'k';\n",
       "    value += event.which.toString();\n",
       "\n",
       "    this._key_event_extra(event, name);\n",
       "\n",
       "    this.send_message(name, {key: value,\n",
       "                             guiEvent: simpleKeys(event)});\n",
       "    return false;\n",
       "}\n",
       "\n",
       "mpl.figure.prototype.toolbar_button_onclick = function(name) {\n",
       "    if (name == 'download') {\n",
       "        this.handle_save(this, null);\n",
       "    } else {\n",
       "        this.send_message(\"toolbar_button\", {name: name});\n",
       "    }\n",
       "};\n",
       "\n",
       "mpl.figure.prototype.toolbar_button_onmouseover = function(tooltip) {\n",
       "    this.message.textContent = tooltip;\n",
       "};\n",
       "mpl.toolbar_items = [[\"Home\", \"Reset original view\", \"fa fa-home icon-home\", \"home\"], [\"Back\", \"Back to  previous view\", \"fa fa-arrow-left icon-arrow-left\", \"back\"], [\"Forward\", \"Forward to next view\", \"fa fa-arrow-right icon-arrow-right\", \"forward\"], [\"\", \"\", \"\", \"\"], [\"Pan\", \"Pan axes with left mouse, zoom with right\", \"fa fa-arrows icon-move\", \"pan\"], [\"Zoom\", \"Zoom to rectangle\", \"fa fa-square-o icon-check-empty\", \"zoom\"], [\"\", \"\", \"\", \"\"], [\"Download\", \"Download plot\", \"fa fa-floppy-o icon-save\", \"download\"]];\n",
       "\n",
       "mpl.extensions = [\"eps\", \"jpeg\", \"pdf\", \"png\", \"ps\", \"raw\", \"svg\", \"tif\"];\n",
       "\n",
       "mpl.default_extension = \"png\";var comm_websocket_adapter = function(comm) {\n",
       "    // Create a \"websocket\"-like object which calls the given IPython comm\n",
       "    // object with the appropriate methods. Currently this is a non binary\n",
       "    // socket, so there is still some room for performance tuning.\n",
       "    var ws = {};\n",
       "\n",
       "    ws.close = function() {\n",
       "        comm.close()\n",
       "    };\n",
       "    ws.send = function(m) {\n",
       "        //console.log('sending', m);\n",
       "        comm.send(m);\n",
       "    };\n",
       "    // Register the callback with on_msg.\n",
       "    comm.on_msg(function(msg) {\n",
       "        //console.log('receiving', msg['content']['data'], msg);\n",
       "        // Pass the mpl event to the overriden (by mpl) onmessage function.\n",
       "        ws.onmessage(msg['content']['data'])\n",
       "    });\n",
       "    return ws;\n",
       "}\n",
       "\n",
       "mpl.mpl_figure_comm = function(comm, msg) {\n",
       "    // This is the function which gets called when the mpl process\n",
       "    // starts-up an IPython Comm through the \"matplotlib\" channel.\n",
       "\n",
       "    var id = msg.content.data.id;\n",
       "    // Get hold of the div created by the display call when the Comm\n",
       "    // socket was opened in Python.\n",
       "    var element = $(\"#\" + id);\n",
       "    var ws_proxy = comm_websocket_adapter(comm)\n",
       "\n",
       "    function ondownload(figure, format) {\n",
       "        window.open(figure.imageObj.src);\n",
       "    }\n",
       "\n",
       "    var fig = new mpl.figure(id, ws_proxy,\n",
       "                           ondownload,\n",
       "                           element.get(0));\n",
       "\n",
       "    // Call onopen now - mpl needs it, as it is assuming we've passed it a real\n",
       "    // web socket which is closed, not our websocket->open comm proxy.\n",
       "    ws_proxy.onopen();\n",
       "\n",
       "    fig.parent_element = element.get(0);\n",
       "    fig.cell_info = mpl.find_output_cell(\"<div id='\" + id + \"'></div>\");\n",
       "    if (!fig.cell_info) {\n",
       "        console.error(\"Failed to find cell for figure\", id, fig);\n",
       "        return;\n",
       "    }\n",
       "\n",
       "    var output_index = fig.cell_info[2]\n",
       "    var cell = fig.cell_info[0];\n",
       "\n",
       "};\n",
       "\n",
       "mpl.figure.prototype.handle_close = function(fig, msg) {\n",
       "    var width = fig.canvas.width/mpl.ratio\n",
       "    fig.root.unbind('remove')\n",
       "\n",
       "    // Update the output cell to use the data from the current canvas.\n",
       "    fig.push_to_output();\n",
       "    var dataURL = fig.canvas.toDataURL();\n",
       "    // Re-enable the keyboard manager in IPython - without this line, in FF,\n",
       "    // the notebook keyboard shortcuts fail.\n",
       "    IPython.keyboard_manager.enable()\n",
       "    $(fig.parent_element).html('<img src=\"' + dataURL + '\" width=\"' + width + '\">');\n",
       "    fig.close_ws(fig, msg);\n",
       "}\n",
       "\n",
       "mpl.figure.prototype.close_ws = function(fig, msg){\n",
       "    fig.send_message('closing', msg);\n",
       "    // fig.ws.close()\n",
       "}\n",
       "\n",
       "mpl.figure.prototype.push_to_output = function(remove_interactive) {\n",
       "    // Turn the data on the canvas into data in the output cell.\n",
       "    var width = this.canvas.width/mpl.ratio\n",
       "    var dataURL = this.canvas.toDataURL();\n",
       "    this.cell_info[1]['text/html'] = '<img src=\"' + dataURL + '\" width=\"' + width + '\">';\n",
       "}\n",
       "\n",
       "mpl.figure.prototype.updated_canvas_event = function() {\n",
       "    // Tell IPython that the notebook contents must change.\n",
       "    IPython.notebook.set_dirty(true);\n",
       "    this.send_message(\"ack\", {});\n",
       "    var fig = this;\n",
       "    // Wait a second, then push the new image to the DOM so\n",
       "    // that it is saved nicely (might be nice to debounce this).\n",
       "    setTimeout(function () { fig.push_to_output() }, 1000);\n",
       "}\n",
       "\n",
       "mpl.figure.prototype._init_toolbar = function() {\n",
       "    var fig = this;\n",
       "\n",
       "    var nav_element = $('<div/>')\n",
       "    nav_element.attr('style', 'width: 100%');\n",
       "    this.root.append(nav_element);\n",
       "\n",
       "    // Define a callback function for later on.\n",
       "    function toolbar_event(event) {\n",
       "        return fig.toolbar_button_onclick(event['data']);\n",
       "    }\n",
       "    function toolbar_mouse_event(event) {\n",
       "        return fig.toolbar_button_onmouseover(event['data']);\n",
       "    }\n",
       "\n",
       "    for(var toolbar_ind in mpl.toolbar_items){\n",
       "        var name = mpl.toolbar_items[toolbar_ind][0];\n",
       "        var tooltip = mpl.toolbar_items[toolbar_ind][1];\n",
       "        var image = mpl.toolbar_items[toolbar_ind][2];\n",
       "        var method_name = mpl.toolbar_items[toolbar_ind][3];\n",
       "\n",
       "        if (!name) { continue; };\n",
       "\n",
       "        var button = $('<button class=\"btn btn-default\" href=\"#\" title=\"' + name + '\"><i class=\"fa ' + image + ' fa-lg\"></i></button>');\n",
       "        button.click(method_name, toolbar_event);\n",
       "        button.mouseover(tooltip, toolbar_mouse_event);\n",
       "        nav_element.append(button);\n",
       "    }\n",
       "\n",
       "    // Add the status bar.\n",
       "    var status_bar = $('<span class=\"mpl-message\" style=\"text-align:right; float: right;\"/>');\n",
       "    nav_element.append(status_bar);\n",
       "    this.message = status_bar[0];\n",
       "\n",
       "    // Add the close button to the window.\n",
       "    var buttongrp = $('<div class=\"btn-group inline pull-right\"></div>');\n",
       "    var button = $('<button class=\"btn btn-mini btn-primary\" href=\"#\" title=\"Stop Interaction\"><i class=\"fa fa-power-off icon-remove icon-large\"></i></button>');\n",
       "    button.click(function (evt) { fig.handle_close(fig, {}); } );\n",
       "    button.mouseover('Stop Interaction', toolbar_mouse_event);\n",
       "    buttongrp.append(button);\n",
       "    var titlebar = this.root.find($('.ui-dialog-titlebar'));\n",
       "    titlebar.prepend(buttongrp);\n",
       "}\n",
       "\n",
       "mpl.figure.prototype._root_extra_style = function(el){\n",
       "    var fig = this\n",
       "    el.on(\"remove\", function(){\n",
       "\tfig.close_ws(fig, {});\n",
       "    });\n",
       "}\n",
       "\n",
       "mpl.figure.prototype._canvas_extra_style = function(el){\n",
       "    // this is important to make the div 'focusable\n",
       "    el.attr('tabindex', 0)\n",
       "    // reach out to IPython and tell the keyboard manager to turn it's self\n",
       "    // off when our div gets focus\n",
       "\n",
       "    // location in version 3\n",
       "    if (IPython.notebook.keyboard_manager) {\n",
       "        IPython.notebook.keyboard_manager.register_events(el);\n",
       "    }\n",
       "    else {\n",
       "        // location in version 2\n",
       "        IPython.keyboard_manager.register_events(el);\n",
       "    }\n",
       "\n",
       "}\n",
       "\n",
       "mpl.figure.prototype._key_event_extra = function(event, name) {\n",
       "    var manager = IPython.notebook.keyboard_manager;\n",
       "    if (!manager)\n",
       "        manager = IPython.keyboard_manager;\n",
       "\n",
       "    // Check for shift+enter\n",
       "    if (event.shiftKey && event.which == 13) {\n",
       "        this.canvas_div.blur();\n",
       "        event.shiftKey = false;\n",
       "        // Send a \"J\" for go to next cell\n",
       "        event.which = 74;\n",
       "        event.keyCode = 74;\n",
       "        manager.command_mode();\n",
       "        manager.handle_keydown(event);\n",
       "    }\n",
       "}\n",
       "\n",
       "mpl.figure.prototype.handle_save = function(fig, msg) {\n",
       "    fig.ondownload(fig, null);\n",
       "}\n",
       "\n",
       "\n",
       "mpl.find_output_cell = function(html_output) {\n",
       "    // Return the cell and output element which can be found *uniquely* in the notebook.\n",
       "    // Note - this is a bit hacky, but it is done because the \"notebook_saving.Notebook\"\n",
       "    // IPython event is triggered only after the cells have been serialised, which for\n",
       "    // our purposes (turning an active figure into a static one), is too late.\n",
       "    var cells = IPython.notebook.get_cells();\n",
       "    var ncells = cells.length;\n",
       "    for (var i=0; i<ncells; i++) {\n",
       "        var cell = cells[i];\n",
       "        if (cell.cell_type === 'code'){\n",
       "            for (var j=0; j<cell.output_area.outputs.length; j++) {\n",
       "                var data = cell.output_area.outputs[j];\n",
       "                if (data.data) {\n",
       "                    // IPython >= 3 moved mimebundle to data attribute of output\n",
       "                    data = data.data;\n",
       "                }\n",
       "                if (data['text/html'] == html_output) {\n",
       "                    return [cell, data, j];\n",
       "                }\n",
       "            }\n",
       "        }\n",
       "    }\n",
       "}\n",
       "\n",
       "// Register the function which deals with the matplotlib target/channel.\n",
       "// The kernel may be null if the page has been refreshed.\n",
       "if (IPython.notebook.kernel != null) {\n",
       "    IPython.notebook.kernel.comm_manager.register_target('matplotlib', mpl.mpl_figure_comm);\n",
       "}\n"
      ],
      "text/plain": [
       "<IPython.core.display.Javascript object>"
      ]
     },
     "metadata": {},
     "output_type": "display_data"
    },
    {
     "data": {
      "text/html": [
       "<img src=\"data:image/png;base64,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\" width=\"639.3723642934733\">"
      ],
      "text/plain": [
       "<IPython.core.display.HTML object>"
      ]
     },
     "metadata": {},
     "output_type": "display_data"
    }
   ],
   "source": [
    "plt.figure()  # Para no tener que cerrar la interacción con gráficas anteriores\n",
    "plt.barh(horas_dia.index, horas_dia.values);"
   ]
  },
  {
   "cell_type": "markdown",
   "metadata": {},
   "source": [
    "Puedes encontrar información más detallada de estas funciones en el [API de matplotlib.pyplot](https://matplotlib.org/api/_as_gen/matplotlib.pyplot.html) y en este [tutorial de introducción a matplotlib](introduccion_matplotlib.ipynb)."
   ]
  },
  {
   "cell_type": "code",
   "execution_count": 16,
   "metadata": {},
   "outputs": [],
   "source": [
    "plt.barh(horas_dia.index, horas_dia.values);"
   ]
  },
  {
   "cell_type": "markdown",
   "metadata": {},
   "source": [
    "[Volver al índice](#indice)"
   ]
  },
  {
   "cell_type": "markdown",
   "metadata": {},
   "source": [
    "<a id='ejercicios'></a>\n",
    "## Ejercicios"
   ]
  },
  {
   "cell_type": "markdown",
   "metadata": {},
   "source": [
    "- Crea una serie que contenga como etiquetas los meses del año y como valores el número de días que tiene cada mes (considera un año no bisiesto)"
   ]
  },
  {
   "cell_type": "code",
   "execution_count": null,
   "metadata": {},
   "outputs": [],
   "source": []
  },
  {
   "cell_type": "markdown",
   "metadata": {},
   "source": [
    "- Muestra los 6 primeros meses y sus respectivos días"
   ]
  },
  {
   "cell_type": "code",
   "execution_count": null,
   "metadata": {},
   "outputs": [],
   "source": []
  },
  {
   "cell_type": "markdown",
   "metadata": {},
   "source": [
    "- Muestra los 6 últimos meses (y sus respectivos días) en orden inverso"
   ]
  },
  {
   "cell_type": "code",
   "execution_count": null,
   "metadata": {},
   "outputs": [],
   "source": []
  },
  {
   "cell_type": "markdown",
   "metadata": {},
   "source": [
    "- Muestra los meses de Marzo a Septiembre"
   ]
  },
  {
   "cell_type": "code",
   "execution_count": null,
   "metadata": {},
   "outputs": [],
   "source": []
  },
  {
   "cell_type": "markdown",
   "metadata": {},
   "source": [
    "- Pide al usuario que introduzca un número de mes [1-12] y muestra cuántos días tiene"
   ]
  },
  {
   "cell_type": "code",
   "execution_count": null,
   "metadata": {},
   "outputs": [],
   "source": []
  },
  {
   "cell_type": "markdown",
   "metadata": {},
   "source": [
    "- Pide al usuario que introduzca el nombre de un mes y muestre cuántos días tiene"
   ]
  },
  {
   "cell_type": "code",
   "execution_count": null,
   "metadata": {},
   "outputs": [],
   "source": []
  },
  {
   "cell_type": "markdown",
   "metadata": {},
   "source": [
    "- Muestra los meses con menos de 31 días"
   ]
  },
  {
   "cell_type": "code",
   "execution_count": null,
   "metadata": {},
   "outputs": [],
   "source": []
  },
  {
   "cell_type": "markdown",
   "metadata": {},
   "source": [
    "- Muestra un histograma con la frecuencia de meses según el número de días"
   ]
  },
  {
   "cell_type": "code",
   "execution_count": null,
   "metadata": {},
   "outputs": [],
   "source": []
  },
  {
   "cell_type": "markdown",
   "metadata": {},
   "source": [
    "[Volver al índice](#indice)"
   ]
  },
  {
   "cell_type": "markdown",
   "metadata": {},
   "source": [
    "<a id='biblio'></a>\n",
    "## Bibliografía\n",
    "\n",
    "- **Learning pandas - Second Edition.** Heydt, Michael | Packt Publishing, Limited | 2017 [Acceso en línea](https://polibuscador.upv.es/permalink/f/1h4f73s/TN_pq_ebook_centralEBC4898666)\n",
    "- **Python for data analysis:  Data Wrangling with Pandas, NumPy, and IPython.** Mckinney, Wes | O'Reilly Media, Incorporated | 2017 [Acceso en línea](https://polibuscador.upv.es/permalink/f/aaa6qf/alma5160520520003706)\n",
    "- **Python for Data Science For Dummies.** Massaron, Luca and Mueller, John | For Dummies, 2015 [Acceso en línea](https://polibuscador.upv.es/permalink/f/1h4f73s/TN_pq_ebook_centralEBC1895113)"
   ]
  }
 ],
 "metadata": {
  "kernelspec": {
   "display_name": "Python 3",
   "language": "python",
   "name": "python3"
  },
  "language_info": {
   "codemirror_mode": {
    "name": "ipython",
    "version": 3
   },
   "file_extension": ".py",
   "mimetype": "text/x-python",
   "name": "python",
   "nbconvert_exporter": "python",
   "pygments_lexer": "ipython3",
   "version": "3.6.9"
  }
 },
 "nbformat": 4,
 "nbformat_minor": 2
}
