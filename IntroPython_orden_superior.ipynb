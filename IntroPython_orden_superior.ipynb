{
 "cells": [
  {
   "cell_type": "markdown",
   "metadata": {},
   "source": [
    "# Funciones de orden superior"
   ]
  },
  {
   "cell_type": "markdown",
   "metadata": {},
   "source": [
    "En este tutorial vamos a ver que Python permite lo que se denominan *higher order functions* o, en castellano, funciones de orden superior.\n",
    "\n",
    "La idea general se explica [en el siguiente enlace](https://en.wikipedia.org/wiki/Higher-order_function), aunque lo resumimos aquí:\n",
    "- Es posible pasar una función como argumento a otra.\n",
    "- Una función puede devolver, entre otras cosas, otra función.\n",
    "\n",
    "Aunque todo esto suele relacionarse con el uso de funciones como [map](https://docs.python.org/3/library/functions.html#map) o [filter](https://docs.python.org/3/library/functions.html#map), aquí nos vamos a limitar a explicar que es posible asignar una función a una variable, a una lista, al valor guardado en un diccionario, etc. y luego veremos que es posible ejecutar esa función más adelante, incluso cuando los argumentos nos los pasan como una tupla (uso de `*`) o como un diccionario (uso de `**`).\n",
    "\n",
    "Empezamos definiendo una función muy simple que realiza la suma de sus dos argumentos:"
   ]
  },
  {
   "cell_type": "code",
   "execution_count": 1,
   "metadata": {},
   "outputs": [
    {
     "name": "stdout",
     "output_type": "stream",
     "text": [
      "Hola, soy una función, me han pasado los argumentos: 5 7\n"
     ]
    },
    {
     "data": {
      "text/plain": [
       "12"
      ]
     },
     "execution_count": 1,
     "metadata": {},
     "output_type": "execute_result"
    }
   ],
   "source": [
    "def funcion(x, y):\n",
    "    print(\"Hola, soy una función, me han pasado los argumentos:\",x,y)\n",
    "    return x+y\n",
    "\n",
    "funcion(5,7)"
   ]
  },
  {
   "cell_type": "markdown",
   "metadata": {},
   "source": [
    "Vamos a ver que es posible asignar la función (sin invocarla) a una variable, y después usar la función desde dicha variable:"
   ]
  },
  {
   "cell_type": "code",
   "execution_count": 2,
   "metadata": {},
   "outputs": [
    {
     "name": "stdout",
     "output_type": "stream",
     "text": [
      "Hola, soy una función, me han pasado los argumentos: 3 4\n"
     ]
    },
    {
     "data": {
      "text/plain": [
       "7"
      ]
     },
     "execution_count": 2,
     "metadata": {},
     "output_type": "execute_result"
    }
   ],
   "source": [
    "variable = funcion\n",
    "variable(3,4)"
   ]
  },
  {
   "cell_type": "markdown",
   "metadata": {},
   "source": [
    "Y lo mismo en una lista, una tupla, un diccionario..."
   ]
  },
  {
   "cell_type": "code",
   "execution_count": 3,
   "metadata": {},
   "outputs": [
    {
     "name": "stdout",
     "output_type": "stream",
     "text": [
      "Hola, soy una función, me han pasado los argumentos: 4 4\n",
      "Hola, soy una función, me han pasado los argumentos: 3 9\n"
     ]
    },
    {
     "data": {
      "text/plain": [
       "12"
      ]
     },
     "execution_count": 3,
     "metadata": {},
     "output_type": "execute_result"
    }
   ],
   "source": [
    "lista = ['hola',funcion,variable]\n",
    "lista[1](4,4)\n",
    "lista[2](3,9)"
   ]
  },
  {
   "cell_type": "code",
   "execution_count": 4,
   "metadata": {},
   "outputs": [
    {
     "name": "stdout",
     "output_type": "stream",
     "text": [
      "Hola, soy una función, me han pasado los argumentos: 3 2\n"
     ]
    },
    {
     "data": {
      "text/plain": [
       "5"
      ]
     },
     "execution_count": 4,
     "metadata": {},
     "output_type": "execute_result"
    }
   ],
   "source": [
    "tupla = (funcion,funcion,None,True,funcion)\n",
    "tupla[1](3,2)"
   ]
  },
  {
   "cell_type": "code",
   "execution_count": 5,
   "metadata": {},
   "outputs": [
    {
     "name": "stdout",
     "output_type": "stream",
     "text": [
      "Hola, soy una función, me han pasado los argumentos: 2 1\n"
     ]
    },
    {
     "data": {
      "text/plain": [
       "3"
      ]
     },
     "execution_count": 5,
     "metadata": {},
     "output_type": "execute_result"
    }
   ],
   "source": [
    "diccionario = { \"hola\": funcion }\n",
    "diccionario[\"hola\"](2,1)"
   ]
  },
  {
   "cell_type": "markdown",
   "metadata": {},
   "source": [
    "##  Uso de `*` y de `**` en las llamadas a función"
   ]
  },
  {
   "cell_type": "markdown",
   "metadata": {},
   "source": [
    "¿Qué pasa si tenemos varias funciones y cada una recibe un número diferente de argumentos? Por ejemplo, vamos a definir otras dos funciones que no reciben 2 argumentos:"
   ]
  },
  {
   "cell_type": "code",
   "execution_count": 14,
   "metadata": {},
   "outputs": [],
   "source": [
    "def otrafuncion(x):\n",
    "    print(\"Soy una función con un solo argumento:\",x)\n",
    "    return x**2\n",
    "\n",
    "def detresargumentos(x,y,z):\n",
    "    print(\"Se está ejecutando una función con 3 argumentos:\",x,y,z)\n",
    "    return x+\"-\"+y+\"-\"+z\n",
    "\n",
    "listafunciones = [funcion, otrafuncion, detresargumentos]\n",
    "listaargumentos = [(2,5), (12,), (\"uno\",\"dos\",\"tres\")]\n",
    "# atención!! observa cómo la tupla (12,) lleva una coma, sin ella sería el entero 12"
   ]
  },
  {
   "cell_type": "markdown",
   "metadata": {},
   "source": [
    "Acabamos de definir otras dos funciones y hemos creado dos listas Python:\n",
    "- Una lista `listafunciones` con las tres funciones.\n",
    "- Otra lista `listaargumentos` con una tupla por cada una de las funciones de la lista anterior. Cada tupla tiene los argumentos que nos gustaría pasar a la función que ocupa la misma posición en la lista `listafunciones`.\n",
    "\n",
    "Nos gustaría poder hacer algo así:\n",
    "\n",
    "```\n",
    "for i in range(len(listafunciones)):\n",
    "    listafunciones[i](listaargumentos[i])\n",
    "```\n",
    "\n",
    "pero, lamentablemente, daría este error:\n",
    "\n",
    "```\n",
    "---------------------------------------------------------------------------\n",
    "TypeError                                 Traceback (most recent call last)\n",
    "<ipython-input-7-1ce3ea1647ea> in <module>()\n",
    "      1 for i in range(len(listafunciones)):\n",
    "----> 2     listafunciones[i](listaargumentos[i])\n",
    "\n",
    "TypeError: funcion() missing 1 required positional argument: 'y'\n",
    "```\n",
    "\n",
    "Para poder resolver esto pondremos el símbolo asterisco `*` a la izquierda de la tupla que pasamos como argumento para indicar que esa tupla respresenta todos los argumentos de la función. Es decir, para **desempaquetar** la tupla y que se use como los argumentos de la función, tal y como muestra el siguiente ejemplo:"
   ]
  },
  {
   "cell_type": "code",
   "execution_count": 15,
   "metadata": {},
   "outputs": [
    {
     "name": "stdout",
     "output_type": "stream",
     "text": [
      "Hola, soy una función, me han pasado los argumentos: 2 5\n"
     ]
    },
    {
     "data": {
      "text/plain": [
       "7"
      ]
     },
     "execution_count": 15,
     "metadata": {},
     "output_type": "execute_result"
    }
   ],
   "source": [
    "unatupla = (2,5)\n",
    "funcion(*unatupla)"
   ]
  },
  {
   "cell_type": "code",
   "execution_count": 16,
   "metadata": {},
   "outputs": [
    {
     "name": "stdout",
     "output_type": "stream",
     "text": [
      "Hola, soy una función, me han pasado los argumentos: 2 5\n",
      "Soy una función con un solo argumento: 12\n",
      "Se está ejecutando una función con 3 argumentos: uno dos tres\n"
     ]
    }
   ],
   "source": [
    "for i in range(len(listafunciones)):\n",
    "    f = listafunciones[i]\n",
    "    a = listaargumentos[i]\n",
    "    f(*a)"
   ]
  },
  {
   "cell_type": "markdown",
   "metadata": {},
   "source": [
    "Podemos reescribir el código anterior usando la función [zip](https://docs.python.org/3/library/functions.html#zip) de la manera siguiente:"
   ]
  },
  {
   "cell_type": "code",
   "execution_count": 17,
   "metadata": {},
   "outputs": [
    {
     "name": "stdout",
     "output_type": "stream",
     "text": [
      "Hola, soy una función, me han pasado los argumentos: 2 5\n",
      "Soy una función con un solo argumento: 12\n",
      "Se está ejecutando una función con 3 argumentos: uno dos tres\n"
     ]
    }
   ],
   "source": [
    "for f,a in zip(listafunciones,listaargumentos):\n",
    "    f(*a)"
   ]
  },
  {
   "cell_type": "markdown",
   "metadata": {},
   "source": [
    "Ya sabemos que, en Python, además de argumentos posicionales, podemos tener argumentos con nombres, como muestra el ejemplo siguiente:"
   ]
  },
  {
   "cell_type": "code",
   "execution_count": 18,
   "metadata": {},
   "outputs": [
    {
     "name": "stdout",
     "output_type": "stream",
     "text": [
      "1 2 hola world\n"
     ]
    }
   ],
   "source": [
    "isinstance(uncirculo,MiClase)def ejfuncion(a,b,c=\"hola\",d=\"mundo\"):\n",
    "    print(a,b,c,d)\n",
    "\n",
    "ejfuncion(1,2,d=\"world\")"
   ]
  },
  {
   "cell_type": "markdown",
   "metadata": {},
   "source": [
    "Al igual que poner `*` delante de una tupla sirve para desempaquetar sus elementos y pasárselos a una función, podemos utilizar `**` para hacer lo mismo (desempaquetar) con un diccionario que nos servirá para dar valores a los argumentos con nombre, tal y como muestra el siguiente ejemplo:"
   ]
  },
  {
   "cell_type": "code",
   "execution_count": 24,
   "metadata": {},
   "outputs": [
    {
     "name": "stdout",
     "output_type": "stream",
     "text": [
      "7 8 hello world\n"
     ]
    }
   ],
   "source": [
    "tupla = (7,8)\n",
    "dicci = { 'c':'hello', 'd':'world'}\n",
    "ejfuncion(*tupla,**dicci)"
   ]
  },
  {
   "cell_type": "markdown",
   "metadata": {},
   "source": [
    "# Diccionarios y funciones"
   ]
  },
  {
   "cell_type": "markdown",
   "metadata": {},
   "source": [
    "Vamos a ver que es posible guardar funciones Python como valores de los diccionarios y que estas funciones se pueden pasar como argumentos a otras funciones."
   ]
  },
  {
   "cell_type": "markdown",
   "metadata": {},
   "source": [
    "### Creación de un diccionario con funciones"
   ]
  },
  {
   "cell_type": "code",
   "execution_count": 1,
   "metadata": {},
   "outputs": [
    {
     "name": "stdout",
     "output_type": "stream",
     "text": [
      "{'primera': <function funcion1 at 0x7f6ed013d730>, 'segunda': <function funcion2 at 0x7f6ed013d7b8>}\n"
     ]
    }
   ],
   "source": [
    "# Vamos a crear una serie de funciones:\n",
    "def funcion1():\n",
    "    print(\"Soy la función 1\")\n",
    "\n",
    "def funcion2():\n",
    "    print(\"Soy la función 2\")\n",
    "\n",
    "# y ahora creamos un diccionario que tiene como valores las funciones\n",
    "# definidas anteriormente:\n",
    "d = { 'primera':funcion1, 'segunda':funcion2 }\n",
    "\n",
    "print(d)"
   ]
  },
  {
   "cell_type": "markdown",
   "metadata": {},
   "source": [
    "### Recorrido de un diccionario"
   ]
  },
  {
   "cell_type": "code",
   "execution_count": 9,
   "metadata": {},
   "outputs": [
    {
     "name": "stdout",
     "output_type": "stream",
     "text": [
      "primera\n",
      "segunda\n",
      "\n",
      "Ahora usando keys:\n",
      "primera\n",
      "segunda\n"
     ]
    }
   ],
   "source": [
    "# sobre un diccionario podemos obtener varias cosas\n",
    "# y realizar varios tipos de recorrido, lo más inmediato\n",
    "# es:\n",
    "for clave in d:\n",
    "    print(clave)\n",
    "\n",
    "# es equivalente a usar keys:\n",
    "print(\"\\nAhora usando keys:\")\n",
    "for clave in d.keys():\n",
    "    print(clave)"
   ]
  },
  {
   "cell_type": "code",
   "execution_count": 12,
   "metadata": {},
   "outputs": [
    {
     "name": "stdout",
     "output_type": "stream",
     "text": [
      "primera <function funcion1 at 0x7f6ed013d730>\n",
      "Lo ejecuto:\n",
      "Soy la función 1\n",
      "segunda <function funcion2 at 0x7f6ed013d7b8>\n",
      "Lo ejecuto:\n",
      "Soy la función 2\n"
     ]
    }
   ],
   "source": [
    "# y en ese bucle podemos acceder a sus valores así:\n",
    "for clave in d:\n",
    "    f = d[clave]\n",
    "    print(clave, f)\n",
    "    print(\"Lo ejecuto:\")\n",
    "    f() # en este caso basta con poner () tras una ref. a la función\n",
    "    # también se podría poner d[clave]()"
   ]
  },
  {
   "cell_type": "code",
   "execution_count": 13,
   "metadata": {},
   "outputs": [
    {
     "name": "stdout",
     "output_type": "stream",
     "text": [
      "primera <function funcion1 at 0x7f6ed013d730>\n",
      "Lo ejecuto:\n",
      "Soy la función 1\n",
      "segunda <function funcion2 at 0x7f6ed013d7b8>\n",
      "Lo ejecuto:\n",
      "Soy la función 2\n"
     ]
    }
   ],
   "source": [
    "for clave,f in d.items():\n",
    "    print(clave, f)\n",
    "    print(\"Lo ejecuto:\")\n",
    "    f()\n",
    "    "
   ]
  },
  {
   "cell_type": "code",
   "execution_count": null,
   "metadata": {},
   "outputs": [],
   "source": []
  }
 ],
 "metadata": {
  "kernelspec": {
   "display_name": "Python 3",
   "language": "python",
   "name": "python3"
  },
  "language_info": {
   "codemirror_mode": {
    "name": "ipython",
    "version": 3
   },
   "file_extension": ".py",
   "mimetype": "text/x-python",
   "name": "python",
   "nbconvert_exporter": "python",
   "pygments_lexer": "ipython3",
   "version": "3.6.9"
  }
 },
 "nbformat": 4,
 "nbformat_minor": 2
}
